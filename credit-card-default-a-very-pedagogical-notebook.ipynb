{
 "cells": [
  {
   "cell_type": "markdown",
   "metadata": {
    "_cell_guid": "41ecf8cf-6358-4bfd-88b7-a721976fccfc",
    "_uuid": "a74f371efbfb4ad4087242386c893e69c72d720d"
   },
   "source": [
    "# Introduction\n",
    "This notebook was created to learn basic techniques of data manipulation and machine learning. The idea is to use the dataset UCI_Credit_Card to improve basic skills of data cleaning, data analysis, data visualization and machine learning. It is primarily intended to help myself understanding what to do and how. Any feedback is welcome.\n",
    "\n",
    "\n",
    "## Variables\n",
    "There are 25 variables:\n",
    "\n",
    "* ID: ID of each client\n",
    "* LIMIT_BAL: Amount of given credit in NT dollars (includes individual and family/supplementary credit\n",
    "* SEX: Gender (1=male, 2=female)\n",
    "* EDUCATION: (1=graduate school, 2=university, 3=high school, 4=others, 5=unknown, 6=unknown)\n",
    "* MARRIAGE: Marital status (1=married, 2=single, 3=others)\n",
    "* AGE: Age in years\n",
    "* PAY_0: Repayment status in September, 2005 (-1=pay duly, 1=payment delay for one month, 2=payment delay for two months, ... 8=payment delay for eight months, 9=payment delay for nine months and above)\n",
    "* PAY_2: Repayment status in August, 2005 (scale same as above)\n",
    "* PAY_3: Repayment status in July, 2005 (scale same as above)\n",
    "* PAY_4: Repayment status in June, 2005 (scale same as above)\n",
    "* PAY_5: Repayment status in May, 2005 (scale same as above)\n",
    "* PAY_6: Repayment status in April, 2005 (scale same as above)\n",
    "* BILL_AMT1: Amount of bill statement in September, 2005 (NT dollar)\n",
    "* BILL_AMT2: Amount of bill statement in August, 2005 (NT dollar)\n",
    "* BILL_AMT3: Amount of bill statement in July, 2005 (NT dollar)\n",
    "* BILL_AMT4: Amount of bill statement in June, 2005 (NT dollar)\n",
    "* BILL_AMT5: Amount of bill statement in May, 2005 (NT dollar)\n",
    "* BILL_AMT6: Amount of bill statement in April, 2005 (NT dollar)\n",
    "* PAY_AMT1: Amount of previous payment in September, 2005 (NT dollar)\n",
    "* PAY_AMT2: Amount of previous payment in August, 2005 (NT dollar)\n",
    "* PAY_AMT3: Amount of previous payment in July, 2005 (NT dollar)\n",
    "* PAY_AMT4: Amount of previous payment in June, 2005 (NT dollar)\n",
    "* PAY_AMT5: Amount of previous payment in May, 2005 (NT dollar)\n",
    "* PAY_AMT6: Amount of previous payment in April, 2005 (NT dollar)\n",
    "* default.payment.next.month: Default payment (1=yes, 0=no)\n",
    "\n",
    "## Goal and plan\n",
    "\n",
    "Looking at the problem, I see a potential use of this kind of data: how well can we predict, month by month, the default of our clients? In other words, how well our model performs if we just use the data of the first 2 months with respect to when we use 6 months of payment history? \n",
    "\n",
    "However, since I have a lot of ground to cover, I will focus on a simpler problem: can I predict the default with a month of advance?\n",
    "\n",
    "The notebook is structured as follows:\n",
    "\n",
    "* First exploration: just to see what we have.\n",
    "* Cleaning: time to make choices about undocumented labels\n",
    "* Feature engineering: time to be creative\n",
    "* Final result and lessons learned\n",
    "\n",
    "There is an extra step: blind machine learning, because with my short experience I have already found a few pitfalls in my process and I want to share them."
   ]
  },
  {
   "cell_type": "code",
   "execution_count": 1,
   "metadata": {
    "_cell_guid": "2bbbd9be-d5d6-4607-9786-072d67b87303",
    "_uuid": "5ba24adc75c0d29f38ff44a0718bb2d8034ba584"
   },
   "outputs": [],
   "source": [
    "# Import basic libraries\n",
    "import numpy as np # linear algebra\n",
    "import pandas as pd # data processing, CSV file I/O (e.g. pd.read_csv)\n",
    "\n",
    "# import visualization libraries\n",
    "import seaborn as sns\n",
    "import matplotlib.pyplot as plt\n",
    "#from ggplot import *\n",
    "%matplotlib inline"
   ]
  },
  {
   "cell_type": "code",
   "execution_count": 2,
   "metadata": {
    "_cell_guid": "373de127-2f57-439e-b3fb-febc86cf821c",
    "_uuid": "866eacd59f720b77731a2e041471b5999ac4906c"
   },
   "outputs": [
    {
     "data": {
      "text/html": [
       "<div>\n",
       "<style scoped>\n",
       "    .dataframe tbody tr th:only-of-type {\n",
       "        vertical-align: middle;\n",
       "    }\n",
       "\n",
       "    .dataframe tbody tr th {\n",
       "        vertical-align: top;\n",
       "    }\n",
       "\n",
       "    .dataframe thead th {\n",
       "        text-align: right;\n",
       "    }\n",
       "</style>\n",
       "<table border=\"1\" class=\"dataframe\">\n",
       "  <thead>\n",
       "    <tr style=\"text-align: right;\">\n",
       "      <th></th>\n",
       "      <th>ID</th>\n",
       "      <th>LIMIT_BAL</th>\n",
       "      <th>SEX</th>\n",
       "      <th>EDUCATION</th>\n",
       "      <th>MARRIAGE</th>\n",
       "      <th>AGE</th>\n",
       "      <th>PAY_0</th>\n",
       "      <th>PAY_2</th>\n",
       "      <th>PAY_3</th>\n",
       "      <th>PAY_4</th>\n",
       "      <th>...</th>\n",
       "      <th>BILL_AMT4</th>\n",
       "      <th>BILL_AMT5</th>\n",
       "      <th>BILL_AMT6</th>\n",
       "      <th>PAY_AMT1</th>\n",
       "      <th>PAY_AMT2</th>\n",
       "      <th>PAY_AMT3</th>\n",
       "      <th>PAY_AMT4</th>\n",
       "      <th>PAY_AMT5</th>\n",
       "      <th>PAY_AMT6</th>\n",
       "      <th>default.payment.next.month</th>\n",
       "    </tr>\n",
       "  </thead>\n",
       "  <tbody>\n",
       "    <tr>\n",
       "      <th>7992</th>\n",
       "      <td>7993</td>\n",
       "      <td>50000.0</td>\n",
       "      <td>2</td>\n",
       "      <td>2</td>\n",
       "      <td>2</td>\n",
       "      <td>23</td>\n",
       "      <td>2</td>\n",
       "      <td>2</td>\n",
       "      <td>2</td>\n",
       "      <td>3</td>\n",
       "      <td>...</td>\n",
       "      <td>34076.0</td>\n",
       "      <td>34685.0</td>\n",
       "      <td>33976.0</td>\n",
       "      <td>2000.0</td>\n",
       "      <td>2800.0</td>\n",
       "      <td>0.0</td>\n",
       "      <td>1300.0</td>\n",
       "      <td>0.0</td>\n",
       "      <td>3700.0</td>\n",
       "      <td>1</td>\n",
       "    </tr>\n",
       "    <tr>\n",
       "      <th>4849</th>\n",
       "      <td>4850</td>\n",
       "      <td>140000.0</td>\n",
       "      <td>2</td>\n",
       "      <td>1</td>\n",
       "      <td>2</td>\n",
       "      <td>27</td>\n",
       "      <td>-1</td>\n",
       "      <td>-1</td>\n",
       "      <td>-2</td>\n",
       "      <td>-2</td>\n",
       "      <td>...</td>\n",
       "      <td>0.0</td>\n",
       "      <td>0.0</td>\n",
       "      <td>0.0</td>\n",
       "      <td>0.0</td>\n",
       "      <td>0.0</td>\n",
       "      <td>0.0</td>\n",
       "      <td>0.0</td>\n",
       "      <td>0.0</td>\n",
       "      <td>2943.0</td>\n",
       "      <td>0</td>\n",
       "    </tr>\n",
       "    <tr>\n",
       "      <th>338</th>\n",
       "      <td>339</td>\n",
       "      <td>50000.0</td>\n",
       "      <td>2</td>\n",
       "      <td>2</td>\n",
       "      <td>1</td>\n",
       "      <td>31</td>\n",
       "      <td>0</td>\n",
       "      <td>0</td>\n",
       "      <td>0</td>\n",
       "      <td>0</td>\n",
       "      <td>...</td>\n",
       "      <td>30929.0</td>\n",
       "      <td>30078.0</td>\n",
       "      <td>29170.0</td>\n",
       "      <td>1974.0</td>\n",
       "      <td>4406.0</td>\n",
       "      <td>1061.0</td>\n",
       "      <td>1073.0</td>\n",
       "      <td>1046.0</td>\n",
       "      <td>1047.0</td>\n",
       "      <td>1</td>\n",
       "    </tr>\n",
       "    <tr>\n",
       "      <th>28918</th>\n",
       "      <td>28919</td>\n",
       "      <td>210000.0</td>\n",
       "      <td>2</td>\n",
       "      <td>2</td>\n",
       "      <td>1</td>\n",
       "      <td>46</td>\n",
       "      <td>-1</td>\n",
       "      <td>2</td>\n",
       "      <td>-1</td>\n",
       "      <td>-1</td>\n",
       "      <td>...</td>\n",
       "      <td>0.0</td>\n",
       "      <td>0.0</td>\n",
       "      <td>0.0</td>\n",
       "      <td>0.0</td>\n",
       "      <td>21451.0</td>\n",
       "      <td>0.0</td>\n",
       "      <td>0.0</td>\n",
       "      <td>0.0</td>\n",
       "      <td>0.0</td>\n",
       "      <td>0</td>\n",
       "    </tr>\n",
       "    <tr>\n",
       "      <th>26164</th>\n",
       "      <td>26165</td>\n",
       "      <td>110000.0</td>\n",
       "      <td>2</td>\n",
       "      <td>1</td>\n",
       "      <td>2</td>\n",
       "      <td>28</td>\n",
       "      <td>0</td>\n",
       "      <td>0</td>\n",
       "      <td>2</td>\n",
       "      <td>2</td>\n",
       "      <td>...</td>\n",
       "      <td>-18.0</td>\n",
       "      <td>-18.0</td>\n",
       "      <td>-18.0</td>\n",
       "      <td>3400.0</td>\n",
       "      <td>0.0</td>\n",
       "      <td>0.0</td>\n",
       "      <td>0.0</td>\n",
       "      <td>0.0</td>\n",
       "      <td>0.0</td>\n",
       "      <td>1</td>\n",
       "    </tr>\n",
       "  </tbody>\n",
       "</table>\n",
       "<p>5 rows × 25 columns</p>\n",
       "</div>"
      ],
      "text/plain": [
       "          ID  LIMIT_BAL  SEX  EDUCATION  MARRIAGE  AGE  PAY_0  PAY_2  PAY_3  \\\n",
       "7992    7993    50000.0    2          2         2   23      2      2      2   \n",
       "4849    4850   140000.0    2          1         2   27     -1     -1     -2   \n",
       "338      339    50000.0    2          2         1   31      0      0      0   \n",
       "28918  28919   210000.0    2          2         1   46     -1      2     -1   \n",
       "26164  26165   110000.0    2          1         2   28      0      0      2   \n",
       "\n",
       "       PAY_4  ...  BILL_AMT4  BILL_AMT5  BILL_AMT6  PAY_AMT1  PAY_AMT2  \\\n",
       "7992       3  ...    34076.0    34685.0    33976.0    2000.0    2800.0   \n",
       "4849      -2  ...        0.0        0.0        0.0       0.0       0.0   \n",
       "338        0  ...    30929.0    30078.0    29170.0    1974.0    4406.0   \n",
       "28918     -1  ...        0.0        0.0        0.0       0.0   21451.0   \n",
       "26164      2  ...      -18.0      -18.0      -18.0    3400.0       0.0   \n",
       "\n",
       "       PAY_AMT3  PAY_AMT4  PAY_AMT5  PAY_AMT6  default.payment.next.month  \n",
       "7992        0.0    1300.0       0.0    3700.0                           1  \n",
       "4849        0.0       0.0       0.0    2943.0                           0  \n",
       "338      1061.0    1073.0    1046.0    1047.0                           1  \n",
       "28918       0.0       0.0       0.0       0.0                           0  \n",
       "26164       0.0       0.0       0.0       0.0                           1  \n",
       "\n",
       "[5 rows x 25 columns]"
      ]
     },
     "execution_count": 2,
     "metadata": {},
     "output_type": "execute_result"
    }
   ],
   "source": [
    "# Load the data\n",
    "\n",
    "df = pd.read_csv(r'C:\\Users\\Admin\\Downloads\\data science\\Classification Dataset\\Credit default\\UCI_Credit_Card.csv')\n",
    "df.sample(5)"
   ]
  },
  {
   "cell_type": "markdown",
   "metadata": {
    "_cell_guid": "c855e309-85e8-426f-ab80-050b16db868c",
    "_uuid": "391f4b0edb2c804475fd6e35cd738025095f00b5"
   },
   "source": [
    "As a first step, let's have a look if there are missing or anomalous data"
   ]
  },
  {
   "cell_type": "code",
   "execution_count": 3,
   "metadata": {
    "_cell_guid": "f6bc9ca2-b40e-4346-838a-922e110d5f20",
    "_uuid": "bf10536e7bcca34164565abf554bffe558ed0d5f"
   },
   "outputs": [
    {
     "name": "stdout",
     "output_type": "stream",
     "text": [
      "<class 'pandas.core.frame.DataFrame'>\n",
      "RangeIndex: 30000 entries, 0 to 29999\n",
      "Data columns (total 25 columns):\n",
      " #   Column                      Non-Null Count  Dtype  \n",
      "---  ------                      --------------  -----  \n",
      " 0   ID                          30000 non-null  int64  \n",
      " 1   LIMIT_BAL                   30000 non-null  float64\n",
      " 2   SEX                         30000 non-null  int64  \n",
      " 3   EDUCATION                   30000 non-null  int64  \n",
      " 4   MARRIAGE                    30000 non-null  int64  \n",
      " 5   AGE                         30000 non-null  int64  \n",
      " 6   PAY_0                       30000 non-null  int64  \n",
      " 7   PAY_2                       30000 non-null  int64  \n",
      " 8   PAY_3                       30000 non-null  int64  \n",
      " 9   PAY_4                       30000 non-null  int64  \n",
      " 10  PAY_5                       30000 non-null  int64  \n",
      " 11  PAY_6                       30000 non-null  int64  \n",
      " 12  BILL_AMT1                   30000 non-null  float64\n",
      " 13  BILL_AMT2                   30000 non-null  float64\n",
      " 14  BILL_AMT3                   30000 non-null  float64\n",
      " 15  BILL_AMT4                   30000 non-null  float64\n",
      " 16  BILL_AMT5                   30000 non-null  float64\n",
      " 17  BILL_AMT6                   30000 non-null  float64\n",
      " 18  PAY_AMT1                    30000 non-null  float64\n",
      " 19  PAY_AMT2                    30000 non-null  float64\n",
      " 20  PAY_AMT3                    30000 non-null  float64\n",
      " 21  PAY_AMT4                    30000 non-null  float64\n",
      " 22  PAY_AMT5                    30000 non-null  float64\n",
      " 23  PAY_AMT6                    30000 non-null  float64\n",
      " 24  default.payment.next.month  30000 non-null  int64  \n",
      "dtypes: float64(13), int64(12)\n",
      "memory usage: 5.7 MB\n"
     ]
    }
   ],
   "source": [
    "df.info()"
   ]
  },
  {
   "cell_type": "code",
   "execution_count": 4,
   "metadata": {
    "_cell_guid": "f1796586-38ba-4b68-990e-33323cbc2856",
    "_uuid": "7ff6b6f89760fafc327b3852e03333fb547ff784"
   },
   "outputs": [
    {
     "data": {
      "text/html": [
       "<div>\n",
       "<style scoped>\n",
       "    .dataframe tbody tr th:only-of-type {\n",
       "        vertical-align: middle;\n",
       "    }\n",
       "\n",
       "    .dataframe tbody tr th {\n",
       "        vertical-align: top;\n",
       "    }\n",
       "\n",
       "    .dataframe thead th {\n",
       "        text-align: right;\n",
       "    }\n",
       "</style>\n",
       "<table border=\"1\" class=\"dataframe\">\n",
       "  <thead>\n",
       "    <tr style=\"text-align: right;\">\n",
       "      <th></th>\n",
       "      <th>SEX</th>\n",
       "      <th>EDUCATION</th>\n",
       "      <th>MARRIAGE</th>\n",
       "    </tr>\n",
       "  </thead>\n",
       "  <tbody>\n",
       "    <tr>\n",
       "      <th>count</th>\n",
       "      <td>30000.000000</td>\n",
       "      <td>30000.000000</td>\n",
       "      <td>30000.000000</td>\n",
       "    </tr>\n",
       "    <tr>\n",
       "      <th>mean</th>\n",
       "      <td>1.603733</td>\n",
       "      <td>1.853133</td>\n",
       "      <td>1.551867</td>\n",
       "    </tr>\n",
       "    <tr>\n",
       "      <th>std</th>\n",
       "      <td>0.489129</td>\n",
       "      <td>0.790349</td>\n",
       "      <td>0.521970</td>\n",
       "    </tr>\n",
       "    <tr>\n",
       "      <th>min</th>\n",
       "      <td>1.000000</td>\n",
       "      <td>0.000000</td>\n",
       "      <td>0.000000</td>\n",
       "    </tr>\n",
       "    <tr>\n",
       "      <th>25%</th>\n",
       "      <td>1.000000</td>\n",
       "      <td>1.000000</td>\n",
       "      <td>1.000000</td>\n",
       "    </tr>\n",
       "    <tr>\n",
       "      <th>50%</th>\n",
       "      <td>2.000000</td>\n",
       "      <td>2.000000</td>\n",
       "      <td>2.000000</td>\n",
       "    </tr>\n",
       "    <tr>\n",
       "      <th>75%</th>\n",
       "      <td>2.000000</td>\n",
       "      <td>2.000000</td>\n",
       "      <td>2.000000</td>\n",
       "    </tr>\n",
       "    <tr>\n",
       "      <th>max</th>\n",
       "      <td>2.000000</td>\n",
       "      <td>6.000000</td>\n",
       "      <td>3.000000</td>\n",
       "    </tr>\n",
       "  </tbody>\n",
       "</table>\n",
       "</div>"
      ],
      "text/plain": [
       "                SEX     EDUCATION      MARRIAGE\n",
       "count  30000.000000  30000.000000  30000.000000\n",
       "mean       1.603733      1.853133      1.551867\n",
       "std        0.489129      0.790349      0.521970\n",
       "min        1.000000      0.000000      0.000000\n",
       "25%        1.000000      1.000000      1.000000\n",
       "50%        2.000000      2.000000      2.000000\n",
       "75%        2.000000      2.000000      2.000000\n",
       "max        2.000000      6.000000      3.000000"
      ]
     },
     "execution_count": 4,
     "metadata": {},
     "output_type": "execute_result"
    }
   ],
   "source": [
    "# Categorical variables description\n",
    "df[['SEX', 'EDUCATION', 'MARRIAGE']].describe()"
   ]
  },
  {
   "cell_type": "markdown",
   "metadata": {
    "_cell_guid": "0f1e309a-146d-4784-86cd-75bfe13e60e9",
    "_uuid": "53976f540202b3d7d62074e0fb9b5e3803664a55"
   },
   "source": [
    "No missing data, but a few anomalous things:\n",
    "* EDUCATION has category 5 and 6 that are unlabelled, moreover the category 0 is undocumented.\n",
    "* MARRIAGE has a label 0 that is undocumented"
   ]
  },
  {
   "cell_type": "code",
   "execution_count": 5,
   "metadata": {
    "_cell_guid": "39110051-7da4-4e26-900e-2eea1e8efd28",
    "_uuid": "1a40fe4404d10cc9f0073c2fb2b87f4b9f40d4ac"
   },
   "outputs": [
    {
     "data": {
      "text/html": [
       "<div>\n",
       "<style scoped>\n",
       "    .dataframe tbody tr th:only-of-type {\n",
       "        vertical-align: middle;\n",
       "    }\n",
       "\n",
       "    .dataframe tbody tr th {\n",
       "        vertical-align: top;\n",
       "    }\n",
       "\n",
       "    .dataframe thead th {\n",
       "        text-align: right;\n",
       "    }\n",
       "</style>\n",
       "<table border=\"1\" class=\"dataframe\">\n",
       "  <thead>\n",
       "    <tr style=\"text-align: right;\">\n",
       "      <th></th>\n",
       "      <th>PAY_0</th>\n",
       "      <th>PAY_2</th>\n",
       "      <th>PAY_3</th>\n",
       "      <th>PAY_4</th>\n",
       "      <th>PAY_5</th>\n",
       "      <th>PAY_6</th>\n",
       "    </tr>\n",
       "  </thead>\n",
       "  <tbody>\n",
       "    <tr>\n",
       "      <th>count</th>\n",
       "      <td>30000.000000</td>\n",
       "      <td>30000.000000</td>\n",
       "      <td>30000.000000</td>\n",
       "      <td>30000.000000</td>\n",
       "      <td>30000.000000</td>\n",
       "      <td>30000.000000</td>\n",
       "    </tr>\n",
       "    <tr>\n",
       "      <th>mean</th>\n",
       "      <td>-0.016700</td>\n",
       "      <td>-0.133767</td>\n",
       "      <td>-0.166200</td>\n",
       "      <td>-0.220667</td>\n",
       "      <td>-0.266200</td>\n",
       "      <td>-0.291100</td>\n",
       "    </tr>\n",
       "    <tr>\n",
       "      <th>std</th>\n",
       "      <td>1.123802</td>\n",
       "      <td>1.197186</td>\n",
       "      <td>1.196868</td>\n",
       "      <td>1.169139</td>\n",
       "      <td>1.133187</td>\n",
       "      <td>1.149988</td>\n",
       "    </tr>\n",
       "    <tr>\n",
       "      <th>min</th>\n",
       "      <td>-2.000000</td>\n",
       "      <td>-2.000000</td>\n",
       "      <td>-2.000000</td>\n",
       "      <td>-2.000000</td>\n",
       "      <td>-2.000000</td>\n",
       "      <td>-2.000000</td>\n",
       "    </tr>\n",
       "    <tr>\n",
       "      <th>25%</th>\n",
       "      <td>-1.000000</td>\n",
       "      <td>-1.000000</td>\n",
       "      <td>-1.000000</td>\n",
       "      <td>-1.000000</td>\n",
       "      <td>-1.000000</td>\n",
       "      <td>-1.000000</td>\n",
       "    </tr>\n",
       "    <tr>\n",
       "      <th>50%</th>\n",
       "      <td>0.000000</td>\n",
       "      <td>0.000000</td>\n",
       "      <td>0.000000</td>\n",
       "      <td>0.000000</td>\n",
       "      <td>0.000000</td>\n",
       "      <td>0.000000</td>\n",
       "    </tr>\n",
       "    <tr>\n",
       "      <th>75%</th>\n",
       "      <td>0.000000</td>\n",
       "      <td>0.000000</td>\n",
       "      <td>0.000000</td>\n",
       "      <td>0.000000</td>\n",
       "      <td>0.000000</td>\n",
       "      <td>0.000000</td>\n",
       "    </tr>\n",
       "    <tr>\n",
       "      <th>max</th>\n",
       "      <td>8.000000</td>\n",
       "      <td>8.000000</td>\n",
       "      <td>8.000000</td>\n",
       "      <td>8.000000</td>\n",
       "      <td>8.000000</td>\n",
       "      <td>8.000000</td>\n",
       "    </tr>\n",
       "  </tbody>\n",
       "</table>\n",
       "</div>"
      ],
      "text/plain": [
       "              PAY_0         PAY_2         PAY_3         PAY_4         PAY_5  \\\n",
       "count  30000.000000  30000.000000  30000.000000  30000.000000  30000.000000   \n",
       "mean      -0.016700     -0.133767     -0.166200     -0.220667     -0.266200   \n",
       "std        1.123802      1.197186      1.196868      1.169139      1.133187   \n",
       "min       -2.000000     -2.000000     -2.000000     -2.000000     -2.000000   \n",
       "25%       -1.000000     -1.000000     -1.000000     -1.000000     -1.000000   \n",
       "50%        0.000000      0.000000      0.000000      0.000000      0.000000   \n",
       "75%        0.000000      0.000000      0.000000      0.000000      0.000000   \n",
       "max        8.000000      8.000000      8.000000      8.000000      8.000000   \n",
       "\n",
       "              PAY_6  \n",
       "count  30000.000000  \n",
       "mean      -0.291100  \n",
       "std        1.149988  \n",
       "min       -2.000000  \n",
       "25%       -1.000000  \n",
       "50%        0.000000  \n",
       "75%        0.000000  \n",
       "max        8.000000  "
      ]
     },
     "execution_count": 5,
     "metadata": {},
     "output_type": "execute_result"
    }
   ],
   "source": [
    "# Payment delay description\n",
    "df[['PAY_0', 'PAY_2', 'PAY_3', 'PAY_4', 'PAY_5', 'PAY_6']].describe()"
   ]
  },
  {
   "cell_type": "markdown",
   "metadata": {
    "_cell_guid": "b77758bb-773d-4908-9dc0-421d35127259",
    "_uuid": "e612682a3c7ca90d276a518d009b39b3d75fb5da"
   },
   "source": [
    "They all present an undocumented label -2. If 1,2,3, etc are the months of delay, 0 should be labeled 'pay duly' and every negative value should be seen as a 0. But we will get to that later"
   ]
  },
  {
   "cell_type": "code",
   "execution_count": 6,
   "metadata": {
    "_cell_guid": "bcdaba60-c776-491b-92e5-80d5fdca8b30",
    "_uuid": "8960233ca3309cd4ff06610b8f8132a7e10d5abb"
   },
   "outputs": [
    {
     "data": {
      "text/html": [
       "<div>\n",
       "<style scoped>\n",
       "    .dataframe tbody tr th:only-of-type {\n",
       "        vertical-align: middle;\n",
       "    }\n",
       "\n",
       "    .dataframe tbody tr th {\n",
       "        vertical-align: top;\n",
       "    }\n",
       "\n",
       "    .dataframe thead th {\n",
       "        text-align: right;\n",
       "    }\n",
       "</style>\n",
       "<table border=\"1\" class=\"dataframe\">\n",
       "  <thead>\n",
       "    <tr style=\"text-align: right;\">\n",
       "      <th></th>\n",
       "      <th>BILL_AMT1</th>\n",
       "      <th>BILL_AMT2</th>\n",
       "      <th>BILL_AMT3</th>\n",
       "      <th>BILL_AMT4</th>\n",
       "      <th>BILL_AMT5</th>\n",
       "      <th>BILL_AMT6</th>\n",
       "    </tr>\n",
       "  </thead>\n",
       "  <tbody>\n",
       "    <tr>\n",
       "      <th>count</th>\n",
       "      <td>30000.000000</td>\n",
       "      <td>30000.000000</td>\n",
       "      <td>3.000000e+04</td>\n",
       "      <td>30000.000000</td>\n",
       "      <td>30000.000000</td>\n",
       "      <td>30000.000000</td>\n",
       "    </tr>\n",
       "    <tr>\n",
       "      <th>mean</th>\n",
       "      <td>51223.330900</td>\n",
       "      <td>49179.075167</td>\n",
       "      <td>4.701315e+04</td>\n",
       "      <td>43262.948967</td>\n",
       "      <td>40311.400967</td>\n",
       "      <td>38871.760400</td>\n",
       "    </tr>\n",
       "    <tr>\n",
       "      <th>std</th>\n",
       "      <td>73635.860576</td>\n",
       "      <td>71173.768783</td>\n",
       "      <td>6.934939e+04</td>\n",
       "      <td>64332.856134</td>\n",
       "      <td>60797.155770</td>\n",
       "      <td>59554.107537</td>\n",
       "    </tr>\n",
       "    <tr>\n",
       "      <th>min</th>\n",
       "      <td>-165580.000000</td>\n",
       "      <td>-69777.000000</td>\n",
       "      <td>-1.572640e+05</td>\n",
       "      <td>-170000.000000</td>\n",
       "      <td>-81334.000000</td>\n",
       "      <td>-339603.000000</td>\n",
       "    </tr>\n",
       "    <tr>\n",
       "      <th>25%</th>\n",
       "      <td>3558.750000</td>\n",
       "      <td>2984.750000</td>\n",
       "      <td>2.666250e+03</td>\n",
       "      <td>2326.750000</td>\n",
       "      <td>1763.000000</td>\n",
       "      <td>1256.000000</td>\n",
       "    </tr>\n",
       "    <tr>\n",
       "      <th>50%</th>\n",
       "      <td>22381.500000</td>\n",
       "      <td>21200.000000</td>\n",
       "      <td>2.008850e+04</td>\n",
       "      <td>19052.000000</td>\n",
       "      <td>18104.500000</td>\n",
       "      <td>17071.000000</td>\n",
       "    </tr>\n",
       "    <tr>\n",
       "      <th>75%</th>\n",
       "      <td>67091.000000</td>\n",
       "      <td>64006.250000</td>\n",
       "      <td>6.016475e+04</td>\n",
       "      <td>54506.000000</td>\n",
       "      <td>50190.500000</td>\n",
       "      <td>49198.250000</td>\n",
       "    </tr>\n",
       "    <tr>\n",
       "      <th>max</th>\n",
       "      <td>964511.000000</td>\n",
       "      <td>983931.000000</td>\n",
       "      <td>1.664089e+06</td>\n",
       "      <td>891586.000000</td>\n",
       "      <td>927171.000000</td>\n",
       "      <td>961664.000000</td>\n",
       "    </tr>\n",
       "  </tbody>\n",
       "</table>\n",
       "</div>"
      ],
      "text/plain": [
       "           BILL_AMT1      BILL_AMT2     BILL_AMT3      BILL_AMT4  \\\n",
       "count   30000.000000   30000.000000  3.000000e+04   30000.000000   \n",
       "mean    51223.330900   49179.075167  4.701315e+04   43262.948967   \n",
       "std     73635.860576   71173.768783  6.934939e+04   64332.856134   \n",
       "min   -165580.000000  -69777.000000 -1.572640e+05 -170000.000000   \n",
       "25%      3558.750000    2984.750000  2.666250e+03    2326.750000   \n",
       "50%     22381.500000   21200.000000  2.008850e+04   19052.000000   \n",
       "75%     67091.000000   64006.250000  6.016475e+04   54506.000000   \n",
       "max    964511.000000  983931.000000  1.664089e+06  891586.000000   \n",
       "\n",
       "           BILL_AMT5      BILL_AMT6  \n",
       "count   30000.000000   30000.000000  \n",
       "mean    40311.400967   38871.760400  \n",
       "std     60797.155770   59554.107537  \n",
       "min    -81334.000000 -339603.000000  \n",
       "25%      1763.000000    1256.000000  \n",
       "50%     18104.500000   17071.000000  \n",
       "75%     50190.500000   49198.250000  \n",
       "max    927171.000000  961664.000000  "
      ]
     },
     "execution_count": 6,
     "metadata": {},
     "output_type": "execute_result"
    }
   ],
   "source": [
    "# Bill Statement description\n",
    "df[['BILL_AMT1', 'BILL_AMT2', 'BILL_AMT3', 'BILL_AMT4', 'BILL_AMT5', 'BILL_AMT6']].describe()"
   ]
  },
  {
   "cell_type": "markdown",
   "metadata": {
    "_cell_guid": "465b66a4-0da7-49a9-939a-67f3e7dc37c8",
    "_uuid": "ac8957e78333c9288d64c97cbff72ad08ab77f31"
   },
   "source": [
    "Negative values can be interpreted as credit? Has to be investigated"
   ]
  },
  {
   "cell_type": "code",
   "execution_count": 7,
   "metadata": {
    "_cell_guid": "8d96485a-4215-47bf-9d0f-247aebddf408",
    "_uuid": "110119ecd8d7d36b1d835a2e821a91dd7fd9527c"
   },
   "outputs": [
    {
     "data": {
      "text/html": [
       "<div>\n",
       "<style scoped>\n",
       "    .dataframe tbody tr th:only-of-type {\n",
       "        vertical-align: middle;\n",
       "    }\n",
       "\n",
       "    .dataframe tbody tr th {\n",
       "        vertical-align: top;\n",
       "    }\n",
       "\n",
       "    .dataframe thead th {\n",
       "        text-align: right;\n",
       "    }\n",
       "</style>\n",
       "<table border=\"1\" class=\"dataframe\">\n",
       "  <thead>\n",
       "    <tr style=\"text-align: right;\">\n",
       "      <th></th>\n",
       "      <th>PAY_AMT1</th>\n",
       "      <th>PAY_AMT2</th>\n",
       "      <th>PAY_AMT3</th>\n",
       "      <th>PAY_AMT4</th>\n",
       "      <th>PAY_AMT5</th>\n",
       "      <th>PAY_AMT6</th>\n",
       "    </tr>\n",
       "  </thead>\n",
       "  <tbody>\n",
       "    <tr>\n",
       "      <th>count</th>\n",
       "      <td>30000.000000</td>\n",
       "      <td>3.000000e+04</td>\n",
       "      <td>30000.00000</td>\n",
       "      <td>30000.000000</td>\n",
       "      <td>30000.000000</td>\n",
       "      <td>30000.000000</td>\n",
       "    </tr>\n",
       "    <tr>\n",
       "      <th>mean</th>\n",
       "      <td>5663.580500</td>\n",
       "      <td>5.921163e+03</td>\n",
       "      <td>5225.68150</td>\n",
       "      <td>4826.076867</td>\n",
       "      <td>4799.387633</td>\n",
       "      <td>5215.502567</td>\n",
       "    </tr>\n",
       "    <tr>\n",
       "      <th>std</th>\n",
       "      <td>16563.280354</td>\n",
       "      <td>2.304087e+04</td>\n",
       "      <td>17606.96147</td>\n",
       "      <td>15666.159744</td>\n",
       "      <td>15278.305679</td>\n",
       "      <td>17777.465775</td>\n",
       "    </tr>\n",
       "    <tr>\n",
       "      <th>min</th>\n",
       "      <td>0.000000</td>\n",
       "      <td>0.000000e+00</td>\n",
       "      <td>0.00000</td>\n",
       "      <td>0.000000</td>\n",
       "      <td>0.000000</td>\n",
       "      <td>0.000000</td>\n",
       "    </tr>\n",
       "    <tr>\n",
       "      <th>25%</th>\n",
       "      <td>1000.000000</td>\n",
       "      <td>8.330000e+02</td>\n",
       "      <td>390.00000</td>\n",
       "      <td>296.000000</td>\n",
       "      <td>252.500000</td>\n",
       "      <td>117.750000</td>\n",
       "    </tr>\n",
       "    <tr>\n",
       "      <th>50%</th>\n",
       "      <td>2100.000000</td>\n",
       "      <td>2.009000e+03</td>\n",
       "      <td>1800.00000</td>\n",
       "      <td>1500.000000</td>\n",
       "      <td>1500.000000</td>\n",
       "      <td>1500.000000</td>\n",
       "    </tr>\n",
       "    <tr>\n",
       "      <th>75%</th>\n",
       "      <td>5006.000000</td>\n",
       "      <td>5.000000e+03</td>\n",
       "      <td>4505.00000</td>\n",
       "      <td>4013.250000</td>\n",
       "      <td>4031.500000</td>\n",
       "      <td>4000.000000</td>\n",
       "    </tr>\n",
       "    <tr>\n",
       "      <th>max</th>\n",
       "      <td>873552.000000</td>\n",
       "      <td>1.684259e+06</td>\n",
       "      <td>896040.00000</td>\n",
       "      <td>621000.000000</td>\n",
       "      <td>426529.000000</td>\n",
       "      <td>528666.000000</td>\n",
       "    </tr>\n",
       "  </tbody>\n",
       "</table>\n",
       "</div>"
      ],
      "text/plain": [
       "            PAY_AMT1      PAY_AMT2      PAY_AMT3       PAY_AMT4  \\\n",
       "count   30000.000000  3.000000e+04   30000.00000   30000.000000   \n",
       "mean     5663.580500  5.921163e+03    5225.68150    4826.076867   \n",
       "std     16563.280354  2.304087e+04   17606.96147   15666.159744   \n",
       "min         0.000000  0.000000e+00       0.00000       0.000000   \n",
       "25%      1000.000000  8.330000e+02     390.00000     296.000000   \n",
       "50%      2100.000000  2.009000e+03    1800.00000    1500.000000   \n",
       "75%      5006.000000  5.000000e+03    4505.00000    4013.250000   \n",
       "max    873552.000000  1.684259e+06  896040.00000  621000.000000   \n",
       "\n",
       "            PAY_AMT5       PAY_AMT6  \n",
       "count   30000.000000   30000.000000  \n",
       "mean     4799.387633    5215.502567  \n",
       "std     15278.305679   17777.465775  \n",
       "min         0.000000       0.000000  \n",
       "25%       252.500000     117.750000  \n",
       "50%      1500.000000    1500.000000  \n",
       "75%      4031.500000    4000.000000  \n",
       "max    426529.000000  528666.000000  "
      ]
     },
     "execution_count": 7,
     "metadata": {},
     "output_type": "execute_result"
    }
   ],
   "source": [
    "#Previous Payment Description\n",
    "df[['PAY_AMT1', 'PAY_AMT2', 'PAY_AMT3', 'PAY_AMT4', 'PAY_AMT5', 'PAY_AMT6']].describe()"
   ]
  },
  {
   "cell_type": "code",
   "execution_count": 8,
   "metadata": {
    "_cell_guid": "56705789-b5a9-4a63-8ef1-26687270609e",
    "_uuid": "0fb66c7c87b1b63dd7018ab642f7faef11ef70ed"
   },
   "outputs": [
    {
     "data": {
      "text/plain": [
       "count      30000.000000\n",
       "mean      167484.322667\n",
       "std       129747.661567\n",
       "min        10000.000000\n",
       "25%        50000.000000\n",
       "50%       140000.000000\n",
       "75%       240000.000000\n",
       "max      1000000.000000\n",
       "Name: LIMIT_BAL, dtype: float64"
      ]
     },
     "execution_count": 8,
     "metadata": {},
     "output_type": "execute_result"
    }
   ],
   "source": [
    "df.LIMIT_BAL.describe()"
   ]
  },
  {
   "cell_type": "markdown",
   "metadata": {
    "_cell_guid": "745c76aa-1d96-4588-84b3-4718168d54c0",
    "_uuid": "8695b9a4741e2d35bf59f238154a072e6f585192"
   },
   "source": [
    "The range is very broad, Investigation required.\n",
    "\n",
    "Two columns bother me because are poorly labeled."
   ]
  },
  {
   "cell_type": "code",
   "execution_count": 9,
   "metadata": {
    "_cell_guid": "5e7e7299-3a20-4266-a2df-036123ed86e4",
    "_uuid": "7a0dfd1323e523a69799ec877fc1107fb38ce019"
   },
   "outputs": [
    {
     "data": {
      "text/html": [
       "<div>\n",
       "<style scoped>\n",
       "    .dataframe tbody tr th:only-of-type {\n",
       "        vertical-align: middle;\n",
       "    }\n",
       "\n",
       "    .dataframe tbody tr th {\n",
       "        vertical-align: top;\n",
       "    }\n",
       "\n",
       "    .dataframe thead th {\n",
       "        text-align: right;\n",
       "    }\n",
       "</style>\n",
       "<table border=\"1\" class=\"dataframe\">\n",
       "  <thead>\n",
       "    <tr style=\"text-align: right;\">\n",
       "      <th></th>\n",
       "      <th>ID</th>\n",
       "      <th>LIMIT_BAL</th>\n",
       "      <th>SEX</th>\n",
       "      <th>EDUCATION</th>\n",
       "      <th>MARRIAGE</th>\n",
       "      <th>AGE</th>\n",
       "      <th>PAY_1</th>\n",
       "      <th>PAY_2</th>\n",
       "      <th>PAY_3</th>\n",
       "      <th>PAY_4</th>\n",
       "      <th>...</th>\n",
       "      <th>BILL_AMT4</th>\n",
       "      <th>BILL_AMT5</th>\n",
       "      <th>BILL_AMT6</th>\n",
       "      <th>PAY_AMT1</th>\n",
       "      <th>PAY_AMT2</th>\n",
       "      <th>PAY_AMT3</th>\n",
       "      <th>PAY_AMT4</th>\n",
       "      <th>PAY_AMT5</th>\n",
       "      <th>PAY_AMT6</th>\n",
       "      <th>def_pay</th>\n",
       "    </tr>\n",
       "  </thead>\n",
       "  <tbody>\n",
       "    <tr>\n",
       "      <th>0</th>\n",
       "      <td>1</td>\n",
       "      <td>20000.0</td>\n",
       "      <td>2</td>\n",
       "      <td>2</td>\n",
       "      <td>1</td>\n",
       "      <td>24</td>\n",
       "      <td>2</td>\n",
       "      <td>2</td>\n",
       "      <td>-1</td>\n",
       "      <td>-1</td>\n",
       "      <td>...</td>\n",
       "      <td>0.0</td>\n",
       "      <td>0.0</td>\n",
       "      <td>0.0</td>\n",
       "      <td>0.0</td>\n",
       "      <td>689.0</td>\n",
       "      <td>0.0</td>\n",
       "      <td>0.0</td>\n",
       "      <td>0.0</td>\n",
       "      <td>0.0</td>\n",
       "      <td>1</td>\n",
       "    </tr>\n",
       "    <tr>\n",
       "      <th>1</th>\n",
       "      <td>2</td>\n",
       "      <td>120000.0</td>\n",
       "      <td>2</td>\n",
       "      <td>2</td>\n",
       "      <td>2</td>\n",
       "      <td>26</td>\n",
       "      <td>-1</td>\n",
       "      <td>2</td>\n",
       "      <td>0</td>\n",
       "      <td>0</td>\n",
       "      <td>...</td>\n",
       "      <td>3272.0</td>\n",
       "      <td>3455.0</td>\n",
       "      <td>3261.0</td>\n",
       "      <td>0.0</td>\n",
       "      <td>1000.0</td>\n",
       "      <td>1000.0</td>\n",
       "      <td>1000.0</td>\n",
       "      <td>0.0</td>\n",
       "      <td>2000.0</td>\n",
       "      <td>1</td>\n",
       "    </tr>\n",
       "    <tr>\n",
       "      <th>2</th>\n",
       "      <td>3</td>\n",
       "      <td>90000.0</td>\n",
       "      <td>2</td>\n",
       "      <td>2</td>\n",
       "      <td>2</td>\n",
       "      <td>34</td>\n",
       "      <td>0</td>\n",
       "      <td>0</td>\n",
       "      <td>0</td>\n",
       "      <td>0</td>\n",
       "      <td>...</td>\n",
       "      <td>14331.0</td>\n",
       "      <td>14948.0</td>\n",
       "      <td>15549.0</td>\n",
       "      <td>1518.0</td>\n",
       "      <td>1500.0</td>\n",
       "      <td>1000.0</td>\n",
       "      <td>1000.0</td>\n",
       "      <td>1000.0</td>\n",
       "      <td>5000.0</td>\n",
       "      <td>0</td>\n",
       "    </tr>\n",
       "    <tr>\n",
       "      <th>3</th>\n",
       "      <td>4</td>\n",
       "      <td>50000.0</td>\n",
       "      <td>2</td>\n",
       "      <td>2</td>\n",
       "      <td>1</td>\n",
       "      <td>37</td>\n",
       "      <td>0</td>\n",
       "      <td>0</td>\n",
       "      <td>0</td>\n",
       "      <td>0</td>\n",
       "      <td>...</td>\n",
       "      <td>28314.0</td>\n",
       "      <td>28959.0</td>\n",
       "      <td>29547.0</td>\n",
       "      <td>2000.0</td>\n",
       "      <td>2019.0</td>\n",
       "      <td>1200.0</td>\n",
       "      <td>1100.0</td>\n",
       "      <td>1069.0</td>\n",
       "      <td>1000.0</td>\n",
       "      <td>0</td>\n",
       "    </tr>\n",
       "    <tr>\n",
       "      <th>4</th>\n",
       "      <td>5</td>\n",
       "      <td>50000.0</td>\n",
       "      <td>1</td>\n",
       "      <td>2</td>\n",
       "      <td>1</td>\n",
       "      <td>57</td>\n",
       "      <td>-1</td>\n",
       "      <td>0</td>\n",
       "      <td>-1</td>\n",
       "      <td>0</td>\n",
       "      <td>...</td>\n",
       "      <td>20940.0</td>\n",
       "      <td>19146.0</td>\n",
       "      <td>19131.0</td>\n",
       "      <td>2000.0</td>\n",
       "      <td>36681.0</td>\n",
       "      <td>10000.0</td>\n",
       "      <td>9000.0</td>\n",
       "      <td>689.0</td>\n",
       "      <td>679.0</td>\n",
       "      <td>0</td>\n",
       "    </tr>\n",
       "  </tbody>\n",
       "</table>\n",
       "<p>5 rows × 25 columns</p>\n",
       "</div>"
      ],
      "text/plain": [
       "   ID  LIMIT_BAL  SEX  EDUCATION  MARRIAGE  AGE  PAY_1  PAY_2  PAY_3  PAY_4  \\\n",
       "0   1    20000.0    2          2         1   24      2      2     -1     -1   \n",
       "1   2   120000.0    2          2         2   26     -1      2      0      0   \n",
       "2   3    90000.0    2          2         2   34      0      0      0      0   \n",
       "3   4    50000.0    2          2         1   37      0      0      0      0   \n",
       "4   5    50000.0    1          2         1   57     -1      0     -1      0   \n",
       "\n",
       "   ...  BILL_AMT4  BILL_AMT5  BILL_AMT6  PAY_AMT1  PAY_AMT2  PAY_AMT3  \\\n",
       "0  ...        0.0        0.0        0.0       0.0     689.0       0.0   \n",
       "1  ...     3272.0     3455.0     3261.0       0.0    1000.0    1000.0   \n",
       "2  ...    14331.0    14948.0    15549.0    1518.0    1500.0    1000.0   \n",
       "3  ...    28314.0    28959.0    29547.0    2000.0    2019.0    1200.0   \n",
       "4  ...    20940.0    19146.0    19131.0    2000.0   36681.0   10000.0   \n",
       "\n",
       "   PAY_AMT4  PAY_AMT5  PAY_AMT6  def_pay  \n",
       "0       0.0       0.0       0.0        1  \n",
       "1    1000.0       0.0    2000.0        1  \n",
       "2    1000.0    1000.0    5000.0        0  \n",
       "3    1100.0    1069.0    1000.0        0  \n",
       "4    9000.0     689.0     679.0        0  \n",
       "\n",
       "[5 rows x 25 columns]"
      ]
     },
     "execution_count": 9,
     "metadata": {},
     "output_type": "execute_result"
    }
   ],
   "source": [
    "df = df.rename(columns={'default.payment.next.month': 'def_pay', \n",
    "                        'PAY_0': 'PAY_1'})\n",
    "df.head()"
   ]
  },
  {
   "cell_type": "code",
   "execution_count": 10,
   "metadata": {
    "_cell_guid": "0cb4683d-aba0-44a9-8a46-db37c5b42c88",
    "_uuid": "8df4001b8ccd4dfd2d4213db898e7d07070c0ce7"
   },
   "outputs": [
    {
     "data": {
      "text/plain": [
       "0.2212"
      ]
     },
     "execution_count": 10,
     "metadata": {},
     "output_type": "execute_result"
    }
   ],
   "source": [
    "# I am interested in having a general idea of the default probability\n",
    "df.def_pay.sum() / len(df.def_pay)"
   ]
  },
  {
   "cell_type": "code",
   "execution_count": 11,
   "metadata": {
    "_cell_guid": "1a08707b-0b25-4946-9e56-fa842722137f",
    "_uuid": "a4d87d8e1a1deb2400eac839db29f6b1bbcc5cda"
   },
   "outputs": [
    {
     "name": "stdout",
     "output_type": "stream",
     "text": [
      "(30000, 25)\n",
      "30000\n",
      "30000\n",
      "25\n"
     ]
    }
   ],
   "source": [
    "# Other ways of getting this kind of numbers (as a reference for newbies like myself)\n",
    "print(df.shape)\n",
    "print(df.shape[0])\n",
    "print(df.def_pay.count())\n",
    "print(len(df.axes[1]))"
   ]
  },
  {
   "cell_type": "markdown",
   "metadata": {
    "_cell_guid": "2143ca59-f241-4bfb-9f4a-fef7947ac54f",
    "_uuid": "7ab7b3cf1dcdd693a67f619b2d804498145d0359"
   },
   "source": [
    "# Blind machine learning\n",
    "\n",
    "I define it blind because I will just throw everything I have in them and nothing more than that. My hope is to see significant improvements once that I will engineer some features.\n",
    "\n",
    "This is a classification problem and this means that we can use the following algorithms:\n",
    "* Logistic regression\n",
    "* Decision tree\n",
    "* Random forest\n",
    "* Support Vector Classifications\n",
    "* Stocastic Gradient Descend\n",
    "* Nearest Neighbours Classifiers  \n",
    "* Gaussian Process Classification\n",
    "* Other ensemble\n",
    "* Neural Network Models\n",
    "* XGBoost \n",
    "\n",
    "Since the plan is mostly to use a try and error approach to see how things goes, I will first start on those that I am more familiar with: Decision tree. \n",
    "\n",
    "## Decision tree\n",
    "\n",
    "The Tree is very easy to use and imagine, it can handle both numerical and categorical variables, but it is easy to fall into the trap of overfitting (i.e. creating a very complex model that perfectly describes your training set but fails in predicting).\n",
    "It is also said to be senstive to small changes in the data, leading to different results. For this reason, it is common to use ensembles such as Random Forest to avoid this risk.\n",
    "\n",
    "There are a few parameters to be settle for the classifier, such as the function to determine the quality of a split, or how deep the tree has to be. We will first test it with a random choice of those parameters and then see a better process."
   ]
  },
  {
   "cell_type": "code",
   "execution_count": 12,
   "metadata": {
    "_cell_guid": "439157f2-50fe-46f3-a0fb-d7f2216158a6",
    "_uuid": "a5a945b48780176ff95737e1d08a8d7803cb31af"
   },
   "outputs": [],
   "source": [
    "#importing libraries\n",
    "from sklearn.tree import DecisionTreeClassifier\n",
    "from sklearn.metrics import accuracy_score, make_scorer\n",
    "from sklearn.model_selection import train_test_split"
   ]
  },
  {
   "cell_type": "code",
   "execution_count": 13,
   "metadata": {
    "_cell_guid": "37bc114f-4697-4ed0-9db0-823276ae0e5c",
    "_uuid": "14d5a0436312b5c695a8bc5342f8774e1ebe61cc"
   },
   "outputs": [
    {
     "data": {
      "text/plain": [
       "7221     0\n",
       "12922    1\n",
       "27267    1\n",
       "13839    1\n",
       "6771     0\n",
       "Name: def_pay, dtype: int64"
      ]
     },
     "execution_count": 13,
     "metadata": {},
     "output_type": "execute_result"
    }
   ],
   "source": [
    "# create the target variable\n",
    "y = df['def_pay'].copy()\n",
    "y.sample(5)"
   ]
  },
  {
   "cell_type": "code",
   "execution_count": 14,
   "metadata": {
    "_cell_guid": "1f8c6629-3430-4a20-a862-53f72f97ea4d",
    "_uuid": "7de1c539331a0ad78c84bce2512fc62c91cddfeb"
   },
   "outputs": [
    {
     "data": {
      "text/plain": [
       "Index(['LIMIT_BAL', 'SEX', 'EDUCATION', 'MARRIAGE', 'AGE', 'PAY_1', 'PAY_2',\n",
       "       'PAY_3', 'PAY_4', 'PAY_5', 'PAY_6', 'BILL_AMT1', 'BILL_AMT2',\n",
       "       'BILL_AMT3', 'BILL_AMT4', 'BILL_AMT5', 'BILL_AMT6', 'PAY_AMT1',\n",
       "       'PAY_AMT2', 'PAY_AMT3', 'PAY_AMT4', 'PAY_AMT5', 'PAY_AMT6'],\n",
       "      dtype='object')"
      ]
     },
     "execution_count": 14,
     "metadata": {},
     "output_type": "execute_result"
    }
   ],
   "source": [
    "# create the features, which now will be everything in the original df\n",
    "features = ['LIMIT_BAL', 'SEX', 'EDUCATION', 'MARRIAGE', 'AGE', 'PAY_1', 'PAY_2',\n",
    "       'PAY_3', 'PAY_4', 'PAY_5', 'PAY_6', 'BILL_AMT1', 'BILL_AMT2',\n",
    "       'BILL_AMT3', 'BILL_AMT4', 'BILL_AMT5', 'BILL_AMT6', 'PAY_AMT1',\n",
    "       'PAY_AMT2', 'PAY_AMT3', 'PAY_AMT4', 'PAY_AMT5', 'PAY_AMT6']\n",
    "X = df[features].copy()\n",
    "X.columns"
   ]
  },
  {
   "cell_type": "code",
   "execution_count": 15,
   "metadata": {
    "_cell_guid": "a36de282-d4ad-40ae-a20b-af8c731ab329",
    "_uuid": "df9288dcdf4f0eb7912acfc2190e3d9ec37f877a"
   },
   "outputs": [],
   "source": [
    "# split the df into train and test, it is important these two do not communicate during the training\n",
    "X_train, X_test, y_train, y_test = train_test_split(X, y, test_size=0.20, random_state=42)\n",
    "# this means we will train on 80% of the data and test on the remaining 20%."
   ]
  },
  {
   "cell_type": "code",
   "execution_count": 16,
   "metadata": {
    "_cell_guid": "fdfc6907-fde9-483a-952c-73b48966f6db",
    "_uuid": "a7f6a692e78376c21527fc328bcbf0879a998fb6"
   },
   "outputs": [
    {
     "name": "stdout",
     "output_type": "stream",
     "text": [
      "count    30000.000000\n",
      "mean         0.221200\n",
      "std          0.415062\n",
      "min          0.000000\n",
      "25%          0.000000\n",
      "50%          0.000000\n",
      "75%          0.000000\n",
      "max          1.000000\n",
      "Name: def_pay, dtype: float64\n",
      "---------------------------\n",
      "count    24000.000000\n",
      "mean         0.221792\n",
      "std          0.415460\n",
      "min          0.000000\n",
      "25%          0.000000\n",
      "50%          0.000000\n",
      "75%          0.000000\n",
      "max          1.000000\n",
      "Name: def_pay, dtype: float64\n",
      "---------------------------\n",
      "count    6000.000000\n",
      "mean        0.218833\n",
      "std         0.413490\n",
      "min         0.000000\n",
      "25%         0.000000\n",
      "50%         0.000000\n",
      "75%         0.000000\n",
      "max         1.000000\n",
      "Name: def_pay, dtype: float64\n"
     ]
    }
   ],
   "source": [
    "#check that the target is not far off\n",
    "print(df.def_pay.describe())\n",
    "print(\"---------------------------\")\n",
    "print(y_train.describe())\n",
    "print(\"---------------------------\")\n",
    "print(y_test.describe())"
   ]
  },
  {
   "cell_type": "code",
   "execution_count": 17,
   "metadata": {
    "_cell_guid": "a18eb4d9-da5a-45f5-a76c-67cc31ae9077",
    "_uuid": "2a550b5331ff2bd9f6f671f89cc2a9ce7c562b7b"
   },
   "outputs": [
    {
     "data": {
      "text/plain": [
       "0.812"
      ]
     },
     "execution_count": 17,
     "metadata": {},
     "output_type": "execute_result"
    }
   ],
   "source": [
    "#create the classifier\n",
    "classifier = DecisionTreeClassifier(max_depth=10, random_state=14) \n",
    "# training the classifier\n",
    "classifier.fit(X_train, y_train)\n",
    "# do our predictions on the test\n",
    "predictions = classifier.predict(X_test)\n",
    "# see how good we did on the test\n",
    "accuracy_score(y_true = y_test, y_pred = predictions)"
   ]
  },
  {
   "cell_type": "markdown",
   "metadata": {
    "_cell_guid": "6e1684d1-95f2-4661-b95f-0f437582ba2e",
    "_uuid": "95af8e1cdbae3f6cfe55a6c0c0b8d32e8a9d8966"
   },
   "source": [
    "Not bad for a beginner, 81% is a result you just get with a random choices on the parameters. On this matter, let's see an overfitting example"
   ]
  },
  {
   "cell_type": "code",
   "execution_count": 18,
   "metadata": {
    "_cell_guid": "f52ca39a-8acc-475b-8dba-806a599cb01a",
    "_uuid": "c212bed812f783b499a8fd483d525b6401f0b439"
   },
   "outputs": [
    {
     "data": {
      "text/plain": [
       "0.7231666666666666"
      ]
     },
     "execution_count": 18,
     "metadata": {},
     "output_type": "execute_result"
    }
   ],
   "source": [
    "classifier = DecisionTreeClassifier(max_depth=100, random_state=14) \n",
    "classifier.fit(X_train, y_train)\n",
    "predictions = classifier.predict(X_test)\n",
    "accuracy_score(y_true = y_test, y_pred = predictions)"
   ]
  },
  {
   "cell_type": "markdown",
   "metadata": {
    "_cell_guid": "742983c7-95ed-41f0-8f41-6df560818ffd",
    "_uuid": "a08a114449ece556137ee4c51df1b474a90daf97"
   },
   "source": [
    "So it is easy to mess up your model, apparently. There is a better way that I know to get your parameters right, which is to use **GridSearchCV**. Essentially we give a parameters space and test our model on every point of this space, returning the ideal combination of parameters. \n",
    "\n",
    "Be aware that the more you complicate the grid, the longer it takes, because it is running it every time with a different combination of parameters. \n",
    "\n",
    "It is a good chance to discuss the three parameters that I understand\n",
    "* **criterion ** can be gini (measures how often a randomly chosen element would be incorrectly identified) or entropy (measures the information contained by each attribute, thus we estimate the reduction in entropy due to sorting on the attribute)\n",
    "* **max depth** is the maximum amount of steps the tree should do\n",
    "*  **max leaf nodes** maximum number of nodes\n",
    "* **min sample split** a limit to stop further splitting, useful to avoid overfitting"
   ]
  },
  {
   "cell_type": "code",
   "execution_count": 19,
   "metadata": {
    "_cell_guid": "ab0d57fc-eda8-418f-bd13-5ec763d58922",
    "_uuid": "6bdbfeb0185516543d756e6c0df04793c7d619c3"
   },
   "outputs": [],
   "source": [
    "from sklearn.model_selection import GridSearchCV"
   ]
  },
  {
   "cell_type": "code",
   "execution_count": 20,
   "metadata": {
    "_cell_guid": "afd3de4f-754c-4f7a-a993-aa9b7c2cdefa",
    "_uuid": "0ddf1487ebfc5e62fdb05d47911aa8993ed83079"
   },
   "outputs": [
    {
     "name": "stdout",
     "output_type": "stream",
     "text": [
      "DecisionTreeClassifier(max_depth=4, max_leaf_nodes=20, min_samples_split=20)\n",
      "0.8212916666666666\n"
     ]
    }
   ],
   "source": [
    "# define the parameters grid\n",
    "param_grid = {'max_depth': np.arange(3, 10),\n",
    "             'criterion' : ['gini','entropy'],\n",
    "             'max_leaf_nodes': [5,10,20,100],\n",
    "             'min_samples_split': [2, 5, 10, 20]}\n",
    "\n",
    "# create the grid\n",
    "grid_tree = GridSearchCV(DecisionTreeClassifier(), param_grid, cv = 5, scoring= 'accuracy')\n",
    "# the cv option will be clear in a few cells\n",
    "\n",
    "#training\n",
    "grid_tree.fit(X_train, y_train)\n",
    "#let's see the best estimator\n",
    "print(grid_tree.best_estimator_)\n",
    "#with its score\n",
    "print(np.abs(grid_tree.best_score_))"
   ]
  },
  {
   "cell_type": "code",
   "execution_count": 22,
   "metadata": {
    "_cell_guid": "b49d8320-1f14-4b26-9923-c94242e4ee27",
    "_uuid": "a95ca1e52a6062a0096a2e23054aa6cf85c3cf79"
   },
   "outputs": [
    {
     "name": "stderr",
     "output_type": "stream",
     "text": [
      "C:\\Users\\Admin\\anaconda3\\lib\\site-packages\\sklearn\\tree\\_classes.py:319: FutureWarning: The parameter 'presort' is deprecated and has no effect. It will be removed in v0.24. You can suppress this warning by not passing any value to the 'presort' parameter.\n",
      "  FutureWarning)\n"
     ]
    },
    {
     "data": {
      "text/plain": [
       "0.8211666666666667"
      ]
     },
     "execution_count": 22,
     "metadata": {},
     "output_type": "execute_result"
    }
   ],
   "source": [
    "classifier = DecisionTreeClassifier(class_weight=None, criterion='gini', max_depth=3,\n",
    "            max_features=None, max_leaf_nodes=20,\n",
    "            min_impurity_decrease=0.0, min_impurity_split=None,\n",
    "            min_samples_leaf=1, min_samples_split=20,\n",
    "            min_weight_fraction_leaf=0.0, presort=False, random_state=None,\n",
    "            splitter='best')\n",
    "classifier.fit(X_train, y_train)\n",
    "predictions = classifier.predict(X_test)\n",
    "accuracy_score(y_true = y_test, y_pred = predictions)"
   ]
  },
  {
   "cell_type": "markdown",
   "metadata": {
    "_cell_guid": "4ef63f0d-7592-45ef-886e-f0305c1528a5",
    "_uuid": "3671988c0613f2e4880b233aaa0948fb706e2718"
   },
   "source": [
    "We got a +0.07% in accuracy just by choosing the right parameters..\n",
    "\n",
    "Another thing we should do is to cross validate. Actually, it is kind of included in the gridsearch but it is still unclear to me and we get a chance of exploring another tool of the sklearn library: **Kfold**"
   ]
  },
  {
   "cell_type": "code",
   "execution_count": 23,
   "metadata": {
    "_cell_guid": "07d5128a-3e46-4508-a08e-4718f69e3c8f",
    "_uuid": "c36c3e7ae2598c16acbe1d4e0efe51145f199438"
   },
   "outputs": [],
   "source": [
    "from sklearn.model_selection import KFold"
   ]
  },
  {
   "cell_type": "code",
   "execution_count": 25,
   "metadata": {
    "_cell_guid": "5642816c-e615-4b24-8255-c879f2aef992",
    "_uuid": "bd3b309e6993c66de9f033c7794a52d2ff363a1f"
   },
   "outputs": [
    {
     "name": "stderr",
     "output_type": "stream",
     "text": [
      "C:\\Users\\Admin\\anaconda3\\lib\\site-packages\\sklearn\\tree\\_classes.py:319: FutureWarning: The parameter 'presort' is deprecated and has no effect. It will be removed in v0.24. You can suppress this warning by not passing any value to the 'presort' parameter.\n",
      "  FutureWarning)\n",
      "C:\\Users\\Admin\\anaconda3\\lib\\site-packages\\sklearn\\tree\\_classes.py:319: FutureWarning: The parameter 'presort' is deprecated and has no effect. It will be removed in v0.24. You can suppress this warning by not passing any value to the 'presort' parameter.\n",
      "  FutureWarning)\n",
      "C:\\Users\\Admin\\anaconda3\\lib\\site-packages\\sklearn\\tree\\_classes.py:319: FutureWarning: The parameter 'presort' is deprecated and has no effect. It will be removed in v0.24. You can suppress this warning by not passing any value to the 'presort' parameter.\n",
      "  FutureWarning)\n",
      "C:\\Users\\Admin\\anaconda3\\lib\\site-packages\\sklearn\\tree\\_classes.py:319: FutureWarning: The parameter 'presort' is deprecated and has no effect. It will be removed in v0.24. You can suppress this warning by not passing any value to the 'presort' parameter.\n",
      "  FutureWarning)\n",
      "C:\\Users\\Admin\\anaconda3\\lib\\site-packages\\sklearn\\tree\\_classes.py:319: FutureWarning: The parameter 'presort' is deprecated and has no effect. It will be removed in v0.24. You can suppress this warning by not passing any value to the 'presort' parameter.\n",
      "  FutureWarning)\n"
     ]
    }
   ],
   "source": [
    "kf = KFold(n_splits=5,random_state=42,shuffle=True)\n",
    "\n",
    "fold = []\n",
    "scr = []\n",
    "\n",
    "for i,(train_index, test_index) in enumerate(kf.split(df)):\n",
    "    training = df.iloc[train_index,:]\n",
    "    valid = df.iloc[test_index,:]\n",
    "    feats = training[features] #defined above\n",
    "    label = training['def_pay']\n",
    "    valid_feats = valid[features]\n",
    "    valid_label = valid['def_pay']\n",
    "    classifier.fit(feats,label) #it is the last one we run, the best one\n",
    "    pred = classifier.predict(valid_feats)\n",
    "    score = accuracy_score(y_true = valid_label, y_pred = pred)\n",
    "    fold.append(i+1)\n",
    "    scr.append(score)\n",
    "    \n",
    "#create a small df with the scores\n",
    "performance = pd.DataFrame({'Score':scr,'Fold':fold})\n",
    "# let's see what we have with ggplot\n",
    "#g = ggplot(performance,aes(x='Fold',y='Score')) + geom_point() + geom_line()\n",
    "#print(g)"
   ]
  },
  {
   "cell_type": "markdown",
   "metadata": {
    "_cell_guid": "11873f36-0748-4c0c-97d7-0a77ee3a9bf8",
    "_uuid": "0a4a0a6969d0ed2339c8b1b72fd165501cf4747a"
   },
   "source": [
    "Now, this does not mean much now, since it is only one model and, depending on how we split the df into train and test, we get  a precision between 0.816 and 0.8275, which may or may not be relevant depending on the purpose of the model. However, in the future we will compare different models in order to find the one more stable and this small experiment will be useful (I hope, I really don't know much). \n",
    "\n",
    "Next, we can see how important are our features for this model."
   ]
  },
  {
   "cell_type": "code",
   "execution_count": 26,
   "metadata": {
    "_cell_guid": "60316c6d-bf93-44a6-b889-2187b0b442ad",
    "_uuid": "e36b1e450f0a2e03beaaddfe77c21d562acfc9ff"
   },
   "outputs": [
    {
     "data": {
      "text/html": [
       "<div>\n",
       "<style scoped>\n",
       "    .dataframe tbody tr th:only-of-type {\n",
       "        vertical-align: middle;\n",
       "    }\n",
       "\n",
       "    .dataframe tbody tr th {\n",
       "        vertical-align: top;\n",
       "    }\n",
       "\n",
       "    .dataframe thead th {\n",
       "        text-align: right;\n",
       "    }\n",
       "</style>\n",
       "<table border=\"1\" class=\"dataframe\">\n",
       "  <thead>\n",
       "    <tr style=\"text-align: right;\">\n",
       "      <th></th>\n",
       "      <th>feat</th>\n",
       "      <th>score</th>\n",
       "    </tr>\n",
       "  </thead>\n",
       "  <tbody>\n",
       "    <tr>\n",
       "      <th>5</th>\n",
       "      <td>PAY_1</td>\n",
       "      <td>0.762126</td>\n",
       "    </tr>\n",
       "    <tr>\n",
       "      <th>6</th>\n",
       "      <td>PAY_2</td>\n",
       "      <td>0.151638</td>\n",
       "    </tr>\n",
       "    <tr>\n",
       "      <th>19</th>\n",
       "      <td>PAY_AMT3</td>\n",
       "      <td>0.052317</td>\n",
       "    </tr>\n",
       "    <tr>\n",
       "      <th>10</th>\n",
       "      <td>PAY_6</td>\n",
       "      <td>0.019297</td>\n",
       "    </tr>\n",
       "    <tr>\n",
       "      <th>11</th>\n",
       "      <td>BILL_AMT1</td>\n",
       "      <td>0.011226</td>\n",
       "    </tr>\n",
       "    <tr>\n",
       "      <th>8</th>\n",
       "      <td>PAY_4</td>\n",
       "      <td>0.003396</td>\n",
       "    </tr>\n",
       "    <tr>\n",
       "      <th>14</th>\n",
       "      <td>BILL_AMT4</td>\n",
       "      <td>0.000000</td>\n",
       "    </tr>\n",
       "    <tr>\n",
       "      <th>21</th>\n",
       "      <td>PAY_AMT5</td>\n",
       "      <td>0.000000</td>\n",
       "    </tr>\n",
       "    <tr>\n",
       "      <th>20</th>\n",
       "      <td>PAY_AMT4</td>\n",
       "      <td>0.000000</td>\n",
       "    </tr>\n",
       "    <tr>\n",
       "      <th>18</th>\n",
       "      <td>PAY_AMT2</td>\n",
       "      <td>0.000000</td>\n",
       "    </tr>\n",
       "    <tr>\n",
       "      <th>17</th>\n",
       "      <td>PAY_AMT1</td>\n",
       "      <td>0.000000</td>\n",
       "    </tr>\n",
       "    <tr>\n",
       "      <th>16</th>\n",
       "      <td>BILL_AMT6</td>\n",
       "      <td>0.000000</td>\n",
       "    </tr>\n",
       "    <tr>\n",
       "      <th>15</th>\n",
       "      <td>BILL_AMT5</td>\n",
       "      <td>0.000000</td>\n",
       "    </tr>\n",
       "    <tr>\n",
       "      <th>0</th>\n",
       "      <td>LIMIT_BAL</td>\n",
       "      <td>0.000000</td>\n",
       "    </tr>\n",
       "    <tr>\n",
       "      <th>13</th>\n",
       "      <td>BILL_AMT3</td>\n",
       "      <td>0.000000</td>\n",
       "    </tr>\n",
       "    <tr>\n",
       "      <th>12</th>\n",
       "      <td>BILL_AMT2</td>\n",
       "      <td>0.000000</td>\n",
       "    </tr>\n",
       "    <tr>\n",
       "      <th>1</th>\n",
       "      <td>SEX</td>\n",
       "      <td>0.000000</td>\n",
       "    </tr>\n",
       "    <tr>\n",
       "      <th>9</th>\n",
       "      <td>PAY_5</td>\n",
       "      <td>0.000000</td>\n",
       "    </tr>\n",
       "    <tr>\n",
       "      <th>7</th>\n",
       "      <td>PAY_3</td>\n",
       "      <td>0.000000</td>\n",
       "    </tr>\n",
       "    <tr>\n",
       "      <th>4</th>\n",
       "      <td>AGE</td>\n",
       "      <td>0.000000</td>\n",
       "    </tr>\n",
       "    <tr>\n",
       "      <th>3</th>\n",
       "      <td>MARRIAGE</td>\n",
       "      <td>0.000000</td>\n",
       "    </tr>\n",
       "    <tr>\n",
       "      <th>2</th>\n",
       "      <td>EDUCATION</td>\n",
       "      <td>0.000000</td>\n",
       "    </tr>\n",
       "    <tr>\n",
       "      <th>22</th>\n",
       "      <td>PAY_AMT6</td>\n",
       "      <td>0.000000</td>\n",
       "    </tr>\n",
       "  </tbody>\n",
       "</table>\n",
       "</div>"
      ],
      "text/plain": [
       "         feat     score\n",
       "5       PAY_1  0.762126\n",
       "6       PAY_2  0.151638\n",
       "19   PAY_AMT3  0.052317\n",
       "10      PAY_6  0.019297\n",
       "11  BILL_AMT1  0.011226\n",
       "8       PAY_4  0.003396\n",
       "14  BILL_AMT4  0.000000\n",
       "21   PAY_AMT5  0.000000\n",
       "20   PAY_AMT4  0.000000\n",
       "18   PAY_AMT2  0.000000\n",
       "17   PAY_AMT1  0.000000\n",
       "16  BILL_AMT6  0.000000\n",
       "15  BILL_AMT5  0.000000\n",
       "0   LIMIT_BAL  0.000000\n",
       "13  BILL_AMT3  0.000000\n",
       "12  BILL_AMT2  0.000000\n",
       "1         SEX  0.000000\n",
       "9       PAY_5  0.000000\n",
       "7       PAY_3  0.000000\n",
       "4         AGE  0.000000\n",
       "3    MARRIAGE  0.000000\n",
       "2   EDUCATION  0.000000\n",
       "22   PAY_AMT6  0.000000"
      ]
     },
     "execution_count": 26,
     "metadata": {},
     "output_type": "execute_result"
    }
   ],
   "source": [
    "def get_feature_importance(clsf, ftrs):\n",
    "    imp = clsf.feature_importances_.tolist()\n",
    "    feat = ftrs\n",
    "    result = pd.DataFrame({'feat':feat,'score':imp})\n",
    "    result = result.sort_values(by=['score'],ascending=False)\n",
    "    return result\n",
    "\n",
    "get_feature_importance(classifier, features)"
   ]
  },
  {
   "cell_type": "markdown",
   "metadata": {
    "_cell_guid": "42013291-45de-4d02-98ba-314ab04c702b",
    "_uuid": "c0034b553c5b5f58e985dab83153bace0d79c1f9"
   },
   "source": [
    "The variable PAY_1 are assigned to a specific client. It is so overwhelmingly important that I am tempted to see what happens if I just train on that one. I have no other place to be today, so here we go"
   ]
  },
  {
   "cell_type": "code",
   "execution_count": 27,
   "metadata": {
    "_cell_guid": "64353fa0-13ad-4d86-8a0b-3d21fd73155a",
    "_uuid": "5aa8ffd37a110a272f84ff21f3032488dd687b24"
   },
   "outputs": [
    {
     "name": "stderr",
     "output_type": "stream",
     "text": [
      "C:\\Users\\Admin\\anaconda3\\lib\\site-packages\\sklearn\\tree\\_classes.py:319: FutureWarning: The parameter 'presort' is deprecated and has no effect. It will be removed in v0.24. You can suppress this warning by not passing any value to the 'presort' parameter.\n",
      "  FutureWarning)\n"
     ]
    },
    {
     "data": {
      "text/plain": [
       "0.8193333333333334"
      ]
     },
     "execution_count": 27,
     "metadata": {},
     "output_type": "execute_result"
    }
   ],
   "source": [
    "X = df[['PAY_1']].copy()\n",
    "X_train, X_test, y_train, y_test = train_test_split(X, y, test_size=0.20, random_state=42)\n",
    "classifier.fit(X_train, y_train) #same classifier as before\n",
    "predictions = classifier.predict(X_test)\n",
    "accuracy_score(y_true = y_test, y_pred = predictions)"
   ]
  },
  {
   "cell_type": "markdown",
   "metadata": {
    "_cell_guid": "611ab8f4-2522-4a3f-baaa-bda266b39d7c",
    "_uuid": "2f3bcf7e13835b443f0bc22eb1a9efd8abda1341"
   },
   "source": [
    "This is just to humble us in front of the machine supremacy of using a very sofisticated if statement.\n",
    "\n",
    "The good thing about trees is that it is easy to visualize "
   ]
  },
  {
   "cell_type": "code",
   "execution_count": 28,
   "metadata": {
    "_cell_guid": "5c7d767b-69cc-49f6-9480-1432299ed1e0",
    "_uuid": "f06e1fa75fef17421c44fad4e8eede15f81dc98c"
   },
   "outputs": [
    {
     "ename": "ModuleNotFoundError",
     "evalue": "No module named 'graphviz'",
     "output_type": "error",
     "traceback": [
      "\u001b[1;31m---------------------------------------------------------------------------\u001b[0m",
      "\u001b[1;31mModuleNotFoundError\u001b[0m                       Traceback (most recent call last)",
      "\u001b[1;32m<ipython-input-28-d98cc0da580a>\u001b[0m in \u001b[0;36m<module>\u001b[1;34m\u001b[0m\n\u001b[0;32m      1\u001b[0m \u001b[1;32mfrom\u001b[0m \u001b[0msklearn\u001b[0m \u001b[1;32mimport\u001b[0m \u001b[0mtree\u001b[0m\u001b[1;33m\u001b[0m\u001b[1;33m\u001b[0m\u001b[0m\n\u001b[1;32m----> 2\u001b[1;33m \u001b[1;32mimport\u001b[0m \u001b[0mgraphviz\u001b[0m\u001b[1;33m\u001b[0m\u001b[1;33m\u001b[0m\u001b[0m\n\u001b[0m\u001b[0;32m      3\u001b[0m \u001b[0mdot_data\u001b[0m \u001b[1;33m=\u001b[0m \u001b[0mtree\u001b[0m\u001b[1;33m.\u001b[0m\u001b[0mexport_graphviz\u001b[0m\u001b[1;33m(\u001b[0m\u001b[0mclassifier\u001b[0m\u001b[1;33m,\u001b[0m \u001b[0mout_file\u001b[0m\u001b[1;33m=\u001b[0m\u001b[1;32mNone\u001b[0m\u001b[1;33m)\u001b[0m\u001b[1;33m\u001b[0m\u001b[1;33m\u001b[0m\u001b[0m\n\u001b[0;32m      4\u001b[0m \u001b[0mgraph\u001b[0m \u001b[1;33m=\u001b[0m \u001b[0mgraphviz\u001b[0m\u001b[1;33m.\u001b[0m\u001b[0mSource\u001b[0m\u001b[1;33m(\u001b[0m\u001b[0mdot_data\u001b[0m\u001b[1;33m)\u001b[0m\u001b[1;33m\u001b[0m\u001b[1;33m\u001b[0m\u001b[0m\n\u001b[0;32m      5\u001b[0m \u001b[0mgraph\u001b[0m\u001b[1;33m\u001b[0m\u001b[1;33m\u001b[0m\u001b[0m\n",
      "\u001b[1;31mModuleNotFoundError\u001b[0m: No module named 'graphviz'"
     ]
    }
   ],
   "source": [
    "from sklearn import tree\n",
    "import graphviz\n",
    "dot_data = tree.export_graphviz(classifier, out_file=None)  \n",
    "graph = graphviz.Source(dot_data)  \n",
    "graph"
   ]
  },
  {
   "cell_type": "markdown",
   "metadata": {
    "_cell_guid": "a5b3ae3a-791f-4ee8-b969-123e15a2271d",
    "_uuid": "0cd65266a69be7d5f9b74c4d0b8e1c4636852842"
   },
   "source": [
    "However, I have a doubt: in our dataset 20% of clients default, so if I make a model that just assignes 0 to def_pay I actually get an 80% of accuracy. In this sense, accuracy can be a misleading metric of the quality of our model. \n",
    "\n",
    "A better metric is the **f1-score**, which takes into account the false positives, the false negatives etc.\n",
    "\n",
    "So we define the precision as TP/(TP+FP) and recall as TP/(TP+FN) and we have F1 = 2 * (Prec * Rec) / (Prec + Rec)"
   ]
  },
  {
   "cell_type": "code",
   "execution_count": 29,
   "metadata": {
    "_cell_guid": "1d6a8ee9-3c2d-4e32-8030-c576311e6dcb",
    "_uuid": "9c917c1f95c272eb2ef24ce752087be5bb0c7894"
   },
   "outputs": [
    {
     "name": "stderr",
     "output_type": "stream",
     "text": [
      "C:\\Users\\Admin\\anaconda3\\lib\\site-packages\\sklearn\\tree\\_classes.py:319: FutureWarning: The parameter 'presort' is deprecated and has no effect. It will be removed in v0.24. You can suppress this warning by not passing any value to the 'presort' parameter.\n",
      "  FutureWarning)\n"
     ]
    },
    {
     "data": {
      "text/plain": [
       "0.4695996045477014"
      ]
     },
     "execution_count": 29,
     "metadata": {},
     "output_type": "execute_result"
    }
   ],
   "source": [
    "# import the tool\n",
    "from sklearn.metrics import f1_score\n",
    "#recreate the model and evaluate it\n",
    "X = df[features].copy()\n",
    "X_train, X_test, y_train, y_test = train_test_split(X, y, test_size=0.20, random_state=42)\n",
    "classifier.fit(X_train, y_train) #same classifier as before\n",
    "predictions = classifier.predict(X_test)\n",
    "f1_score(y_true = y_test, y_pred = predictions)"
   ]
  },
  {
   "cell_type": "code",
   "execution_count": 30,
   "metadata": {
    "_cell_guid": "be66e917-eb99-487f-aea4-c8f2f17a2049",
    "_uuid": "012775bea680696f5583522cb721b3f880042fe4"
   },
   "outputs": [
    {
     "name": "stdout",
     "output_type": "stream",
     "text": [
      "TP: 475, FP: 235, TN: 4452, FN: 838\n"
     ]
    }
   ],
   "source": [
    "# True Positive (TP): we predict a label of 1 (positive), and the true label is 1.\n",
    "TP = np.sum(np.logical_and(predictions == 1, y_test == 1))\n",
    " \n",
    "# True Negative (TN): we predict a label of 0 (negative), and the true label is 0.\n",
    "TN = np.sum(np.logical_and(predictions == 0, y_test == 0))\n",
    " \n",
    "# False Positive (FP): we predict a label of 1 (positive), but the true label is 0.\n",
    "FP = np.sum(np.logical_and(predictions == 1, y_test == 0))\n",
    " \n",
    "# False Negative (FN): we predict a label of 0 (negative), but the true label is 1.\n",
    "FN = np.sum(np.logical_and(predictions == 0, y_test == 1))\n",
    " \n",
    "print('TP: {}, FP: {}, TN: {}, FN: {}'.format(TP,FP,TN,FN))"
   ]
  },
  {
   "cell_type": "markdown",
   "metadata": {
    "_cell_guid": "cecd9c52-8bdb-486e-8ebd-f49d5491c652",
    "_uuid": "7f572faeeda1b3685786af08d34607f5ccccc68d"
   },
   "source": [
    "Which is a bad performance, especially if we consider how much can cost a false negative or a false positive. \n",
    "\n",
    "To be fair, we have chosen the parameters by picking the best in accuracy, let's try with this new metric"
   ]
  },
  {
   "cell_type": "code",
   "execution_count": 31,
   "metadata": {
    "_cell_guid": "c9c24bf6-0581-4a19-b5a4-2cea08b75e32",
    "_uuid": "0fd368fa5022a6993e3a44dc6d2fdfdc21229305"
   },
   "outputs": [
    {
     "name": "stdout",
     "output_type": "stream",
     "text": [
      "DecisionTreeClassifier(ccp_alpha=0.0, class_weight=None, criterion='gini',\n",
      "                       max_depth=5, max_features=None, max_leaf_nodes=20,\n",
      "                       min_impurity_decrease=0.0, min_impurity_split=None,\n",
      "                       min_samples_leaf=1, min_samples_split=2,\n",
      "                       min_weight_fraction_leaf=0.0, presort='deprecated',\n",
      "                       random_state=None, splitter='best')\n",
      "0.4808449569238791\n",
      "-------------\n",
      "0.4735565259582727\n",
      "         feat     score\n",
      "5       PAY_1  0.700515\n",
      "6       PAY_2  0.139945\n",
      "19   PAY_AMT3  0.053490\n",
      "9       PAY_5  0.023149\n",
      "11  BILL_AMT1  0.018404\n",
      "7       PAY_3  0.016853\n",
      "0   LIMIT_BAL  0.014510\n",
      "2   EDUCATION  0.009847\n",
      "10      PAY_6  0.008586\n",
      "8       PAY_4  0.007819\n",
      "4         AGE  0.004113\n",
      "18   PAY_AMT2  0.002768\n",
      "3    MARRIAGE  0.000000\n",
      "1         SEX  0.000000\n",
      "12  BILL_AMT2  0.000000\n",
      "13  BILL_AMT3  0.000000\n",
      "14  BILL_AMT4  0.000000\n",
      "15  BILL_AMT5  0.000000\n",
      "16  BILL_AMT6  0.000000\n",
      "17   PAY_AMT1  0.000000\n",
      "20   PAY_AMT4  0.000000\n",
      "21   PAY_AMT5  0.000000\n",
      "22   PAY_AMT6  0.000000\n",
      "-------------\n",
      "TP: 488, FP: 260, TN: 4427, FN: 825\n"
     ]
    }
   ],
   "source": [
    "param_grid = {'max_depth': np.arange(3, 10),\n",
    "             'criterion' : ['gini','entropy'],\n",
    "             'max_leaf_nodes': [5,10,20,100],\n",
    "             'min_samples_split': [2, 5, 10, 20]}\n",
    "grid_tree = GridSearchCV(DecisionTreeClassifier(), param_grid, cv = 5, scoring= 'f1')\n",
    "grid_tree.fit(X_train, y_train)\n",
    "best = grid_tree.best_estimator_\n",
    "print(grid_tree.best_estimator_)\n",
    "print(np.abs(grid_tree.best_score_))\n",
    "classifier = best\n",
    "classifier.fit(X_train, y_train)\n",
    "predictions = classifier.predict(X_test)\n",
    "print(\"-------------\")\n",
    "print(f1_score(y_true = y_test, y_pred = predictions))\n",
    "print(get_feature_importance(classifier, features))\n",
    "print(\"-------------\")\n",
    "TP = np.sum(np.logical_and(predictions == 1, y_test == 1))\n",
    "TN = np.sum(np.logical_and(predictions == 0, y_test == 0))\n",
    "FP = np.sum(np.logical_and(predictions == 1, y_test == 0))\n",
    "FN = np.sum(np.logical_and(predictions == 0, y_test == 1))\n",
    "print('TP: {}, FP: {}, TN: {}, FN: {}'.format(TP,FP,TN,FN))"
   ]
  },
  {
   "cell_type": "markdown",
   "metadata": {
    "_cell_guid": "c39eb066-3361-4e90-ad79-653c879c81da",
    "_uuid": "9deb4150dcc35a605d3fe177fef8473e832a91d4"
   },
   "source": [
    "Which is better, but still pretty bad for any practical purpose.\n",
    "\n",
    "I have learned a lot by this mistake, so I leave it for people like me and apologize to those that already knew it.\n",
    "\n",
    "Actually, there is an option for this classifier that should help, let's try it"
   ]
  },
  {
   "cell_type": "code",
   "execution_count": 32,
   "metadata": {
    "_cell_guid": "c496d3e0-eb44-4ab1-91cc-09510636749f",
    "_uuid": "ba7e8cc36cfa512d29f5ebd1841d6f6cfd12d554"
   },
   "outputs": [
    {
     "name": "stdout",
     "output_type": "stream",
     "text": [
      "DecisionTreeClassifier(ccp_alpha=0.0, class_weight='balanced',\n",
      "                       criterion='entropy', max_depth=4, max_features=None,\n",
      "                       max_leaf_nodes=20, min_impurity_decrease=0.0,\n",
      "                       min_impurity_split=None, min_samples_leaf=1,\n",
      "                       min_samples_split=2, min_weight_fraction_leaf=0.0,\n",
      "                       presort='deprecated', random_state=None,\n",
      "                       splitter='best')\n",
      "0.5274314619557235\n",
      "-------------\n",
      "0.5203784570596798\n",
      "         feat     score\n",
      "5       PAY_1  0.782776\n",
      "18   PAY_AMT2  0.069381\n",
      "8       PAY_4  0.049357\n",
      "6       PAY_2  0.039653\n",
      "0   LIMIT_BAL  0.021069\n",
      "20   PAY_AMT4  0.011959\n",
      "19   PAY_AMT3  0.011690\n",
      "7       PAY_3  0.006434\n",
      "2   EDUCATION  0.004715\n",
      "11  BILL_AMT1  0.002967\n",
      "10      PAY_6  0.000000\n",
      "1         SEX  0.000000\n",
      "12  BILL_AMT2  0.000000\n",
      "13  BILL_AMT3  0.000000\n",
      "14  BILL_AMT4  0.000000\n",
      "15  BILL_AMT5  0.000000\n",
      "16  BILL_AMT6  0.000000\n",
      "17   PAY_AMT1  0.000000\n",
      "9       PAY_5  0.000000\n",
      "4         AGE  0.000000\n",
      "3    MARRIAGE  0.000000\n",
      "21   PAY_AMT5  0.000000\n",
      "22   PAY_AMT6  0.000000\n",
      "-------------\n",
      "TP: 715, FP: 720, TN: 3967, FN: 598\n"
     ]
    }
   ],
   "source": [
    "param_grid = {'max_depth': np.arange(3, 10),\n",
    "             'criterion' : ['gini','entropy'],\n",
    "             'max_leaf_nodes': [5,10,20,100],\n",
    "             'min_samples_split': [2, 5, 10, 20],\n",
    "             'class_weight' : ['balanced']}\n",
    "grid_tree = GridSearchCV(DecisionTreeClassifier(), param_grid, cv = 5, scoring= 'f1')\n",
    "grid_tree.fit(X_train, y_train)\n",
    "best = grid_tree.best_estimator_\n",
    "print(grid_tree.best_estimator_)\n",
    "print(np.abs(grid_tree.best_score_))\n",
    "classifier = best\n",
    "classifier.fit(X_train, y_train)\n",
    "predictions = classifier.predict(X_test)\n",
    "print(\"-------------\")\n",
    "print(f1_score(y_true = y_test, y_pred = predictions))\n",
    "print(get_feature_importance(classifier, features))\n",
    "print(\"-------------\")\n",
    "TP = np.sum(np.logical_and(predictions == 1, y_test == 1))\n",
    "TN = np.sum(np.logical_and(predictions == 0, y_test == 0))\n",
    "FP = np.sum(np.logical_and(predictions == 1, y_test == 0))\n",
    "FN = np.sum(np.logical_and(predictions == 0, y_test == 1))\n",
    "print('TP: {}, FP: {}, TN: {}, FN: {}'.format(TP,FP,TN,FN))"
   ]
  },
  {
   "cell_type": "markdown",
   "metadata": {
    "_cell_guid": "5c261688-c5fd-4f6a-8ee9-b2f57bada11c",
    "_uuid": "64c07e515cd0372fc1d85cdcf43edc843074eb00"
   },
   "source": [
    "It is significantly better, but still pretty bad. Considering that is a result you reach by doing almost nothing, I find it very nice because it settle a lower bound in what we can achieve.\n",
    "\n",
    "Let's continue with the standard procedure and come back to exploring the data, cleaning them and create some new feature\n",
    "\n",
    "\n",
    "# Data exploration\n",
    "\n",
    "We have already had a feel of the dataset in the first few cells, let's have a better one while also exploring some very basic techniques.\n",
    "\n",
    "## Categorical variables\n",
    "\n",
    "That are SEX, MARRIAGE, EDUCATION, I want to see both how our dataset is divided and if there are sparse classes which can cause overfit of our models."
   ]
  },
  {
   "cell_type": "code",
   "execution_count": 33,
   "metadata": {
    "_cell_guid": "d6b324e3-5a99-4aa5-a244-ffd4d70e9775",
    "_uuid": "6f5929982863b1ba9b725a75a1e78ac11733da9d"
   },
   "outputs": [
    {
     "data": {
      "text/plain": [
       "2    18112\n",
       "1    11888\n",
       "Name: SEX, dtype: int64"
      ]
     },
     "execution_count": 33,
     "metadata": {},
     "output_type": "execute_result"
    }
   ],
   "source": [
    "df.SEX.value_counts() #this is fine, more women than men"
   ]
  },
  {
   "cell_type": "code",
   "execution_count": 34,
   "metadata": {
    "_cell_guid": "f958a5dc-2b8d-44ad-b82a-4c18213bb0f8",
    "_uuid": "d0a0f450ea65aa187ee74116fc0a264d19d56055"
   },
   "outputs": [
    {
     "data": {
      "text/plain": [
       "2    15964\n",
       "1    13659\n",
       "3      323\n",
       "0       54\n",
       "Name: MARRIAGE, dtype: int64"
      ]
     },
     "execution_count": 34,
     "metadata": {},
     "output_type": "execute_result"
    }
   ],
   "source": [
    "df['MARRIAGE'].value_counts()"
   ]
  },
  {
   "cell_type": "code",
   "execution_count": 35,
   "metadata": {
    "_cell_guid": "c321f70c-4f94-464b-82c3-f11f1df654ef",
    "_uuid": "1ad9cd7c226e37185beea1a226fdd85fc5ea2f91"
   },
   "outputs": [
    {
     "data": {
      "text/plain": [
       "2    14030\n",
       "1    10585\n",
       "3     4917\n",
       "5      280\n",
       "4      123\n",
       "6       51\n",
       "0       14\n",
       "Name: EDUCATION, dtype: int64"
      ]
     },
     "execution_count": 35,
     "metadata": {},
     "output_type": "execute_result"
    }
   ],
   "source": [
    "df.EDUCATION.value_counts() # yes, I am using different ways of calling a column"
   ]
  },
  {
   "cell_type": "markdown",
   "metadata": {
    "_cell_guid": "fe229871-4c6f-4533-93de-9b13de6d2f9d",
    "_uuid": "0bf2d391267553c41dd58a366f50aa8aa045d97e"
   },
   "source": [
    "If you are fancy people (and, let's face it, you are) you might speed up the exploration by just looking at a bar plot"
   ]
  },
  {
   "cell_type": "code",
   "execution_count": 36,
   "metadata": {
    "_cell_guid": "98f0c984-e90f-499c-9d0e-2fb29268035c",
    "_uuid": "24e9de5c82048081b900cb4dbfd1c55f9d66963f"
   },
   "outputs": [
    {
     "data": {
      "text/plain": [
       "<matplotlib.axes._subplots.AxesSubplot at 0x1ce108de608>"
      ]
     },
     "execution_count": 36,
     "metadata": {},
     "output_type": "execute_result"
    },
    {
     "data": {
      "image/png": "[encoded data removed]",
      "text/plain": [
       "<Figure size 432x288 with 1 Axes>"
      ]
     },
     "metadata": {
      "needs_background": "light"
     },
     "output_type": "display_data"
    }
   ],
   "source": [
    "df.MARRIAGE.value_counts().plot(kind = 'bar')"
   ]
  },
  {
   "cell_type": "markdown",
   "metadata": {
    "_cell_guid": "2813b5dd-881e-43f0-b7bf-f0abca32b65f",
    "_uuid": "f7f5f43fc118686e242bb338572731429e965b07"
   },
   "source": [
    "Or a better one even"
   ]
  },
  {
   "cell_type": "code",
   "execution_count": 37,
   "metadata": {
    "_cell_guid": "9dc8c0a1-f245-4127-8e3f-3d5cda26be50",
    "_uuid": "1ac329a976489b364580eb884bc3ee9d5d99b9d0"
   },
   "outputs": [
    {
     "data": {
      "text/plain": [
       "<matplotlib.axes._subplots.AxesSubplot at 0x1ce14728e08>"
      ]
     },
     "execution_count": 37,
     "metadata": {},
     "output_type": "execute_result"
    },
    {
     "data": {
      "image/png": "[encoded data removed]",
      "text/plain": [
       "<Figure size 432x288 with 1 Axes>"
      ]
     },
     "metadata": {
      "needs_background": "light"
     },
     "output_type": "display_data"
    }
   ],
   "source": [
    "df.EDUCATION.value_counts().plot(kind = \"barh\")"
   ]
  },
  {
   "cell_type": "markdown",
   "metadata": {
    "_cell_guid": "b79c65de-ad8d-4bf2-aaae-ba301ca6ea3f",
    "_uuid": "0b61fc31fbede21a792c992c9df0dbed0bfac809"
   },
   "source": [
    "Which shows immediately that some classes will need some cleaning.\n",
    "\n",
    "Let's move on with what was supposed to be the first exploration\n",
    "\n",
    "## Numerical variables\n",
    "\n",
    "I want to use some histograms to have a feel of the distribution, checking if they make sense, the presence of outliers etc"
   ]
  },
  {
   "cell_type": "code",
   "execution_count": 38,
   "metadata": {
    "_cell_guid": "ce01718e-010c-46b5-a5e1-edefab94c31d",
    "_uuid": "f20c8ab4ce6b0d2410e3096e038dc57de3df358a"
   },
   "outputs": [],
   "source": [
    "def draw_histograms(df, variables, n_rows, n_cols, n_bins):\n",
    "    fig=plt.figure()\n",
    "    for i, var_name in enumerate(variables):\n",
    "        ax=fig.add_subplot(n_rows,n_cols,i+1)\n",
    "        df[var_name].hist(bins=n_bins,ax=ax)\n",
    "        ax.set_title(var_name)\n",
    "    fig.tight_layout()  # Improves appearance a bit.\n",
    "    plt.show()"
   ]
  },
  {
   "cell_type": "code",
   "execution_count": 39,
   "metadata": {
    "_cell_guid": "3f7fb4aa-5857-40b9-90dc-3166f1253894",
    "_uuid": "5fb8a92dbad6e461d892652861fb1046d6d639eb"
   },
   "outputs": [
    {
     "data": {
      "image/png": "[encoded data removed]",
      "text/plain": [
       "<Figure size 432x288 with 6 Axes>"
      ]
     },
     "metadata": {
      "needs_background": "light"
     },
     "output_type": "display_data"
    }
   ],
   "source": [
    "bills = df[['BILL_AMT1','BILL_AMT2', 'BILL_AMT3', 'BILL_AMT4', 'BILL_AMT5', 'BILL_AMT6']]\n",
    "draw_histograms(bills, bills.columns, 2, 3, 20)"
   ]
  },
  {
   "cell_type": "code",
   "execution_count": 40,
   "metadata": {
    "_cell_guid": "29022099-4561-439e-bc79-2fca5b022d5e",
    "_uuid": "bf8ac7474045da42464c1f3595d8c5f4a7762781"
   },
   "outputs": [
    {
     "data": {
      "image/png": "[encoded data removed]",
      "text/plain": [
       "<Figure size 432x288 with 6 Axes>"
      ]
     },
     "metadata": {
      "needs_background": "light"
     },
     "output_type": "display_data"
    }
   ],
   "source": [
    "pay = df[['PAY_AMT1','PAY_AMT2', 'PAY_AMT3', 'PAY_AMT4', 'PAY_AMT5', 'PAY_AMT6']]\n",
    "draw_histograms(pay, pay.columns, 2, 3, 20)"
   ]
  },
  {
   "cell_type": "code",
   "execution_count": 41,
   "metadata": {
    "_cell_guid": "7ecfafe6-4a83-4744-858c-08a1813b559c",
    "_uuid": "13cd421330b659ca6a2b90ecacd434c7dafbf06c"
   },
   "outputs": [
    {
     "data": {
      "image/png": "[encoded data removed]",
      "text/plain": [
       "<Figure size 432x288 with 6 Axes>"
      ]
     },
     "metadata": {
      "needs_background": "light"
     },
     "output_type": "display_data"
    }
   ],
   "source": [
    "late = df[['PAY_1','PAY_2', 'PAY_3', 'PAY_4', 'PAY_5', 'PAY_6']]\n",
    "draw_histograms(late, late.columns, 2, 3, 10)\n",
    "\n",
    "#this is probably more of a category"
   ]
  },
  {
   "cell_type": "code",
   "execution_count": 42,
   "metadata": {
    "_cell_guid": "9415d2f2-43b8-434e-9d0c-78f49c967ebb",
    "_uuid": "719e4e12f92d3cc6ca98c014f8ce74714a78a91e"
   },
   "outputs": [
    {
     "data": {
      "text/plain": [
       "<matplotlib.axes._subplots.AxesSubplot at 0x1ce17cfd908>"
      ]
     },
     "execution_count": 42,
     "metadata": {},
     "output_type": "execute_result"
    },
    {
     "data": {
      "image/png": "[encoded data removed]",
      "text/plain": [
       "<Figure size 432x288 with 1 Axes>"
      ]
     },
     "metadata": {
      "needs_background": "light"
     },
     "output_type": "display_data"
    }
   ],
   "source": [
    "df.AGE.hist()"
   ]
  },
  {
   "cell_type": "code",
   "execution_count": 43,
   "metadata": {
    "_cell_guid": "600d2e2b-c651-4b64-91a2-de7eb8a4e8d7",
    "_uuid": "3f36e8b4d416dec5919c0215aefa3ccc17782e5f"
   },
   "outputs": [
    {
     "data": {
      "text/plain": [
       "<matplotlib.axes._subplots.AxesSubplot at 0x1ce17cc6308>"
      ]
     },
     "execution_count": 43,
     "metadata": {},
     "output_type": "execute_result"
    },
    {
     "data": {
      "image/png": "[encoded data removed]",
      "text/plain": [
       "<Figure size 432x288 with 1 Axes>"
      ]
     },
     "metadata": {
      "needs_background": "light"
     },
     "output_type": "display_data"
    }
   ],
   "source": [
    "df.LIMIT_BAL.hist(bins = 20)"
   ]
  },
  {
   "cell_type": "markdown",
   "metadata": {
    "_cell_guid": "fa644428-c814-4eed-a868-e1ebaab34335",
    "_uuid": "68597a81fd2ed643dc5f63d5eaac5b436f7a342a"
   },
   "source": [
    "What I observe is that the quantities referred to some amount of money have a very large range, which can cause problems to some some models (for example in linear regression models)\n",
    "\n",
    "# Data Cleaning\n",
    "\n",
    "As seen previously, some categories are mislabeled or undocumented. Before proceeding, it is time to fix it.\n",
    "\n",
    "The 0 in MARRIAGE can be safely categorized as 'Other' (thus 3). \n",
    "\n",
    "The 0 (undocumented), 5 and 6 (label unknown) in EDUCATION can also be put in a 'Other' cathegory (thus 4)\n",
    "\n",
    "Thus is a good occasion to learn how to use the .loc function"
   ]
  },
  {
   "cell_type": "code",
   "execution_count": 44,
   "metadata": {
    "_cell_guid": "47964752-cfba-4e75-9deb-756b6a6c84e5",
    "_uuid": "404163c74b1cc932b2c505e94d3199afe19ccf30"
   },
   "outputs": [
    {
     "data": {
      "text/plain": [
       "2    14030\n",
       "1    10585\n",
       "3     4917\n",
       "4      468\n",
       "Name: EDUCATION, dtype: int64"
      ]
     },
     "execution_count": 44,
     "metadata": {},
     "output_type": "execute_result"
    }
   ],
   "source": [
    "fil = (df.EDUCATION == 5) | (df.EDUCATION == 6) | (df.EDUCATION == 0)\n",
    "df.loc[fil, 'EDUCATION'] = 4\n",
    "df.EDUCATION.value_counts()"
   ]
  },
  {
   "cell_type": "code",
   "execution_count": 45,
   "metadata": {
    "_cell_guid": "ed120564-0428-46d4-830a-a3f6e09502dc",
    "_uuid": "836947201e30f36acc53aa66a38e60a1faef0160"
   },
   "outputs": [
    {
     "data": {
      "text/plain": [
       "2    15964\n",
       "1    13659\n",
       "3      377\n",
       "Name: MARRIAGE, dtype: int64"
      ]
     },
     "execution_count": 45,
     "metadata": {},
     "output_type": "execute_result"
    }
   ],
   "source": [
    "df.loc[df.MARRIAGE == 0, 'MARRIAGE'] = 3\n",
    "df.MARRIAGE.value_counts()"
   ]
  },
  {
   "cell_type": "markdown",
   "metadata": {
    "_cell_guid": "55ab286e-661f-4a52-9974-6ac5816eb0ce",
    "_uuid": "bcfa6ae2a86746fea3568ed66db8d2b2f4bc6ac0"
   },
   "source": [
    "One might wonder what these labels might mean.\n",
    "\n",
    "* \"Other\" in education can be an education lower than the high school level.\n",
    "* \"Other\" in marriage could be, for example, \"divorced\". \n",
    "\n",
    "According to our documentation, the PAY_n variables indicate the number of months of delay and indicates \"pay duly\"with -1. Then what is -2? And what is 0? It seems to me the label has to be adjusted to 0 for pay duly."
   ]
  },
  {
   "cell_type": "code",
   "execution_count": 46,
   "metadata": {
    "_cell_guid": "05d1e306-91b8-4716-aead-e671fd716d17",
    "_uuid": "990178659c1fd30a834150fa5e3102b49e5c0c8e"
   },
   "outputs": [
    {
     "data": {
      "image/png": "[encoded data removed]",
      "text/plain": [
       "<Figure size 432x288 with 6 Axes>"
      ]
     },
     "metadata": {
      "needs_background": "light"
     },
     "output_type": "display_data"
    }
   ],
   "source": [
    "fil = (df.PAY_1 == -2) | (df.PAY_1 == -1) | (df.PAY_1 == 0)\n",
    "df.loc[fil, 'PAY_1'] = 0\n",
    "fil = (df.PAY_2 == -2) | (df.PAY_2 == -1) | (df.PAY_2 == 0)\n",
    "df.loc[fil, 'PAY_2'] = 0\n",
    "fil = (df.PAY_3 == -2) | (df.PAY_3 == -1) | (df.PAY_3 == 0)\n",
    "df.loc[fil, 'PAY_3'] = 0\n",
    "fil = (df.PAY_4 == -2) | (df.PAY_4 == -1) | (df.PAY_4 == 0)\n",
    "df.loc[fil, 'PAY_4'] = 0\n",
    "fil = (df.PAY_5 == -2) | (df.PAY_5 == -1) | (df.PAY_5 == 0)\n",
    "df.loc[fil, 'PAY_5'] = 0\n",
    "fil = (df.PAY_6 == -2) | (df.PAY_6 == -1) | (df.PAY_6 == 0)\n",
    "df.loc[fil, 'PAY_6'] = 0\n",
    "late = df[['PAY_1','PAY_2', 'PAY_3', 'PAY_4', 'PAY_5', 'PAY_6']]\n",
    "draw_histograms(late, late.columns, 2, 3, 10)"
   ]
  },
  {
   "cell_type": "markdown",
   "metadata": {
    "_cell_guid": "1ac1786d-52e9-4eb0-97cb-4bab9fa44f3a",
    "_uuid": "2158891d661ec3f6c8871ea7f096ea6d3f6d5158"
   },
   "source": [
    "Next, I am puzzled by how wide is the range of possible values in the features regarding money, so let's see, for example the PAY_AMT1 that are anomalous."
   ]
  },
  {
   "cell_type": "code",
   "execution_count": 47,
   "metadata": {
    "_cell_guid": "b07d67b3-62ae-4487-95e0-4ca888cda457",
    "_uuid": "249a28c4b32788318fa54df7a31a65873447e95e"
   },
   "outputs": [
    {
     "data": {
      "text/html": [
       "<div>\n",
       "<style scoped>\n",
       "    .dataframe tbody tr th:only-of-type {\n",
       "        vertical-align: middle;\n",
       "    }\n",
       "\n",
       "    .dataframe tbody tr th {\n",
       "        vertical-align: top;\n",
       "    }\n",
       "\n",
       "    .dataframe thead th {\n",
       "        text-align: right;\n",
       "    }\n",
       "</style>\n",
       "<table border=\"1\" class=\"dataframe\">\n",
       "  <thead>\n",
       "    <tr style=\"text-align: right;\">\n",
       "      <th></th>\n",
       "      <th>LIMIT_BAL</th>\n",
       "      <th>PAY_1</th>\n",
       "      <th>PAY_2</th>\n",
       "      <th>BILL_AMT2</th>\n",
       "      <th>PAY_AMT1</th>\n",
       "      <th>BILL_AMT1</th>\n",
       "      <th>def_pay</th>\n",
       "    </tr>\n",
       "  </thead>\n",
       "  <tbody>\n",
       "    <tr>\n",
       "      <th>2687</th>\n",
       "      <td>500000.0</td>\n",
       "      <td>0</td>\n",
       "      <td>0</td>\n",
       "      <td>367979.0</td>\n",
       "      <td>368199.0</td>\n",
       "      <td>71921.0</td>\n",
       "      <td>0</td>\n",
       "    </tr>\n",
       "    <tr>\n",
       "      <th>5687</th>\n",
       "      <td>480000.0</td>\n",
       "      <td>0</td>\n",
       "      <td>0</td>\n",
       "      <td>400000.0</td>\n",
       "      <td>302000.0</td>\n",
       "      <td>106660.0</td>\n",
       "      <td>0</td>\n",
       "    </tr>\n",
       "    <tr>\n",
       "      <th>8500</th>\n",
       "      <td>400000.0</td>\n",
       "      <td>0</td>\n",
       "      <td>0</td>\n",
       "      <td>405016.0</td>\n",
       "      <td>405016.0</td>\n",
       "      <td>6500.0</td>\n",
       "      <td>0</td>\n",
       "    </tr>\n",
       "    <tr>\n",
       "      <th>12330</th>\n",
       "      <td>300000.0</td>\n",
       "      <td>1</td>\n",
       "      <td>0</td>\n",
       "      <td>324392.0</td>\n",
       "      <td>505000.0</td>\n",
       "      <td>-165580.0</td>\n",
       "      <td>0</td>\n",
       "    </tr>\n",
       "    <tr>\n",
       "      <th>25431</th>\n",
       "      <td>170000.0</td>\n",
       "      <td>0</td>\n",
       "      <td>0</td>\n",
       "      <td>167941.0</td>\n",
       "      <td>304815.0</td>\n",
       "      <td>30860.0</td>\n",
       "      <td>0</td>\n",
       "    </tr>\n",
       "    <tr>\n",
       "      <th>28003</th>\n",
       "      <td>510000.0</td>\n",
       "      <td>0</td>\n",
       "      <td>0</td>\n",
       "      <td>481382.0</td>\n",
       "      <td>493358.0</td>\n",
       "      <td>71121.0</td>\n",
       "      <td>0</td>\n",
       "    </tr>\n",
       "    <tr>\n",
       "      <th>28716</th>\n",
       "      <td>340000.0</td>\n",
       "      <td>0</td>\n",
       "      <td>0</td>\n",
       "      <td>176743.0</td>\n",
       "      <td>873552.0</td>\n",
       "      <td>139808.0</td>\n",
       "      <td>0</td>\n",
       "    </tr>\n",
       "    <tr>\n",
       "      <th>29820</th>\n",
       "      <td>400000.0</td>\n",
       "      <td>1</td>\n",
       "      <td>0</td>\n",
       "      <td>394858.0</td>\n",
       "      <td>423903.0</td>\n",
       "      <td>396343.0</td>\n",
       "      <td>0</td>\n",
       "    </tr>\n",
       "    <tr>\n",
       "      <th>29867</th>\n",
       "      <td>340000.0</td>\n",
       "      <td>0</td>\n",
       "      <td>0</td>\n",
       "      <td>331641.0</td>\n",
       "      <td>300039.0</td>\n",
       "      <td>44855.0</td>\n",
       "      <td>0</td>\n",
       "    </tr>\n",
       "    <tr>\n",
       "      <th>29963</th>\n",
       "      <td>610000.0</td>\n",
       "      <td>0</td>\n",
       "      <td>0</td>\n",
       "      <td>322228.0</td>\n",
       "      <td>323014.0</td>\n",
       "      <td>348392.0</td>\n",
       "      <td>0</td>\n",
       "    </tr>\n",
       "  </tbody>\n",
       "</table>\n",
       "</div>"
      ],
      "text/plain": [
       "       LIMIT_BAL  PAY_1  PAY_2  BILL_AMT2  PAY_AMT1  BILL_AMT1  def_pay\n",
       "2687    500000.0      0      0   367979.0  368199.0    71921.0        0\n",
       "5687    480000.0      0      0   400000.0  302000.0   106660.0        0\n",
       "8500    400000.0      0      0   405016.0  405016.0     6500.0        0\n",
       "12330   300000.0      1      0   324392.0  505000.0  -165580.0        0\n",
       "25431   170000.0      0      0   167941.0  304815.0    30860.0        0\n",
       "28003   510000.0      0      0   481382.0  493358.0    71121.0        0\n",
       "28716   340000.0      0      0   176743.0  873552.0   139808.0        0\n",
       "29820   400000.0      1      0   394858.0  423903.0   396343.0        0\n",
       "29867   340000.0      0      0   331641.0  300039.0    44855.0        0\n",
       "29963   610000.0      0      0   322228.0  323014.0   348392.0        0"
      ]
     },
     "execution_count": 47,
     "metadata": {},
     "output_type": "execute_result"
    }
   ],
   "source": [
    "df[df.PAY_AMT1 > 300000][['LIMIT_BAL', 'PAY_1', 'PAY_2', 'BILL_AMT2', \n",
    "                          'PAY_AMT1', 'BILL_AMT1', 'def_pay']]\n",
    "# doesn't look weird after all"
   ]
  },
  {
   "cell_type": "code",
   "execution_count": 48,
   "metadata": {
    "_cell_guid": "4c5825e1-8dd7-4f28-beb1-ff6530e95fbf",
    "_uuid": "fb6071224f71b697d2d21727ec73c1fea5e9ae15"
   },
   "outputs": [
    {
     "data": {
      "text/html": [
       "<div>\n",
       "<style scoped>\n",
       "    .dataframe tbody tr th:only-of-type {\n",
       "        vertical-align: middle;\n",
       "    }\n",
       "\n",
       "    .dataframe tbody tr th {\n",
       "        vertical-align: top;\n",
       "    }\n",
       "\n",
       "    .dataframe thead th {\n",
       "        text-align: right;\n",
       "    }\n",
       "</style>\n",
       "<table border=\"1\" class=\"dataframe\">\n",
       "  <thead>\n",
       "    <tr style=\"text-align: right;\">\n",
       "      <th></th>\n",
       "      <th>LIMIT_BAL</th>\n",
       "      <th>PAY_2</th>\n",
       "      <th>PAY_3</th>\n",
       "      <th>BILL_AMT3</th>\n",
       "      <th>PAY_AMT2</th>\n",
       "      <th>BILL_AMT2</th>\n",
       "      <th>def_pay</th>\n",
       "    </tr>\n",
       "  </thead>\n",
       "  <tbody>\n",
       "    <tr>\n",
       "      <th>2592</th>\n",
       "      <td>480000.0</td>\n",
       "      <td>0</td>\n",
       "      <td>0</td>\n",
       "      <td>339176.0</td>\n",
       "      <td>344261.0</td>\n",
       "      <td>38929.0</td>\n",
       "      <td>0</td>\n",
       "    </tr>\n",
       "    <tr>\n",
       "      <th>3774</th>\n",
       "      <td>500000.0</td>\n",
       "      <td>0</td>\n",
       "      <td>0</td>\n",
       "      <td>301441.0</td>\n",
       "      <td>302961.0</td>\n",
       "      <td>39356.0</td>\n",
       "      <td>0</td>\n",
       "    </tr>\n",
       "    <tr>\n",
       "      <th>5296</th>\n",
       "      <td>500000.0</td>\n",
       "      <td>0</td>\n",
       "      <td>0</td>\n",
       "      <td>1664089.0</td>\n",
       "      <td>1684259.0</td>\n",
       "      <td>-18088.0</td>\n",
       "      <td>0</td>\n",
       "    </tr>\n",
       "    <tr>\n",
       "      <th>5400</th>\n",
       "      <td>500000.0</td>\n",
       "      <td>0</td>\n",
       "      <td>0</td>\n",
       "      <td>385228.0</td>\n",
       "      <td>385228.0</td>\n",
       "      <td>8970.0</td>\n",
       "      <td>0</td>\n",
       "    </tr>\n",
       "    <tr>\n",
       "      <th>6150</th>\n",
       "      <td>300000.0</td>\n",
       "      <td>0</td>\n",
       "      <td>0</td>\n",
       "      <td>4735.0</td>\n",
       "      <td>344467.0</td>\n",
       "      <td>-5973.0</td>\n",
       "      <td>1</td>\n",
       "    </tr>\n",
       "    <tr>\n",
       "      <th>6864</th>\n",
       "      <td>500000.0</td>\n",
       "      <td>0</td>\n",
       "      <td>0</td>\n",
       "      <td>444462.0</td>\n",
       "      <td>300018.0</td>\n",
       "      <td>201402.0</td>\n",
       "      <td>0</td>\n",
       "    </tr>\n",
       "    <tr>\n",
       "      <th>9044</th>\n",
       "      <td>500000.0</td>\n",
       "      <td>0</td>\n",
       "      <td>0</td>\n",
       "      <td>384973.0</td>\n",
       "      <td>384986.0</td>\n",
       "      <td>24201.0</td>\n",
       "      <td>0</td>\n",
       "    </tr>\n",
       "    <tr>\n",
       "      <th>11568</th>\n",
       "      <td>430000.0</td>\n",
       "      <td>0</td>\n",
       "      <td>0</td>\n",
       "      <td>354716.0</td>\n",
       "      <td>358689.0</td>\n",
       "      <td>960.0</td>\n",
       "      <td>1</td>\n",
       "    </tr>\n",
       "    <tr>\n",
       "      <th>11853</th>\n",
       "      <td>360000.0</td>\n",
       "      <td>1</td>\n",
       "      <td>0</td>\n",
       "      <td>338600.0</td>\n",
       "      <td>361560.0</td>\n",
       "      <td>-22960.0</td>\n",
       "      <td>0</td>\n",
       "    </tr>\n",
       "    <tr>\n",
       "      <th>12829</th>\n",
       "      <td>340000.0</td>\n",
       "      <td>0</td>\n",
       "      <td>0</td>\n",
       "      <td>330510.0</td>\n",
       "      <td>312723.0</td>\n",
       "      <td>335584.0</td>\n",
       "      <td>1</td>\n",
       "    </tr>\n",
       "    <tr>\n",
       "      <th>13186</th>\n",
       "      <td>750000.0</td>\n",
       "      <td>0</td>\n",
       "      <td>0</td>\n",
       "      <td>401003.0</td>\n",
       "      <td>401003.0</td>\n",
       "      <td>9655.0</td>\n",
       "      <td>0</td>\n",
       "    </tr>\n",
       "    <tr>\n",
       "      <th>13863</th>\n",
       "      <td>520000.0</td>\n",
       "      <td>0</td>\n",
       "      <td>0</td>\n",
       "      <td>385425.0</td>\n",
       "      <td>415552.0</td>\n",
       "      <td>2728.0</td>\n",
       "      <td>0</td>\n",
       "    </tr>\n",
       "    <tr>\n",
       "      <th>14513</th>\n",
       "      <td>460000.0</td>\n",
       "      <td>0</td>\n",
       "      <td>0</td>\n",
       "      <td>309622.0</td>\n",
       "      <td>580464.0</td>\n",
       "      <td>261444.0</td>\n",
       "      <td>0</td>\n",
       "    </tr>\n",
       "    <tr>\n",
       "      <th>16917</th>\n",
       "      <td>350000.0</td>\n",
       "      <td>0</td>\n",
       "      <td>0</td>\n",
       "      <td>355925.0</td>\n",
       "      <td>340000.0</td>\n",
       "      <td>107315.0</td>\n",
       "      <td>0</td>\n",
       "    </tr>\n",
       "    <tr>\n",
       "      <th>19723</th>\n",
       "      <td>500000.0</td>\n",
       "      <td>0</td>\n",
       "      <td>0</td>\n",
       "      <td>367979.0</td>\n",
       "      <td>368199.0</td>\n",
       "      <td>71921.0</td>\n",
       "      <td>0</td>\n",
       "    </tr>\n",
       "    <tr>\n",
       "      <th>21250</th>\n",
       "      <td>340000.0</td>\n",
       "      <td>0</td>\n",
       "      <td>0</td>\n",
       "      <td>388126.0</td>\n",
       "      <td>388126.0</td>\n",
       "      <td>43418.0</td>\n",
       "      <td>0</td>\n",
       "    </tr>\n",
       "    <tr>\n",
       "      <th>24920</th>\n",
       "      <td>430000.0</td>\n",
       "      <td>0</td>\n",
       "      <td>0</td>\n",
       "      <td>336073.0</td>\n",
       "      <td>325470.0</td>\n",
       "      <td>46127.0</td>\n",
       "      <td>0</td>\n",
       "    </tr>\n",
       "    <tr>\n",
       "      <th>25731</th>\n",
       "      <td>80000.0</td>\n",
       "      <td>0</td>\n",
       "      <td>0</td>\n",
       "      <td>855086.0</td>\n",
       "      <td>1024516.0</td>\n",
       "      <td>-215.0</td>\n",
       "      <td>0</td>\n",
       "    </tr>\n",
       "    <tr>\n",
       "      <th>28003</th>\n",
       "      <td>510000.0</td>\n",
       "      <td>0</td>\n",
       "      <td>0</td>\n",
       "      <td>559712.0</td>\n",
       "      <td>1227082.0</td>\n",
       "      <td>481382.0</td>\n",
       "      <td>0</td>\n",
       "    </tr>\n",
       "    <tr>\n",
       "      <th>28716</th>\n",
       "      <td>340000.0</td>\n",
       "      <td>0</td>\n",
       "      <td>0</td>\n",
       "      <td>34402.0</td>\n",
       "      <td>1215471.0</td>\n",
       "      <td>176743.0</td>\n",
       "      <td>0</td>\n",
       "    </tr>\n",
       "    <tr>\n",
       "      <th>28993</th>\n",
       "      <td>480000.0</td>\n",
       "      <td>0</td>\n",
       "      <td>0</td>\n",
       "      <td>400000.0</td>\n",
       "      <td>302000.0</td>\n",
       "      <td>106660.0</td>\n",
       "      <td>1</td>\n",
       "    </tr>\n",
       "  </tbody>\n",
       "</table>\n",
       "</div>"
      ],
      "text/plain": [
       "       LIMIT_BAL  PAY_2  PAY_3  BILL_AMT3   PAY_AMT2  BILL_AMT2  def_pay\n",
       "2592    480000.0      0      0   339176.0   344261.0    38929.0        0\n",
       "3774    500000.0      0      0   301441.0   302961.0    39356.0        0\n",
       "5296    500000.0      0      0  1664089.0  1684259.0   -18088.0        0\n",
       "5400    500000.0      0      0   385228.0   385228.0     8970.0        0\n",
       "6150    300000.0      0      0     4735.0   344467.0    -5973.0        1\n",
       "6864    500000.0      0      0   444462.0   300018.0   201402.0        0\n",
       "9044    500000.0      0      0   384973.0   384986.0    24201.0        0\n",
       "11568   430000.0      0      0   354716.0   358689.0      960.0        1\n",
       "11853   360000.0      1      0   338600.0   361560.0   -22960.0        0\n",
       "12829   340000.0      0      0   330510.0   312723.0   335584.0        1\n",
       "13186   750000.0      0      0   401003.0   401003.0     9655.0        0\n",
       "13863   520000.0      0      0   385425.0   415552.0     2728.0        0\n",
       "14513   460000.0      0      0   309622.0   580464.0   261444.0        0\n",
       "16917   350000.0      0      0   355925.0   340000.0   107315.0        0\n",
       "19723   500000.0      0      0   367979.0   368199.0    71921.0        0\n",
       "21250   340000.0      0      0   388126.0   388126.0    43418.0        0\n",
       "24920   430000.0      0      0   336073.0   325470.0    46127.0        0\n",
       "25731    80000.0      0      0   855086.0  1024516.0     -215.0        0\n",
       "28003   510000.0      0      0   559712.0  1227082.0   481382.0        0\n",
       "28716   340000.0      0      0    34402.0  1215471.0   176743.0        0\n",
       "28993   480000.0      0      0   400000.0   302000.0   106660.0        1"
      ]
     },
     "execution_count": 48,
     "metadata": {},
     "output_type": "execute_result"
    }
   ],
   "source": [
    "df[df.PAY_AMT2 > 300000][['LIMIT_BAL', 'PAY_2', 'PAY_3', 'BILL_AMT3', \n",
    "                          'PAY_AMT2', 'BILL_AMT2', 'def_pay']]\n",
    "# doesn't look weird after all"
   ]
  },
  {
   "cell_type": "markdown",
   "metadata": {
    "_cell_guid": "44bc8ed7-1c42-4801-a3d5-36144c47791c",
    "_uuid": "ca7cd53510c683b1fcf81b3144092cd124248112"
   },
   "source": [
    "A quick check on all the others reveal that they are not outliers but simply clients with a lot of money.\n",
    "\n",
    "However, I will keep this in mind in case of algorithms sensible to scales.\n",
    "\n",
    "## Further analysis\n",
    "\n",
    "Now that I have fixed what looked strange, I can look at the correlations with the target variable.\n",
    "\n",
    "The goal is to see how relevant each feature is, what is its meaning, if it can be used to create new features, and, as usual, play a bit with other basic techniques."
   ]
  },
  {
   "cell_type": "code",
   "execution_count": 49,
   "metadata": {
    "_cell_guid": "7e6a15ce-156c-4efc-8a91-8bbfdc54e678",
    "_uuid": "db3501e4684cbdd0bc28a8f85780571e75fcbe03"
   },
   "outputs": [
    {
     "data": {
      "text/plain": [
       "SEX  def_pay\n",
       "1    0           9015\n",
       "     1           2873\n",
       "2    0          14349\n",
       "     1           3763\n",
       "dtype: int64"
      ]
     },
     "execution_count": 49,
     "metadata": {},
     "output_type": "execute_result"
    }
   ],
   "source": [
    "df.groupby(['SEX', 'def_pay']).size()"
   ]
  },
  {
   "cell_type": "markdown",
   "metadata": {
    "_cell_guid": "ba1a01cd-3b7d-46f8-a995-338196afbadf",
    "_uuid": "98fa430e3b5d00f81fac9e7ccf8d6d2217608d74"
   },
   "source": [
    "Well, this doesn't look very good, why don't we create a dataframe out of it?"
   ]
  },
  {
   "cell_type": "code",
   "execution_count": 50,
   "metadata": {
    "_cell_guid": "f099360c-daf0-4342-8eef-cb8ec283c188",
    "_uuid": "afd1f86f7e1f77d07a1e03fbfffcf24da8d16dc7"
   },
   "outputs": [
    {
     "data": {
      "text/html": [
       "<div>\n",
       "<style scoped>\n",
       "    .dataframe tbody tr th:only-of-type {\n",
       "        vertical-align: middle;\n",
       "    }\n",
       "\n",
       "    .dataframe tbody tr th {\n",
       "        vertical-align: top;\n",
       "    }\n",
       "\n",
       "    .dataframe thead th {\n",
       "        text-align: right;\n",
       "    }\n",
       "</style>\n",
       "<table border=\"1\" class=\"dataframe\">\n",
       "  <thead>\n",
       "    <tr style=\"text-align: right;\">\n",
       "      <th>def_pay</th>\n",
       "      <th>0</th>\n",
       "      <th>1</th>\n",
       "    </tr>\n",
       "    <tr>\n",
       "      <th>SEX</th>\n",
       "      <th></th>\n",
       "      <th></th>\n",
       "    </tr>\n",
       "  </thead>\n",
       "  <tbody>\n",
       "    <tr>\n",
       "      <th>1</th>\n",
       "      <td>9015</td>\n",
       "      <td>2873</td>\n",
       "    </tr>\n",
       "    <tr>\n",
       "      <th>2</th>\n",
       "      <td>14349</td>\n",
       "      <td>3763</td>\n",
       "    </tr>\n",
       "  </tbody>\n",
       "</table>\n",
       "</div>"
      ],
      "text/plain": [
       "def_pay      0     1\n",
       "SEX                 \n",
       "1         9015  2873\n",
       "2        14349  3763"
      ]
     },
     "execution_count": 50,
     "metadata": {},
     "output_type": "execute_result"
    }
   ],
   "source": [
    "gender = df.groupby(['SEX', 'def_pay']).size().unstack(1)\n",
    "# 1 is the default for unstack, but I put it to show explicitly what we are unstacking\n",
    "gender"
   ]
  },
  {
   "cell_type": "code",
   "execution_count": 51,
   "metadata": {
    "_cell_guid": "90059780-96e5-4181-a4ff-6a29ca4c4fe8",
    "_uuid": "bcaaa8a130af18ec53326d4fd7666ee207588b1e"
   },
   "outputs": [
    {
     "data": {
      "text/html": [
       "<div>\n",
       "<style scoped>\n",
       "    .dataframe tbody tr th:only-of-type {\n",
       "        vertical-align: middle;\n",
       "    }\n",
       "\n",
       "    .dataframe tbody tr th {\n",
       "        vertical-align: top;\n",
       "    }\n",
       "\n",
       "    .dataframe thead th {\n",
       "        text-align: right;\n",
       "    }\n",
       "</style>\n",
       "<table border=\"1\" class=\"dataframe\">\n",
       "  <thead>\n",
       "    <tr style=\"text-align: right;\">\n",
       "      <th>def_pay</th>\n",
       "      <th>0</th>\n",
       "      <th>1</th>\n",
       "    </tr>\n",
       "    <tr>\n",
       "      <th>SEX</th>\n",
       "      <th></th>\n",
       "      <th></th>\n",
       "    </tr>\n",
       "  </thead>\n",
       "  <tbody>\n",
       "    <tr>\n",
       "      <th>1</th>\n",
       "      <td>9015</td>\n",
       "      <td>2873</td>\n",
       "    </tr>\n",
       "    <tr>\n",
       "      <th>2</th>\n",
       "      <td>14349</td>\n",
       "      <td>3763</td>\n",
       "    </tr>\n",
       "  </tbody>\n",
       "</table>\n",
       "</div>"
      ],
      "text/plain": [
       "def_pay      0     1\n",
       "SEX                 \n",
       "1         9015  2873\n",
       "2        14349  3763"
      ]
     },
     "execution_count": 51,
     "metadata": {},
     "output_type": "execute_result"
    }
   ],
   "source": [
    "# Another, easier, way is to just use crosstab\n",
    "pd.crosstab(df.SEX, df.def_pay)"
   ]
  },
  {
   "cell_type": "markdown",
   "metadata": {
    "_cell_guid": "0fcd4103-b848-40e3-ba9e-e96f48558022",
    "_uuid": "26c57601d799a5ae2bf1c713a7dc7b4e1bcec9ff"
   },
   "source": [
    "We can do two things: plot directly or compute the probability for each gender to default according to our dataset"
   ]
  },
  {
   "cell_type": "code",
   "execution_count": 52,
   "metadata": {
    "_cell_guid": "b0115fd2-33b9-4c33-882f-f630f0f103ba",
    "_uuid": "8a5a1f095b245a19bc58dcd8727e259d48dc44d7"
   },
   "outputs": [
    {
     "data": {
      "text/plain": [
       "<matplotlib.axes._subplots.AxesSubplot at 0x1ce1697b588>"
      ]
     },
     "execution_count": 52,
     "metadata": {},
     "output_type": "execute_result"
    },
    {
     "data": {
      "image/png": "[encoded data removed]",
      "text/plain": [
       "<Figure size 432x288 with 1 Axes>"
      ]
     },
     "metadata": {
      "needs_background": "light"
     },
     "output_type": "display_data"
    }
   ],
   "source": [
    "gender.plot(kind='bar', stacked = True)"
   ]
  },
  {
   "cell_type": "code",
   "execution_count": 53,
   "metadata": {
    "_cell_guid": "d8185ff7-15f3-4137-8a1d-7a6230dd2e4d",
    "_uuid": "3725a852bff9e3416e09e660af89a8d2378b9ad4"
   },
   "outputs": [
    {
     "data": {
      "text/html": [
       "<div>\n",
       "<style scoped>\n",
       "    .dataframe tbody tr th:only-of-type {\n",
       "        vertical-align: middle;\n",
       "    }\n",
       "\n",
       "    .dataframe tbody tr th {\n",
       "        vertical-align: top;\n",
       "    }\n",
       "\n",
       "    .dataframe thead th {\n",
       "        text-align: right;\n",
       "    }\n",
       "</style>\n",
       "<table border=\"1\" class=\"dataframe\">\n",
       "  <thead>\n",
       "    <tr style=\"text-align: right;\">\n",
       "      <th>def_pay</th>\n",
       "      <th>0</th>\n",
       "      <th>1</th>\n",
       "      <th>perc</th>\n",
       "    </tr>\n",
       "    <tr>\n",
       "      <th>SEX</th>\n",
       "      <th></th>\n",
       "      <th></th>\n",
       "      <th></th>\n",
       "    </tr>\n",
       "  </thead>\n",
       "  <tbody>\n",
       "    <tr>\n",
       "      <th>1</th>\n",
       "      <td>9015</td>\n",
       "      <td>2873</td>\n",
       "      <td>0.241672</td>\n",
       "    </tr>\n",
       "    <tr>\n",
       "      <th>2</th>\n",
       "      <td>14349</td>\n",
       "      <td>3763</td>\n",
       "      <td>0.207763</td>\n",
       "    </tr>\n",
       "  </tbody>\n",
       "</table>\n",
       "</div>"
      ],
      "text/plain": [
       "def_pay      0     1      perc\n",
       "SEX                           \n",
       "1         9015  2873  0.241672\n",
       "2        14349  3763  0.207763"
      ]
     },
     "execution_count": 53,
     "metadata": {},
     "output_type": "execute_result"
    }
   ],
   "source": [
    "gender['perc'] = (gender[1]/(gender[0] + gender[1])) \n",
    "#this creates a new column in our dataset\n",
    "gender"
   ]
  },
  {
   "cell_type": "markdown",
   "metadata": {
    "_cell_guid": "4511a7d8-7ee1-4d1c-a85b-e45deaf37827",
    "_uuid": "ad44eb0df0edb8a9619e119ca028195201b09c31"
   },
   "source": [
    " Let's see a slightly different way of obtaining the same percentages."
   ]
  },
  {
   "cell_type": "code",
   "execution_count": 54,
   "metadata": {
    "_cell_guid": "87cdcb73-4b77-45eb-9944-8ba665d8ebc2",
    "_uuid": "03af4e86dabd537905acbed843432f3649ee35b2"
   },
   "outputs": [
    {
     "data": {
      "text/html": [
       "<div>\n",
       "<style scoped>\n",
       "    .dataframe tbody tr th:only-of-type {\n",
       "        vertical-align: middle;\n",
       "    }\n",
       "\n",
       "    .dataframe tbody tr th {\n",
       "        vertical-align: top;\n",
       "    }\n",
       "\n",
       "    .dataframe thead th {\n",
       "        text-align: right;\n",
       "    }\n",
       "</style>\n",
       "<table border=\"1\" class=\"dataframe\">\n",
       "  <thead>\n",
       "    <tr style=\"text-align: right;\">\n",
       "      <th></th>\n",
       "      <th>SEX</th>\n",
       "      <th>def_pay</th>\n",
       "    </tr>\n",
       "  </thead>\n",
       "  <tbody>\n",
       "    <tr>\n",
       "      <th>0</th>\n",
       "      <td>1</td>\n",
       "      <td>0.241672</td>\n",
       "    </tr>\n",
       "    <tr>\n",
       "      <th>1</th>\n",
       "      <td>2</td>\n",
       "      <td>0.207763</td>\n",
       "    </tr>\n",
       "  </tbody>\n",
       "</table>\n",
       "</div>"
      ],
      "text/plain": [
       "   SEX   def_pay\n",
       "0    1  0.241672\n",
       "1    2  0.207763"
      ]
     },
     "execution_count": 54,
     "metadata": {},
     "output_type": "execute_result"
    }
   ],
   "source": [
    "df[[\"SEX\", \"def_pay\"]].groupby(['SEX'], \n",
    "                                        as_index=False).mean().sort_values(by='def_pay', \n",
    "                                                                           ascending=False)"
   ]
  },
  {
   "cell_type": "code",
   "execution_count": 55,
   "metadata": {
    "_cell_guid": "d6597270-f7b6-42ca-a86c-6533c8a58e99",
    "_uuid": "fa57ab90df1d760e23b9f6898ab39fa06f2ddbc6"
   },
   "outputs": [
    {
     "data": {
      "text/html": [
       "<div>\n",
       "<style scoped>\n",
       "    .dataframe tbody tr th:only-of-type {\n",
       "        vertical-align: middle;\n",
       "    }\n",
       "\n",
       "    .dataframe tbody tr th {\n",
       "        vertical-align: top;\n",
       "    }\n",
       "\n",
       "    .dataframe thead th {\n",
       "        text-align: right;\n",
       "    }\n",
       "</style>\n",
       "<table border=\"1\" class=\"dataframe\">\n",
       "  <thead>\n",
       "    <tr style=\"text-align: right;\">\n",
       "      <th></th>\n",
       "      <th>def_pay</th>\n",
       "    </tr>\n",
       "    <tr>\n",
       "      <th>SEX</th>\n",
       "      <th></th>\n",
       "    </tr>\n",
       "  </thead>\n",
       "  <tbody>\n",
       "    <tr>\n",
       "      <th>2</th>\n",
       "      <td>0.207763</td>\n",
       "    </tr>\n",
       "    <tr>\n",
       "      <th>1</th>\n",
       "      <td>0.241672</td>\n",
       "    </tr>\n",
       "  </tbody>\n",
       "</table>\n",
       "</div>"
      ],
      "text/plain": [
       "      def_pay\n",
       "SEX          \n",
       "2    0.207763\n",
       "1    0.241672"
      ]
     },
     "execution_count": 55,
     "metadata": {},
     "output_type": "execute_result"
    }
   ],
   "source": [
    "# I like playing with options, so here we go\n",
    "df[[\"SEX\", \"def_pay\"]].groupby(['SEX']).mean().sort_values(by='def_pay')"
   ]
  },
  {
   "cell_type": "markdown",
   "metadata": {
    "_cell_guid": "fc420212-8a05-4553-9ec3-9603947dff48",
    "_uuid": "1a6f9c0d81ed79372286c2760db2a87e2fbf175b"
   },
   "source": [
    "Considering that about 22% of the customers will default, we see a couple of things:\n",
    "* there are significantly more women than men\n",
    "* men are most likely going to default the next month\n",
    "\n",
    "However, we don't have to jump to any conclusion just yet since there might be some lurking variable that justifies the data better (and, being SEX the first variable we look at, it is most likely the case). However, nice result and move on.\n",
    "\n",
    "Actually no, before looking at EDUCATION I want to speed up the process and exercise on my poor python skills, let's create a function.\n"
   ]
  },
  {
   "cell_type": "code",
   "execution_count": 56,
   "metadata": {
    "_cell_guid": "aaaf7ef7-abd7-4c69-9a1b-0d81102ee922",
    "_uuid": "e8e3e1aac026f9862e1466ce6d25bc37d5360b49"
   },
   "outputs": [
    {
     "data": {
      "text/plain": [
       "'\\nSide note, you could use res[1] and res[0] and still have a function that \\ndoes what we did before. However, that would mean that you are reffering to the column \\nlabeled 0 and 1, not the position of it. Thus the function will not work if the unstacked \\nvariable has different values. \\n\\nMoreover, a good exercise is to generalize the function so that the unstacked variable can\\nhave more than 2 values\\n'"
      ]
     },
     "execution_count": 56,
     "metadata": {},
     "output_type": "execute_result"
    }
   ],
   "source": [
    "def corr_2_cols(Col1, Col2):\n",
    "    res = df.groupby([Col1, Col2]).size().unstack()\n",
    "    res['perc'] = (res[res.columns[1]]/(res[res.columns[0]] + res[res.columns[1]]))\n",
    "    return res\n",
    "\n",
    "\"\"\"\n",
    "Side note, you could use res[1] and res[0] and still have a function that \n",
    "does what we did before. However, that would mean that you are reffering to the column \n",
    "labeled 0 and 1, not the position of it. Thus the function will not work if the unstacked \n",
    "variable has different values. \n",
    "\n",
    "Moreover, a good exercise is to generalize the function so that the unstacked variable can\n",
    "have more than 2 values\n",
    "\"\"\""
   ]
  },
  {
   "cell_type": "code",
   "execution_count": 57,
   "metadata": {
    "_cell_guid": "2836fe5b-d19b-4c09-8248-2c408cf84959",
    "_uuid": "12157e0a7f5de9fe86eb79dedfffad7a70038825"
   },
   "outputs": [
    {
     "data": {
      "text/html": [
       "<div>\n",
       "<style scoped>\n",
       "    .dataframe tbody tr th:only-of-type {\n",
       "        vertical-align: middle;\n",
       "    }\n",
       "\n",
       "    .dataframe tbody tr th {\n",
       "        vertical-align: top;\n",
       "    }\n",
       "\n",
       "    .dataframe thead th {\n",
       "        text-align: right;\n",
       "    }\n",
       "</style>\n",
       "<table border=\"1\" class=\"dataframe\">\n",
       "  <thead>\n",
       "    <tr style=\"text-align: right;\">\n",
       "      <th>def_pay</th>\n",
       "      <th>0</th>\n",
       "      <th>1</th>\n",
       "      <th>perc</th>\n",
       "    </tr>\n",
       "    <tr>\n",
       "      <th>EDUCATION</th>\n",
       "      <th></th>\n",
       "      <th></th>\n",
       "      <th></th>\n",
       "    </tr>\n",
       "  </thead>\n",
       "  <tbody>\n",
       "    <tr>\n",
       "      <th>1</th>\n",
       "      <td>8549</td>\n",
       "      <td>2036</td>\n",
       "      <td>0.192348</td>\n",
       "    </tr>\n",
       "    <tr>\n",
       "      <th>2</th>\n",
       "      <td>10700</td>\n",
       "      <td>3330</td>\n",
       "      <td>0.237349</td>\n",
       "    </tr>\n",
       "    <tr>\n",
       "      <th>3</th>\n",
       "      <td>3680</td>\n",
       "      <td>1237</td>\n",
       "      <td>0.251576</td>\n",
       "    </tr>\n",
       "    <tr>\n",
       "      <th>4</th>\n",
       "      <td>435</td>\n",
       "      <td>33</td>\n",
       "      <td>0.070513</td>\n",
       "    </tr>\n",
       "  </tbody>\n",
       "</table>\n",
       "</div>"
      ],
      "text/plain": [
       "def_pay        0     1      perc\n",
       "EDUCATION                       \n",
       "1           8549  2036  0.192348\n",
       "2          10700  3330  0.237349\n",
       "3           3680  1237  0.251576\n",
       "4            435    33  0.070513"
      ]
     },
     "execution_count": 57,
     "metadata": {},
     "output_type": "execute_result"
    }
   ],
   "source": [
    "corr_2_cols('EDUCATION', 'def_pay')"
   ]
  },
  {
   "cell_type": "markdown",
   "metadata": {
    "_cell_guid": "9f0b127c-6f83-40ae-a2c4-3a55df870a46",
    "_uuid": "b77bbaee1cc777cc11acfe38a9bc71421901d440"
   },
   "source": [
    "It seems that the higher is the education, the lower is the probability of defaulting the next month. Only exception is for the category labeled \"Other\" that, if we stick to the documentation, would be lower than high school. However, numerically they will not have much weight in the final result.\n",
    "\n",
    "Let's see with MARRIAGE."
   ]
  },
  {
   "cell_type": "code",
   "execution_count": 58,
   "metadata": {
    "_cell_guid": "8b1c2e37-4210-4bd1-aef4-d65cd520c1dc",
    "_uuid": "8aa34a0bbfa1eef8d6b4a122928e3d4b31fe8790"
   },
   "outputs": [
    {
     "data": {
      "text/html": [
       "<div>\n",
       "<style scoped>\n",
       "    .dataframe tbody tr th:only-of-type {\n",
       "        vertical-align: middle;\n",
       "    }\n",
       "\n",
       "    .dataframe tbody tr th {\n",
       "        vertical-align: top;\n",
       "    }\n",
       "\n",
       "    .dataframe thead th {\n",
       "        text-align: right;\n",
       "    }\n",
       "</style>\n",
       "<table border=\"1\" class=\"dataframe\">\n",
       "  <thead>\n",
       "    <tr style=\"text-align: right;\">\n",
       "      <th>def_pay</th>\n",
       "      <th>0</th>\n",
       "      <th>1</th>\n",
       "      <th>perc</th>\n",
       "    </tr>\n",
       "    <tr>\n",
       "      <th>MARRIAGE</th>\n",
       "      <th></th>\n",
       "      <th></th>\n",
       "      <th></th>\n",
       "    </tr>\n",
       "  </thead>\n",
       "  <tbody>\n",
       "    <tr>\n",
       "      <th>1</th>\n",
       "      <td>10453</td>\n",
       "      <td>3206</td>\n",
       "      <td>0.234717</td>\n",
       "    </tr>\n",
       "    <tr>\n",
       "      <th>2</th>\n",
       "      <td>12623</td>\n",
       "      <td>3341</td>\n",
       "      <td>0.209283</td>\n",
       "    </tr>\n",
       "    <tr>\n",
       "      <th>3</th>\n",
       "      <td>288</td>\n",
       "      <td>89</td>\n",
       "      <td>0.236074</td>\n",
       "    </tr>\n",
       "  </tbody>\n",
       "</table>\n",
       "</div>"
      ],
      "text/plain": [
       "def_pay       0     1      perc\n",
       "MARRIAGE                       \n",
       "1         10453  3206  0.234717\n",
       "2         12623  3341  0.209283\n",
       "3           288    89  0.236074"
      ]
     },
     "execution_count": 58,
     "metadata": {},
     "output_type": "execute_result"
    }
   ],
   "source": [
    "corr_2_cols('MARRIAGE', 'def_pay')"
   ]
  },
  {
   "cell_type": "markdown",
   "metadata": {
    "_cell_guid": "8757e94a-005a-47f4-b727-044288e6dcaa",
    "_uuid": "46642124b23f6aa18a37071b84f68b6e960556ac"
   },
   "source": [
    "Here it seems that married people are most likely to default as well as the misterious category \"Other\" ( which is again numerically less relevant than the others)\n",
    "\n",
    "All considered, these three categories seem to affect the result we want to predict. Thus we keep them in mind for later. \n",
    "\n",
    "I try to explain these first results and, while I can imagine how marital status or education can determine the balance of your credit card, I can't find a way of explaining why the type of genitals can do that as well. This particular result could probably get more meaning when put in the context of the society this people belong to.\n",
    "\n",
    "Revealing gender inequalities in not our priority (at least not on a beginner notebook on Kaggle), so we move on."
   ]
  },
  {
   "cell_type": "code",
   "execution_count": 59,
   "metadata": {
    "_cell_guid": "8890a591-19d5-4f6e-a732-8779ef6400fb",
    "_uuid": "16a66c9632ed18b68b0b49ef6c980164af8e3e6f"
   },
   "outputs": [
    {
     "data": {
      "text/html": [
       "<div>\n",
       "<style scoped>\n",
       "    .dataframe tbody tr th:only-of-type {\n",
       "        vertical-align: middle;\n",
       "    }\n",
       "\n",
       "    .dataframe tbody tr th {\n",
       "        vertical-align: top;\n",
       "    }\n",
       "\n",
       "    .dataframe thead th {\n",
       "        text-align: right;\n",
       "    }\n",
       "</style>\n",
       "<table border=\"1\" class=\"dataframe\">\n",
       "  <thead>\n",
       "    <tr style=\"text-align: right;\">\n",
       "      <th>SEX</th>\n",
       "      <th>1</th>\n",
       "      <th>2</th>\n",
       "      <th>perc</th>\n",
       "    </tr>\n",
       "    <tr>\n",
       "      <th>MARRIAGE</th>\n",
       "      <th></th>\n",
       "      <th></th>\n",
       "      <th></th>\n",
       "    </tr>\n",
       "  </thead>\n",
       "  <tbody>\n",
       "    <tr>\n",
       "      <th>1</th>\n",
       "      <td>5190</td>\n",
       "      <td>8469</td>\n",
       "      <td>0.620031</td>\n",
       "    </tr>\n",
       "    <tr>\n",
       "      <th>2</th>\n",
       "      <td>6553</td>\n",
       "      <td>9411</td>\n",
       "      <td>0.589514</td>\n",
       "    </tr>\n",
       "    <tr>\n",
       "      <th>3</th>\n",
       "      <td>145</td>\n",
       "      <td>232</td>\n",
       "      <td>0.615385</td>\n",
       "    </tr>\n",
       "  </tbody>\n",
       "</table>\n",
       "</div>"
      ],
      "text/plain": [
       "SEX          1     2      perc\n",
       "MARRIAGE                      \n",
       "1         5190  8469  0.620031\n",
       "2         6553  9411  0.589514\n",
       "3          145   232  0.615385"
      ]
     },
     "execution_count": 59,
     "metadata": {},
     "output_type": "execute_result"
    }
   ],
   "source": [
    "corr_2_cols('MARRIAGE', 'SEX')"
   ]
  },
  {
   "cell_type": "code",
   "execution_count": 60,
   "metadata": {
    "_cell_guid": "3a23e607-f57e-4216-bed7-c099981c7c5c",
    "_uuid": "60c8970abe75ec1e73a80a45637cf28025f48454"
   },
   "outputs": [
    {
     "data": {
      "text/html": [
       "<div>\n",
       "<style scoped>\n",
       "    .dataframe tbody tr th:only-of-type {\n",
       "        vertical-align: middle;\n",
       "    }\n",
       "\n",
       "    .dataframe tbody tr th {\n",
       "        vertical-align: top;\n",
       "    }\n",
       "\n",
       "    .dataframe thead th {\n",
       "        text-align: right;\n",
       "    }\n",
       "</style>\n",
       "<table border=\"1\" class=\"dataframe\">\n",
       "  <thead>\n",
       "    <tr style=\"text-align: right;\">\n",
       "      <th>SEX</th>\n",
       "      <th>1</th>\n",
       "      <th>2</th>\n",
       "      <th>perc</th>\n",
       "    </tr>\n",
       "    <tr>\n",
       "      <th>EDUCATION</th>\n",
       "      <th></th>\n",
       "      <th></th>\n",
       "      <th></th>\n",
       "    </tr>\n",
       "  </thead>\n",
       "  <tbody>\n",
       "    <tr>\n",
       "      <th>1</th>\n",
       "      <td>4354</td>\n",
       "      <td>6231</td>\n",
       "      <td>0.588663</td>\n",
       "    </tr>\n",
       "    <tr>\n",
       "      <th>2</th>\n",
       "      <td>5374</td>\n",
       "      <td>8656</td>\n",
       "      <td>0.616964</td>\n",
       "    </tr>\n",
       "    <tr>\n",
       "      <th>3</th>\n",
       "      <td>1990</td>\n",
       "      <td>2927</td>\n",
       "      <td>0.595282</td>\n",
       "    </tr>\n",
       "    <tr>\n",
       "      <th>4</th>\n",
       "      <td>170</td>\n",
       "      <td>298</td>\n",
       "      <td>0.636752</td>\n",
       "    </tr>\n",
       "  </tbody>\n",
       "</table>\n",
       "</div>"
      ],
      "text/plain": [
       "SEX           1     2      perc\n",
       "EDUCATION                      \n",
       "1          4354  6231  0.588663\n",
       "2          5374  8656  0.616964\n",
       "3          1990  2927  0.595282\n",
       "4           170   298  0.636752"
      ]
     },
     "execution_count": 60,
     "metadata": {},
     "output_type": "execute_result"
    }
   ],
   "source": [
    "corr_2_cols('EDUCATION', 'SEX')"
   ]
  },
  {
   "cell_type": "markdown",
   "metadata": {
    "_cell_guid": "a611301c-c85d-4ef2-824e-24d6c5171d35",
    "_uuid": "cbf041798ab56d1de6ce79cadf4704f11b5cfc08"
   },
   "source": [
    "Now I want to see if my suspects on the payments and the bills have some foundation"
   ]
  },
  {
   "cell_type": "code",
   "execution_count": 61,
   "metadata": {
    "_cell_guid": "205d5c79-1046-483e-8b38-fb8497698636",
    "_uuid": "6569de99757bc4d48b8b444d8cc4b581c5421abc"
   },
   "outputs": [
    {
     "data": {
      "text/html": [
       "<div>\n",
       "<style scoped>\n",
       "    .dataframe tbody tr th:only-of-type {\n",
       "        vertical-align: middle;\n",
       "    }\n",
       "\n",
       "    .dataframe tbody tr th {\n",
       "        vertical-align: top;\n",
       "    }\n",
       "\n",
       "    .dataframe thead th {\n",
       "        text-align: right;\n",
       "    }\n",
       "</style>\n",
       "<table border=\"1\" class=\"dataframe\">\n",
       "  <thead>\n",
       "    <tr style=\"text-align: right;\">\n",
       "      <th></th>\n",
       "      <th>PAY_AMT6</th>\n",
       "      <th>BILL_AMT6</th>\n",
       "      <th>PAY_AMT5</th>\n",
       "      <th>BILL_AMT5</th>\n",
       "      <th>PAY_AMT4</th>\n",
       "      <th>BILL_AMT4</th>\n",
       "      <th>PAY_AMT3</th>\n",
       "      <th>BILL_AMT3</th>\n",
       "      <th>PAY_AMT2</th>\n",
       "      <th>BILL_AMT2</th>\n",
       "      <th>PAY_AMT1</th>\n",
       "      <th>BILL_AMT1</th>\n",
       "      <th>LIMIT_BAL</th>\n",
       "      <th>def_pay</th>\n",
       "    </tr>\n",
       "  </thead>\n",
       "  <tbody>\n",
       "    <tr>\n",
       "      <th>27203</th>\n",
       "      <td>2000.0</td>\n",
       "      <td>11822.0</td>\n",
       "      <td>2500.0</td>\n",
       "      <td>10247.0</td>\n",
       "      <td>3500.0</td>\n",
       "      <td>6917.0</td>\n",
       "      <td>4000.0</td>\n",
       "      <td>5612.0</td>\n",
       "      <td>6100.0</td>\n",
       "      <td>-191.0</td>\n",
       "      <td>0.0</td>\n",
       "      <td>-191.0</td>\n",
       "      <td>280000.0</td>\n",
       "      <td>0</td>\n",
       "    </tr>\n",
       "    <tr>\n",
       "      <th>16497</th>\n",
       "      <td>700.0</td>\n",
       "      <td>19022.0</td>\n",
       "      <td>1200.0</td>\n",
       "      <td>18646.0</td>\n",
       "      <td>0.0</td>\n",
       "      <td>19621.0</td>\n",
       "      <td>3300.0</td>\n",
       "      <td>16940.0</td>\n",
       "      <td>0.0</td>\n",
       "      <td>17504.0</td>\n",
       "      <td>1000.0</td>\n",
       "      <td>17077.0</td>\n",
       "      <td>20000.0</td>\n",
       "      <td>0</td>\n",
       "    </tr>\n",
       "    <tr>\n",
       "      <th>7392</th>\n",
       "      <td>295.0</td>\n",
       "      <td>0.0</td>\n",
       "      <td>0.0</td>\n",
       "      <td>0.0</td>\n",
       "      <td>0.0</td>\n",
       "      <td>0.0</td>\n",
       "      <td>0.0</td>\n",
       "      <td>0.0</td>\n",
       "      <td>0.0</td>\n",
       "      <td>0.0</td>\n",
       "      <td>0.0</td>\n",
       "      <td>1651.0</td>\n",
       "      <td>180000.0</td>\n",
       "      <td>0</td>\n",
       "    </tr>\n",
       "    <tr>\n",
       "      <th>20316</th>\n",
       "      <td>0.0</td>\n",
       "      <td>82377.0</td>\n",
       "      <td>1700.0</td>\n",
       "      <td>86575.0</td>\n",
       "      <td>80000.0</td>\n",
       "      <td>13652.0</td>\n",
       "      <td>3795.0</td>\n",
       "      <td>15112.0</td>\n",
       "      <td>1500.0</td>\n",
       "      <td>14131.0</td>\n",
       "      <td>1200.0</td>\n",
       "      <td>29076.0</td>\n",
       "      <td>150000.0</td>\n",
       "      <td>0</td>\n",
       "    </tr>\n",
       "    <tr>\n",
       "      <th>9288</th>\n",
       "      <td>0.0</td>\n",
       "      <td>0.0</td>\n",
       "      <td>0.0</td>\n",
       "      <td>0.0</td>\n",
       "      <td>0.0</td>\n",
       "      <td>0.0</td>\n",
       "      <td>0.0</td>\n",
       "      <td>1012.0</td>\n",
       "      <td>1012.0</td>\n",
       "      <td>1819.0</td>\n",
       "      <td>1819.0</td>\n",
       "      <td>7296.0</td>\n",
       "      <td>150000.0</td>\n",
       "      <td>1</td>\n",
       "    </tr>\n",
       "    <tr>\n",
       "      <th>25219</th>\n",
       "      <td>5093.0</td>\n",
       "      <td>28277.0</td>\n",
       "      <td>3000.0</td>\n",
       "      <td>34527.0</td>\n",
       "      <td>22000.0</td>\n",
       "      <td>17853.0</td>\n",
       "      <td>10000.0</td>\n",
       "      <td>23978.0</td>\n",
       "      <td>2145.0</td>\n",
       "      <td>28311.0</td>\n",
       "      <td>0.0</td>\n",
       "      <td>65542.0</td>\n",
       "      <td>150000.0</td>\n",
       "      <td>0</td>\n",
       "    </tr>\n",
       "    <tr>\n",
       "      <th>2997</th>\n",
       "      <td>6220.0</td>\n",
       "      <td>30878.0</td>\n",
       "      <td>5000.0</td>\n",
       "      <td>27167.0</td>\n",
       "      <td>8167.0</td>\n",
       "      <td>19529.0</td>\n",
       "      <td>9529.0</td>\n",
       "      <td>10512.0</td>\n",
       "      <td>10512.0</td>\n",
       "      <td>1102.0</td>\n",
       "      <td>0.0</td>\n",
       "      <td>1118.0</td>\n",
       "      <td>80000.0</td>\n",
       "      <td>0</td>\n",
       "    </tr>\n",
       "    <tr>\n",
       "      <th>8649</th>\n",
       "      <td>300.0</td>\n",
       "      <td>7228.0</td>\n",
       "      <td>350.0</td>\n",
       "      <td>6995.0</td>\n",
       "      <td>0.0</td>\n",
       "      <td>7256.0</td>\n",
       "      <td>1000.0</td>\n",
       "      <td>6362.0</td>\n",
       "      <td>1362.0</td>\n",
       "      <td>5249.0</td>\n",
       "      <td>1500.0</td>\n",
       "      <td>3978.0</td>\n",
       "      <td>20000.0</td>\n",
       "      <td>1</td>\n",
       "    </tr>\n",
       "    <tr>\n",
       "      <th>13159</th>\n",
       "      <td>0.0</td>\n",
       "      <td>281.0</td>\n",
       "      <td>281.0</td>\n",
       "      <td>0.0</td>\n",
       "      <td>0.0</td>\n",
       "      <td>0.0</td>\n",
       "      <td>0.0</td>\n",
       "      <td>0.0</td>\n",
       "      <td>0.0</td>\n",
       "      <td>0.0</td>\n",
       "      <td>0.0</td>\n",
       "      <td>0.0</td>\n",
       "      <td>100000.0</td>\n",
       "      <td>1</td>\n",
       "    </tr>\n",
       "    <tr>\n",
       "      <th>29600</th>\n",
       "      <td>10859.0</td>\n",
       "      <td>4121.0</td>\n",
       "      <td>4140.0</td>\n",
       "      <td>2328.0</td>\n",
       "      <td>2336.0</td>\n",
       "      <td>33062.0</td>\n",
       "      <td>33243.0</td>\n",
       "      <td>9253.0</td>\n",
       "      <td>9297.0</td>\n",
       "      <td>1601.0</td>\n",
       "      <td>1606.0</td>\n",
       "      <td>833.0</td>\n",
       "      <td>150000.0</td>\n",
       "      <td>0</td>\n",
       "    </tr>\n",
       "    <tr>\n",
       "      <th>25990</th>\n",
       "      <td>5500.0</td>\n",
       "      <td>155006.0</td>\n",
       "      <td>8500.0</td>\n",
       "      <td>148863.0</td>\n",
       "      <td>5500.0</td>\n",
       "      <td>161264.0</td>\n",
       "      <td>8000.0</td>\n",
       "      <td>193638.0</td>\n",
       "      <td>10000.0</td>\n",
       "      <td>197238.0</td>\n",
       "      <td>9000.0</td>\n",
       "      <td>213581.0</td>\n",
       "      <td>280000.0</td>\n",
       "      <td>0</td>\n",
       "    </tr>\n",
       "    <tr>\n",
       "      <th>28752</th>\n",
       "      <td>2120.0</td>\n",
       "      <td>58557.0</td>\n",
       "      <td>2147.0</td>\n",
       "      <td>66202.0</td>\n",
       "      <td>2150.0</td>\n",
       "      <td>77752.0</td>\n",
       "      <td>3008.0</td>\n",
       "      <td>109327.0</td>\n",
       "      <td>4399.0</td>\n",
       "      <td>130282.0</td>\n",
       "      <td>5481.0</td>\n",
       "      <td>141137.0</td>\n",
       "      <td>180000.0</td>\n",
       "      <td>0</td>\n",
       "    </tr>\n",
       "    <tr>\n",
       "      <th>23370</th>\n",
       "      <td>3381.0</td>\n",
       "      <td>24418.0</td>\n",
       "      <td>1438.0</td>\n",
       "      <td>38068.0</td>\n",
       "      <td>1722.0</td>\n",
       "      <td>40673.0</td>\n",
       "      <td>14218.0</td>\n",
       "      <td>28584.0</td>\n",
       "      <td>5005.0</td>\n",
       "      <td>42620.0</td>\n",
       "      <td>4854.0</td>\n",
       "      <td>45514.0</td>\n",
       "      <td>400000.0</td>\n",
       "      <td>0</td>\n",
       "    </tr>\n",
       "    <tr>\n",
       "      <th>15464</th>\n",
       "      <td>10000.0</td>\n",
       "      <td>17834.0</td>\n",
       "      <td>10002.0</td>\n",
       "      <td>11037.0</td>\n",
       "      <td>17941.0</td>\n",
       "      <td>-6097.0</td>\n",
       "      <td>2777.0</td>\n",
       "      <td>2948.0</td>\n",
       "      <td>2980.0</td>\n",
       "      <td>7999.0</td>\n",
       "      <td>8042.0</td>\n",
       "      <td>3137.0</td>\n",
       "      <td>290000.0</td>\n",
       "      <td>0</td>\n",
       "    </tr>\n",
       "    <tr>\n",
       "      <th>27693</th>\n",
       "      <td>0.0</td>\n",
       "      <td>5918.0</td>\n",
       "      <td>5918.0</td>\n",
       "      <td>0.0</td>\n",
       "      <td>0.0</td>\n",
       "      <td>2185.0</td>\n",
       "      <td>2185.0</td>\n",
       "      <td>2262.0</td>\n",
       "      <td>2262.0</td>\n",
       "      <td>3020.0</td>\n",
       "      <td>0.0</td>\n",
       "      <td>9040.0</td>\n",
       "      <td>50000.0</td>\n",
       "      <td>0</td>\n",
       "    </tr>\n",
       "    <tr>\n",
       "      <th>19256</th>\n",
       "      <td>0.0</td>\n",
       "      <td>0.0</td>\n",
       "      <td>0.0</td>\n",
       "      <td>0.0</td>\n",
       "      <td>0.0</td>\n",
       "      <td>0.0</td>\n",
       "      <td>0.0</td>\n",
       "      <td>0.0</td>\n",
       "      <td>0.0</td>\n",
       "      <td>0.0</td>\n",
       "      <td>0.0</td>\n",
       "      <td>1570.0</td>\n",
       "      <td>200000.0</td>\n",
       "      <td>0</td>\n",
       "    </tr>\n",
       "    <tr>\n",
       "      <th>14461</th>\n",
       "      <td>0.0</td>\n",
       "      <td>890.0</td>\n",
       "      <td>890.0</td>\n",
       "      <td>1367.0</td>\n",
       "      <td>1367.0</td>\n",
       "      <td>440.0</td>\n",
       "      <td>440.0</td>\n",
       "      <td>0.0</td>\n",
       "      <td>0.0</td>\n",
       "      <td>1003.0</td>\n",
       "      <td>1003.0</td>\n",
       "      <td>1750.0</td>\n",
       "      <td>140000.0</td>\n",
       "      <td>0</td>\n",
       "    </tr>\n",
       "    <tr>\n",
       "      <th>25790</th>\n",
       "      <td>390.0</td>\n",
       "      <td>390.0</td>\n",
       "      <td>390.0</td>\n",
       "      <td>390.0</td>\n",
       "      <td>390.0</td>\n",
       "      <td>390.0</td>\n",
       "      <td>390.0</td>\n",
       "      <td>390.0</td>\n",
       "      <td>390.0</td>\n",
       "      <td>390.0</td>\n",
       "      <td>390.0</td>\n",
       "      <td>390.0</td>\n",
       "      <td>50000.0</td>\n",
       "      <td>0</td>\n",
       "    </tr>\n",
       "    <tr>\n",
       "      <th>5395</th>\n",
       "      <td>1061.0</td>\n",
       "      <td>4341.0</td>\n",
       "      <td>4341.0</td>\n",
       "      <td>0.0</td>\n",
       "      <td>0.0</td>\n",
       "      <td>7000.0</td>\n",
       "      <td>7000.0</td>\n",
       "      <td>755.0</td>\n",
       "      <td>762.0</td>\n",
       "      <td>22595.0</td>\n",
       "      <td>22595.0</td>\n",
       "      <td>2779.0</td>\n",
       "      <td>490000.0</td>\n",
       "      <td>0</td>\n",
       "    </tr>\n",
       "    <tr>\n",
       "      <th>18415</th>\n",
       "      <td>1494.0</td>\n",
       "      <td>30954.0</td>\n",
       "      <td>1096.0</td>\n",
       "      <td>31156.0</td>\n",
       "      <td>1076.0</td>\n",
       "      <td>44568.0</td>\n",
       "      <td>1467.0</td>\n",
       "      <td>49674.0</td>\n",
       "      <td>2243.0</td>\n",
       "      <td>49108.0</td>\n",
       "      <td>1841.0</td>\n",
       "      <td>53399.0</td>\n",
       "      <td>70000.0</td>\n",
       "      <td>0</td>\n",
       "    </tr>\n",
       "    <tr>\n",
       "      <th>14150</th>\n",
       "      <td>1000.0</td>\n",
       "      <td>5876.0</td>\n",
       "      <td>300.0</td>\n",
       "      <td>8870.0</td>\n",
       "      <td>500.0</td>\n",
       "      <td>8999.0</td>\n",
       "      <td>500.0</td>\n",
       "      <td>38617.0</td>\n",
       "      <td>1906.0</td>\n",
       "      <td>46565.0</td>\n",
       "      <td>0.0</td>\n",
       "      <td>48063.0</td>\n",
       "      <td>50000.0</td>\n",
       "      <td>1</td>\n",
       "    </tr>\n",
       "    <tr>\n",
       "      <th>26058</th>\n",
       "      <td>0.0</td>\n",
       "      <td>0.0</td>\n",
       "      <td>0.0</td>\n",
       "      <td>0.0</td>\n",
       "      <td>0.0</td>\n",
       "      <td>0.0</td>\n",
       "      <td>0.0</td>\n",
       "      <td>0.0</td>\n",
       "      <td>0.0</td>\n",
       "      <td>0.0</td>\n",
       "      <td>0.0</td>\n",
       "      <td>0.0</td>\n",
       "      <td>130000.0</td>\n",
       "      <td>1</td>\n",
       "    </tr>\n",
       "    <tr>\n",
       "      <th>10704</th>\n",
       "      <td>5260.0</td>\n",
       "      <td>134500.0</td>\n",
       "      <td>5240.0</td>\n",
       "      <td>135736.0</td>\n",
       "      <td>5400.0</td>\n",
       "      <td>135946.0</td>\n",
       "      <td>5300.0</td>\n",
       "      <td>144245.0</td>\n",
       "      <td>7200.0</td>\n",
       "      <td>140844.0</td>\n",
       "      <td>6550.0</td>\n",
       "      <td>150573.0</td>\n",
       "      <td>200000.0</td>\n",
       "      <td>0</td>\n",
       "    </tr>\n",
       "    <tr>\n",
       "      <th>18837</th>\n",
       "      <td>96632.0</td>\n",
       "      <td>59843.0</td>\n",
       "      <td>19843.0</td>\n",
       "      <td>47200.0</td>\n",
       "      <td>17200.0</td>\n",
       "      <td>42572.0</td>\n",
       "      <td>22572.0</td>\n",
       "      <td>37860.0</td>\n",
       "      <td>27878.0</td>\n",
       "      <td>35863.0</td>\n",
       "      <td>15943.0</td>\n",
       "      <td>32637.0</td>\n",
       "      <td>500000.0</td>\n",
       "      <td>0</td>\n",
       "    </tr>\n",
       "    <tr>\n",
       "      <th>20838</th>\n",
       "      <td>3000.0</td>\n",
       "      <td>75277.0</td>\n",
       "      <td>5000.0</td>\n",
       "      <td>72243.0</td>\n",
       "      <td>5000.0</td>\n",
       "      <td>69798.0</td>\n",
       "      <td>5000.0</td>\n",
       "      <td>67240.0</td>\n",
       "      <td>11000.0</td>\n",
       "      <td>121668.0</td>\n",
       "      <td>11000.0</td>\n",
       "      <td>147817.0</td>\n",
       "      <td>200000.0</td>\n",
       "      <td>1</td>\n",
       "    </tr>\n",
       "    <tr>\n",
       "      <th>15250</th>\n",
       "      <td>514.0</td>\n",
       "      <td>14070.0</td>\n",
       "      <td>511.0</td>\n",
       "      <td>13781.0</td>\n",
       "      <td>493.0</td>\n",
       "      <td>13511.0</td>\n",
       "      <td>1223.0</td>\n",
       "      <td>31237.0</td>\n",
       "      <td>1676.0</td>\n",
       "      <td>30226.0</td>\n",
       "      <td>1665.0</td>\n",
       "      <td>31548.0</td>\n",
       "      <td>30000.0</td>\n",
       "      <td>0</td>\n",
       "    </tr>\n",
       "    <tr>\n",
       "      <th>25454</th>\n",
       "      <td>0.0</td>\n",
       "      <td>0.0</td>\n",
       "      <td>0.0</td>\n",
       "      <td>5210.0</td>\n",
       "      <td>5210.0</td>\n",
       "      <td>0.0</td>\n",
       "      <td>0.0</td>\n",
       "      <td>0.0</td>\n",
       "      <td>0.0</td>\n",
       "      <td>0.0</td>\n",
       "      <td>0.0</td>\n",
       "      <td>1175.0</td>\n",
       "      <td>320000.0</td>\n",
       "      <td>0</td>\n",
       "    </tr>\n",
       "    <tr>\n",
       "      <th>12167</th>\n",
       "      <td>800.0</td>\n",
       "      <td>26175.0</td>\n",
       "      <td>1100.0</td>\n",
       "      <td>35766.0</td>\n",
       "      <td>0.0</td>\n",
       "      <td>46605.0</td>\n",
       "      <td>3500.0</td>\n",
       "      <td>44277.0</td>\n",
       "      <td>2200.0</td>\n",
       "      <td>43081.0</td>\n",
       "      <td>10000.0</td>\n",
       "      <td>33763.0</td>\n",
       "      <td>500000.0</td>\n",
       "      <td>0</td>\n",
       "    </tr>\n",
       "    <tr>\n",
       "      <th>16961</th>\n",
       "      <td>10125.0</td>\n",
       "      <td>272706.0</td>\n",
       "      <td>10000.0</td>\n",
       "      <td>267083.0</td>\n",
       "      <td>9700.0</td>\n",
       "      <td>263163.0</td>\n",
       "      <td>10928.0</td>\n",
       "      <td>258032.0</td>\n",
       "      <td>10842.0</td>\n",
       "      <td>251246.0</td>\n",
       "      <td>9000.0</td>\n",
       "      <td>247868.0</td>\n",
       "      <td>280000.0</td>\n",
       "      <td>1</td>\n",
       "    </tr>\n",
       "    <tr>\n",
       "      <th>14986</th>\n",
       "      <td>0.0</td>\n",
       "      <td>20000.0</td>\n",
       "      <td>3000.0</td>\n",
       "      <td>17000.0</td>\n",
       "      <td>0.0</td>\n",
       "      <td>17000.0</td>\n",
       "      <td>3000.0</td>\n",
       "      <td>14400.0</td>\n",
       "      <td>2000.0</td>\n",
       "      <td>16592.0</td>\n",
       "      <td>2.0</td>\n",
       "      <td>20420.0</td>\n",
       "      <td>20000.0</td>\n",
       "      <td>0</td>\n",
       "    </tr>\n",
       "  </tbody>\n",
       "</table>\n",
       "</div>"
      ],
      "text/plain": [
       "       PAY_AMT6  BILL_AMT6  PAY_AMT5  BILL_AMT5  PAY_AMT4  BILL_AMT4  \\\n",
       "27203    2000.0    11822.0    2500.0    10247.0    3500.0     6917.0   \n",
       "16497     700.0    19022.0    1200.0    18646.0       0.0    19621.0   \n",
       "7392      295.0        0.0       0.0        0.0       0.0        0.0   \n",
       "20316       0.0    82377.0    1700.0    86575.0   80000.0    13652.0   \n",
       "9288        0.0        0.0       0.0        0.0       0.0        0.0   \n",
       "25219    5093.0    28277.0    3000.0    34527.0   22000.0    17853.0   \n",
       "2997     6220.0    30878.0    5000.0    27167.0    8167.0    19529.0   \n",
       "8649      300.0     7228.0     350.0     6995.0       0.0     7256.0   \n",
       "13159       0.0      281.0     281.0        0.0       0.0        0.0   \n",
       "29600   10859.0     4121.0    4140.0     2328.0    2336.0    33062.0   \n",
       "25990    5500.0   155006.0    8500.0   148863.0    5500.0   161264.0   \n",
       "28752    2120.0    58557.0    2147.0    66202.0    2150.0    77752.0   \n",
       "23370    3381.0    24418.0    1438.0    38068.0    1722.0    40673.0   \n",
       "15464   10000.0    17834.0   10002.0    11037.0   17941.0    -6097.0   \n",
       "27693       0.0     5918.0    5918.0        0.0       0.0     2185.0   \n",
       "19256       0.0        0.0       0.0        0.0       0.0        0.0   \n",
       "14461       0.0      890.0     890.0     1367.0    1367.0      440.0   \n",
       "25790     390.0      390.0     390.0      390.0     390.0      390.0   \n",
       "5395     1061.0     4341.0    4341.0        0.0       0.0     7000.0   \n",
       "18415    1494.0    30954.0    1096.0    31156.0    1076.0    44568.0   \n",
       "14150    1000.0     5876.0     300.0     8870.0     500.0     8999.0   \n",
       "26058       0.0        0.0       0.0        0.0       0.0        0.0   \n",
       "10704    5260.0   134500.0    5240.0   135736.0    5400.0   135946.0   \n",
       "18837   96632.0    59843.0   19843.0    47200.0   17200.0    42572.0   \n",
       "20838    3000.0    75277.0    5000.0    72243.0    5000.0    69798.0   \n",
       "15250     514.0    14070.0     511.0    13781.0     493.0    13511.0   \n",
       "25454       0.0        0.0       0.0     5210.0    5210.0        0.0   \n",
       "12167     800.0    26175.0    1100.0    35766.0       0.0    46605.0   \n",
       "16961   10125.0   272706.0   10000.0   267083.0    9700.0   263163.0   \n",
       "14986       0.0    20000.0    3000.0    17000.0       0.0    17000.0   \n",
       "\n",
       "       PAY_AMT3  BILL_AMT3  PAY_AMT2  BILL_AMT2  PAY_AMT1  BILL_AMT1  \\\n",
       "27203    4000.0     5612.0    6100.0     -191.0       0.0     -191.0   \n",
       "16497    3300.0    16940.0       0.0    17504.0    1000.0    17077.0   \n",
       "7392        0.0        0.0       0.0        0.0       0.0     1651.0   \n",
       "20316    3795.0    15112.0    1500.0    14131.0    1200.0    29076.0   \n",
       "9288        0.0     1012.0    1012.0     1819.0    1819.0     7296.0   \n",
       "25219   10000.0    23978.0    2145.0    28311.0       0.0    65542.0   \n",
       "2997     9529.0    10512.0   10512.0     1102.0       0.0     1118.0   \n",
       "8649     1000.0     6362.0    1362.0     5249.0    1500.0     3978.0   \n",
       "13159       0.0        0.0       0.0        0.0       0.0        0.0   \n",
       "29600   33243.0     9253.0    9297.0     1601.0    1606.0      833.0   \n",
       "25990    8000.0   193638.0   10000.0   197238.0    9000.0   213581.0   \n",
       "28752    3008.0   109327.0    4399.0   130282.0    5481.0   141137.0   \n",
       "23370   14218.0    28584.0    5005.0    42620.0    4854.0    45514.0   \n",
       "15464    2777.0     2948.0    2980.0     7999.0    8042.0     3137.0   \n",
       "27693    2185.0     2262.0    2262.0     3020.0       0.0     9040.0   \n",
       "19256       0.0        0.0       0.0        0.0       0.0     1570.0   \n",
       "14461     440.0        0.0       0.0     1003.0    1003.0     1750.0   \n",
       "25790     390.0      390.0     390.0      390.0     390.0      390.0   \n",
       "5395     7000.0      755.0     762.0    22595.0   22595.0     2779.0   \n",
       "18415    1467.0    49674.0    2243.0    49108.0    1841.0    53399.0   \n",
       "14150     500.0    38617.0    1906.0    46565.0       0.0    48063.0   \n",
       "26058       0.0        0.0       0.0        0.0       0.0        0.0   \n",
       "10704    5300.0   144245.0    7200.0   140844.0    6550.0   150573.0   \n",
       "18837   22572.0    37860.0   27878.0    35863.0   15943.0    32637.0   \n",
       "20838    5000.0    67240.0   11000.0   121668.0   11000.0   147817.0   \n",
       "15250    1223.0    31237.0    1676.0    30226.0    1665.0    31548.0   \n",
       "25454       0.0        0.0       0.0        0.0       0.0     1175.0   \n",
       "12167    3500.0    44277.0    2200.0    43081.0   10000.0    33763.0   \n",
       "16961   10928.0   258032.0   10842.0   251246.0    9000.0   247868.0   \n",
       "14986    3000.0    14400.0    2000.0    16592.0       2.0    20420.0   \n",
       "\n",
       "       LIMIT_BAL  def_pay  \n",
       "27203   280000.0        0  \n",
       "16497    20000.0        0  \n",
       "7392    180000.0        0  \n",
       "20316   150000.0        0  \n",
       "9288    150000.0        1  \n",
       "25219   150000.0        0  \n",
       "2997     80000.0        0  \n",
       "8649     20000.0        1  \n",
       "13159   100000.0        1  \n",
       "29600   150000.0        0  \n",
       "25990   280000.0        0  \n",
       "28752   180000.0        0  \n",
       "23370   400000.0        0  \n",
       "15464   290000.0        0  \n",
       "27693    50000.0        0  \n",
       "19256   200000.0        0  \n",
       "14461   140000.0        0  \n",
       "25790    50000.0        0  \n",
       "5395    490000.0        0  \n",
       "18415    70000.0        0  \n",
       "14150    50000.0        1  \n",
       "26058   130000.0        1  \n",
       "10704   200000.0        0  \n",
       "18837   500000.0        0  \n",
       "20838   200000.0        1  \n",
       "15250    30000.0        0  \n",
       "25454   320000.0        0  \n",
       "12167   500000.0        0  \n",
       "16961   280000.0        1  \n",
       "14986    20000.0        0  "
      ]
     },
     "execution_count": 61,
     "metadata": {},
     "output_type": "execute_result"
    }
   ],
   "source": [
    "df[['PAY_AMT6', 'BILL_AMT6', 'PAY_AMT5', \n",
    "     'BILL_AMT5', 'PAY_AMT4', 'BILL_AMT4', 'PAY_AMT3', 'BILL_AMT3', \n",
    "     'PAY_AMT2', 'BILL_AMT2',\n",
    "     'PAY_AMT1', 'BILL_AMT1',\n",
    "     'LIMIT_BAL', 'def_pay']].sample(30)"
   ]
  },
  {
   "cell_type": "code",
   "execution_count": 62,
   "metadata": {
    "_cell_guid": "aa6f7e7c-6947-4e4e-b285-21a4ed528358",
    "_uuid": "8b27b604597d9b11083134a16ad80555e0182d1a"
   },
   "outputs": [
    {
     "data": {
      "text/html": [
       "<div>\n",
       "<style scoped>\n",
       "    .dataframe tbody tr th:only-of-type {\n",
       "        vertical-align: middle;\n",
       "    }\n",
       "\n",
       "    .dataframe tbody tr th {\n",
       "        vertical-align: top;\n",
       "    }\n",
       "\n",
       "    .dataframe thead th {\n",
       "        text-align: right;\n",
       "    }\n",
       "</style>\n",
       "<table border=\"1\" class=\"dataframe\">\n",
       "  <thead>\n",
       "    <tr style=\"text-align: right;\">\n",
       "      <th></th>\n",
       "      <th>BILL_AMT2</th>\n",
       "      <th>PAY_AMT1</th>\n",
       "      <th>BILL_AMT1</th>\n",
       "      <th>PAY_1</th>\n",
       "      <th>LIMIT_BAL</th>\n",
       "    </tr>\n",
       "  </thead>\n",
       "  <tbody>\n",
       "    <tr>\n",
       "      <th>8177</th>\n",
       "      <td>33699.0</td>\n",
       "      <td>3000.0</td>\n",
       "      <td>31507.0</td>\n",
       "      <td>3</td>\n",
       "      <td>70000.0</td>\n",
       "    </tr>\n",
       "    <tr>\n",
       "      <th>11258</th>\n",
       "      <td>22453.0</td>\n",
       "      <td>5080.0</td>\n",
       "      <td>67788.0</td>\n",
       "      <td>2</td>\n",
       "      <td>250000.0</td>\n",
       "    </tr>\n",
       "    <tr>\n",
       "      <th>6540</th>\n",
       "      <td>57751.0</td>\n",
       "      <td>0.0</td>\n",
       "      <td>61432.0</td>\n",
       "      <td>2</td>\n",
       "      <td>60000.0</td>\n",
       "    </tr>\n",
       "    <tr>\n",
       "      <th>5056</th>\n",
       "      <td>65430.0</td>\n",
       "      <td>2900.0</td>\n",
       "      <td>64139.0</td>\n",
       "      <td>2</td>\n",
       "      <td>120000.0</td>\n",
       "    </tr>\n",
       "    <tr>\n",
       "      <th>21651</th>\n",
       "      <td>5975.0</td>\n",
       "      <td>0.0</td>\n",
       "      <td>6220.0</td>\n",
       "      <td>1</td>\n",
       "      <td>10000.0</td>\n",
       "    </tr>\n",
       "    <tr>\n",
       "      <th>4801</th>\n",
       "      <td>237094.0</td>\n",
       "      <td>0.0</td>\n",
       "      <td>254951.0</td>\n",
       "      <td>6</td>\n",
       "      <td>190000.0</td>\n",
       "    </tr>\n",
       "    <tr>\n",
       "      <th>15126</th>\n",
       "      <td>146635.0</td>\n",
       "      <td>7700.0</td>\n",
       "      <td>142779.0</td>\n",
       "      <td>1</td>\n",
       "      <td>160000.0</td>\n",
       "    </tr>\n",
       "    <tr>\n",
       "      <th>19050</th>\n",
       "      <td>18702.0</td>\n",
       "      <td>0.0</td>\n",
       "      <td>20226.0</td>\n",
       "      <td>3</td>\n",
       "      <td>20000.0</td>\n",
       "    </tr>\n",
       "    <tr>\n",
       "      <th>47</th>\n",
       "      <td>3034.0</td>\n",
       "      <td>1013.0</td>\n",
       "      <td>4463.0</td>\n",
       "      <td>0</td>\n",
       "      <td>150000.0</td>\n",
       "    </tr>\n",
       "    <tr>\n",
       "      <th>4983</th>\n",
       "      <td>132458.0</td>\n",
       "      <td>6101.0</td>\n",
       "      <td>199229.0</td>\n",
       "      <td>0</td>\n",
       "      <td>200000.0</td>\n",
       "    </tr>\n",
       "    <tr>\n",
       "      <th>26335</th>\n",
       "      <td>788.0</td>\n",
       "      <td>788.0</td>\n",
       "      <td>880.0</td>\n",
       "      <td>0</td>\n",
       "      <td>300000.0</td>\n",
       "    </tr>\n",
       "    <tr>\n",
       "      <th>404</th>\n",
       "      <td>163916.0</td>\n",
       "      <td>7500.0</td>\n",
       "      <td>160432.0</td>\n",
       "      <td>2</td>\n",
       "      <td>160000.0</td>\n",
       "    </tr>\n",
       "    <tr>\n",
       "      <th>26598</th>\n",
       "      <td>10139.0</td>\n",
       "      <td>10139.0</td>\n",
       "      <td>0.0</td>\n",
       "      <td>1</td>\n",
       "      <td>160000.0</td>\n",
       "    </tr>\n",
       "    <tr>\n",
       "      <th>25442</th>\n",
       "      <td>52632.0</td>\n",
       "      <td>3500.0</td>\n",
       "      <td>50477.0</td>\n",
       "      <td>0</td>\n",
       "      <td>120000.0</td>\n",
       "    </tr>\n",
       "    <tr>\n",
       "      <th>4924</th>\n",
       "      <td>377594.0</td>\n",
       "      <td>16000.0</td>\n",
       "      <td>376014.0</td>\n",
       "      <td>2</td>\n",
       "      <td>370000.0</td>\n",
       "    </tr>\n",
       "    <tr>\n",
       "      <th>22433</th>\n",
       "      <td>101972.0</td>\n",
       "      <td>5220.0</td>\n",
       "      <td>99298.0</td>\n",
       "      <td>2</td>\n",
       "      <td>100000.0</td>\n",
       "    </tr>\n",
       "    <tr>\n",
       "      <th>10873</th>\n",
       "      <td>60684.0</td>\n",
       "      <td>2500.0</td>\n",
       "      <td>59748.0</td>\n",
       "      <td>2</td>\n",
       "      <td>60000.0</td>\n",
       "    </tr>\n",
       "    <tr>\n",
       "      <th>10869</th>\n",
       "      <td>49608.0</td>\n",
       "      <td>2000.0</td>\n",
       "      <td>48433.0</td>\n",
       "      <td>0</td>\n",
       "      <td>50000.0</td>\n",
       "    </tr>\n",
       "    <tr>\n",
       "      <th>12748</th>\n",
       "      <td>27929.0</td>\n",
       "      <td>1482.0</td>\n",
       "      <td>28420.0</td>\n",
       "      <td>0</td>\n",
       "      <td>30000.0</td>\n",
       "    </tr>\n",
       "    <tr>\n",
       "      <th>21524</th>\n",
       "      <td>5719.0</td>\n",
       "      <td>5719.0</td>\n",
       "      <td>1330.0</td>\n",
       "      <td>2</td>\n",
       "      <td>130000.0</td>\n",
       "    </tr>\n",
       "    <tr>\n",
       "      <th>14690</th>\n",
       "      <td>50174.0</td>\n",
       "      <td>2000.0</td>\n",
       "      <td>49045.0</td>\n",
       "      <td>0</td>\n",
       "      <td>50000.0</td>\n",
       "    </tr>\n",
       "    <tr>\n",
       "      <th>21181</th>\n",
       "      <td>20526.0</td>\n",
       "      <td>1500.0</td>\n",
       "      <td>19649.0</td>\n",
       "      <td>1</td>\n",
       "      <td>50000.0</td>\n",
       "    </tr>\n",
       "    <tr>\n",
       "      <th>14098</th>\n",
       "      <td>20043.0</td>\n",
       "      <td>11.0</td>\n",
       "      <td>21136.0</td>\n",
       "      <td>2</td>\n",
       "      <td>20000.0</td>\n",
       "    </tr>\n",
       "    <tr>\n",
       "      <th>8006</th>\n",
       "      <td>68883.0</td>\n",
       "      <td>2896.0</td>\n",
       "      <td>73684.0</td>\n",
       "      <td>0</td>\n",
       "      <td>80000.0</td>\n",
       "    </tr>\n",
       "    <tr>\n",
       "      <th>5466</th>\n",
       "      <td>56352.0</td>\n",
       "      <td>11.0</td>\n",
       "      <td>81562.0</td>\n",
       "      <td>2</td>\n",
       "      <td>80000.0</td>\n",
       "    </tr>\n",
       "    <tr>\n",
       "      <th>15531</th>\n",
       "      <td>6848.0</td>\n",
       "      <td>836.0</td>\n",
       "      <td>7123.0</td>\n",
       "      <td>2</td>\n",
       "      <td>240000.0</td>\n",
       "    </tr>\n",
       "    <tr>\n",
       "      <th>1564</th>\n",
       "      <td>84636.0</td>\n",
       "      <td>3000.0</td>\n",
       "      <td>93738.0</td>\n",
       "      <td>0</td>\n",
       "      <td>300000.0</td>\n",
       "    </tr>\n",
       "    <tr>\n",
       "      <th>22401</th>\n",
       "      <td>137327.0</td>\n",
       "      <td>3500.0</td>\n",
       "      <td>137564.0</td>\n",
       "      <td>2</td>\n",
       "      <td>150000.0</td>\n",
       "    </tr>\n",
       "    <tr>\n",
       "      <th>24001</th>\n",
       "      <td>59040.0</td>\n",
       "      <td>2282.0</td>\n",
       "      <td>58072.0</td>\n",
       "      <td>0</td>\n",
       "      <td>60000.0</td>\n",
       "    </tr>\n",
       "    <tr>\n",
       "      <th>14546</th>\n",
       "      <td>126720.0</td>\n",
       "      <td>0.0</td>\n",
       "      <td>130215.0</td>\n",
       "      <td>1</td>\n",
       "      <td>140000.0</td>\n",
       "    </tr>\n",
       "  </tbody>\n",
       "</table>\n",
       "</div>"
      ],
      "text/plain": [
       "       BILL_AMT2  PAY_AMT1  BILL_AMT1  PAY_1  LIMIT_BAL\n",
       "8177     33699.0    3000.0    31507.0      3    70000.0\n",
       "11258    22453.0    5080.0    67788.0      2   250000.0\n",
       "6540     57751.0       0.0    61432.0      2    60000.0\n",
       "5056     65430.0    2900.0    64139.0      2   120000.0\n",
       "21651     5975.0       0.0     6220.0      1    10000.0\n",
       "4801    237094.0       0.0   254951.0      6   190000.0\n",
       "15126   146635.0    7700.0   142779.0      1   160000.0\n",
       "19050    18702.0       0.0    20226.0      3    20000.0\n",
       "47        3034.0    1013.0     4463.0      0   150000.0\n",
       "4983    132458.0    6101.0   199229.0      0   200000.0\n",
       "26335      788.0     788.0      880.0      0   300000.0\n",
       "404     163916.0    7500.0   160432.0      2   160000.0\n",
       "26598    10139.0   10139.0        0.0      1   160000.0\n",
       "25442    52632.0    3500.0    50477.0      0   120000.0\n",
       "4924    377594.0   16000.0   376014.0      2   370000.0\n",
       "22433   101972.0    5220.0    99298.0      2   100000.0\n",
       "10873    60684.0    2500.0    59748.0      2    60000.0\n",
       "10869    49608.0    2000.0    48433.0      0    50000.0\n",
       "12748    27929.0    1482.0    28420.0      0    30000.0\n",
       "21524     5719.0    5719.0     1330.0      2   130000.0\n",
       "14690    50174.0    2000.0    49045.0      0    50000.0\n",
       "21181    20526.0    1500.0    19649.0      1    50000.0\n",
       "14098    20043.0      11.0    21136.0      2    20000.0\n",
       "8006     68883.0    2896.0    73684.0      0    80000.0\n",
       "5466     56352.0      11.0    81562.0      2    80000.0\n",
       "15531     6848.0     836.0     7123.0      2   240000.0\n",
       "1564     84636.0    3000.0    93738.0      0   300000.0\n",
       "22401   137327.0    3500.0   137564.0      2   150000.0\n",
       "24001    59040.0    2282.0    58072.0      0    60000.0\n",
       "14546   126720.0       0.0   130215.0      1   140000.0"
      ]
     },
     "execution_count": 62,
     "metadata": {},
     "output_type": "execute_result"
    }
   ],
   "source": [
    "df[df.def_pay == 1][['BILL_AMT2',\n",
    "     'PAY_AMT1', 'BILL_AMT1', 'PAY_1',\n",
    "     'LIMIT_BAL']].sample(30)"
   ]
  },
  {
   "cell_type": "markdown",
   "metadata": {
    "_cell_guid": "559da3a9-eb66-470f-ba67-0db9caf40367",
    "_uuid": "1f856681971dd7cdbc3859d392b917cca473959c"
   },
   "source": [
    "To me it seems that it goes like that:\n",
    "* I have a BILL of X, I pay Y\n",
    "* The month after I have to pay X-Y + X', being X' my new expenses, I pay Y'\n",
    "* The month after I have to pay X+X' - Y - Y' + X'' , I pay Y''\n",
    "* So on so forth\n",
    "\n",
    "On top of that I may or may not have months of delay.\n",
    "\n",
    "It seems that if by september I have a bill too close to my limit, I generally fail. However, I can already see some dramatic exceptions.\n",
    "\n",
    "Moreover, I can spot some clients that joined our dataset at a later month: they have 0 in BILL and PAY AMT for a while and then they start. I have to keep that in mind as well.\n",
    "\n",
    "Now I want to see how the month of delay gets assigned. To this end, I will consider only people with no delays 6 months ago and see how their payments go."
   ]
  },
  {
   "cell_type": "code",
   "execution_count": 63,
   "metadata": {
    "_cell_guid": "ce491284-22d5-4bfe-b50a-edffd6187455",
    "_uuid": "b24a5811d1d5027c8e6534f6ace094282341e184"
   },
   "outputs": [
    {
     "data": {
      "text/html": [
       "<div>\n",
       "<style scoped>\n",
       "    .dataframe tbody tr th:only-of-type {\n",
       "        vertical-align: middle;\n",
       "    }\n",
       "\n",
       "    .dataframe tbody tr th {\n",
       "        vertical-align: top;\n",
       "    }\n",
       "\n",
       "    .dataframe thead th {\n",
       "        text-align: right;\n",
       "    }\n",
       "</style>\n",
       "<table border=\"1\" class=\"dataframe\">\n",
       "  <thead>\n",
       "    <tr style=\"text-align: right;\">\n",
       "      <th></th>\n",
       "      <th>BILL_AMT6</th>\n",
       "      <th>PAY_AMT5</th>\n",
       "      <th>BILL_AMT5</th>\n",
       "      <th>PAY_5</th>\n",
       "    </tr>\n",
       "  </thead>\n",
       "  <tbody>\n",
       "    <tr>\n",
       "      <th>14945</th>\n",
       "      <td>40640.0</td>\n",
       "      <td>1500.0</td>\n",
       "      <td>40689.0</td>\n",
       "      <td>2</td>\n",
       "    </tr>\n",
       "    <tr>\n",
       "      <th>21558</th>\n",
       "      <td>29406.0</td>\n",
       "      <td>1070.0</td>\n",
       "      <td>29914.0</td>\n",
       "      <td>2</td>\n",
       "    </tr>\n",
       "    <tr>\n",
       "      <th>3567</th>\n",
       "      <td>203223.0</td>\n",
       "      <td>8006.0</td>\n",
       "      <td>235290.0</td>\n",
       "      <td>2</td>\n",
       "    </tr>\n",
       "    <tr>\n",
       "      <th>9638</th>\n",
       "      <td>50524.0</td>\n",
       "      <td>3000.0</td>\n",
       "      <td>49207.0</td>\n",
       "      <td>2</td>\n",
       "    </tr>\n",
       "    <tr>\n",
       "      <th>2407</th>\n",
       "      <td>93059.0</td>\n",
       "      <td>4000.0</td>\n",
       "      <td>92203.0</td>\n",
       "      <td>2</td>\n",
       "    </tr>\n",
       "    <tr>\n",
       "      <th>25309</th>\n",
       "      <td>15321.0</td>\n",
       "      <td>1500.0</td>\n",
       "      <td>16121.0</td>\n",
       "      <td>2</td>\n",
       "    </tr>\n",
       "    <tr>\n",
       "      <th>24841</th>\n",
       "      <td>23618.0</td>\n",
       "      <td>1000.0</td>\n",
       "      <td>30534.0</td>\n",
       "      <td>2</td>\n",
       "    </tr>\n",
       "    <tr>\n",
       "      <th>1008</th>\n",
       "      <td>51224.0</td>\n",
       "      <td>3400.0</td>\n",
       "      <td>22779.0</td>\n",
       "      <td>2</td>\n",
       "    </tr>\n",
       "    <tr>\n",
       "      <th>14860</th>\n",
       "      <td>79953.0</td>\n",
       "      <td>3200.0</td>\n",
       "      <td>78257.0</td>\n",
       "      <td>2</td>\n",
       "    </tr>\n",
       "    <tr>\n",
       "      <th>28841</th>\n",
       "      <td>9798.0</td>\n",
       "      <td>500.0</td>\n",
       "      <td>9594.0</td>\n",
       "      <td>2</td>\n",
       "    </tr>\n",
       "    <tr>\n",
       "      <th>1144</th>\n",
       "      <td>95951.0</td>\n",
       "      <td>4005.0</td>\n",
       "      <td>96661.0</td>\n",
       "      <td>2</td>\n",
       "    </tr>\n",
       "    <tr>\n",
       "      <th>24113</th>\n",
       "      <td>3330.0</td>\n",
       "      <td>3330.0</td>\n",
       "      <td>3072.0</td>\n",
       "      <td>2</td>\n",
       "    </tr>\n",
       "    <tr>\n",
       "      <th>14446</th>\n",
       "      <td>71110.0</td>\n",
       "      <td>4000.0</td>\n",
       "      <td>68247.0</td>\n",
       "      <td>2</td>\n",
       "    </tr>\n",
       "    <tr>\n",
       "      <th>29189</th>\n",
       "      <td>20380.0</td>\n",
       "      <td>2000.0</td>\n",
       "      <td>18854.0</td>\n",
       "      <td>2</td>\n",
       "    </tr>\n",
       "    <tr>\n",
       "      <th>28881</th>\n",
       "      <td>24020.0</td>\n",
       "      <td>1000.0</td>\n",
       "      <td>23552.0</td>\n",
       "      <td>2</td>\n",
       "    </tr>\n",
       "    <tr>\n",
       "      <th>22862</th>\n",
       "      <td>26599.0</td>\n",
       "      <td>3000.0</td>\n",
       "      <td>24006.0</td>\n",
       "      <td>2</td>\n",
       "    </tr>\n",
       "    <tr>\n",
       "      <th>21500</th>\n",
       "      <td>49619.0</td>\n",
       "      <td>7000.0</td>\n",
       "      <td>43515.0</td>\n",
       "      <td>2</td>\n",
       "    </tr>\n",
       "    <tr>\n",
       "      <th>9280</th>\n",
       "      <td>80971.0</td>\n",
       "      <td>3403.0</td>\n",
       "      <td>92621.0</td>\n",
       "      <td>2</td>\n",
       "    </tr>\n",
       "    <tr>\n",
       "      <th>4205</th>\n",
       "      <td>45914.0</td>\n",
       "      <td>2000.0</td>\n",
       "      <td>46812.0</td>\n",
       "      <td>2</td>\n",
       "    </tr>\n",
       "    <tr>\n",
       "      <th>13901</th>\n",
       "      <td>13306.0</td>\n",
       "      <td>3000.0</td>\n",
       "      <td>11188.0</td>\n",
       "      <td>2</td>\n",
       "    </tr>\n",
       "  </tbody>\n",
       "</table>\n",
       "</div>"
      ],
      "text/plain": [
       "       BILL_AMT6  PAY_AMT5  BILL_AMT5  PAY_5\n",
       "14945    40640.0    1500.0    40689.0      2\n",
       "21558    29406.0    1070.0    29914.0      2\n",
       "3567    203223.0    8006.0   235290.0      2\n",
       "9638     50524.0    3000.0    49207.0      2\n",
       "2407     93059.0    4000.0    92203.0      2\n",
       "25309    15321.0    1500.0    16121.0      2\n",
       "24841    23618.0    1000.0    30534.0      2\n",
       "1008     51224.0    3400.0    22779.0      2\n",
       "14860    79953.0    3200.0    78257.0      2\n",
       "28841     9798.0     500.0     9594.0      2\n",
       "1144     95951.0    4005.0    96661.0      2\n",
       "24113     3330.0    3330.0     3072.0      2\n",
       "14446    71110.0    4000.0    68247.0      2\n",
       "29189    20380.0    2000.0    18854.0      2\n",
       "28881    24020.0    1000.0    23552.0      2\n",
       "22862    26599.0    3000.0    24006.0      2\n",
       "21500    49619.0    7000.0    43515.0      2\n",
       "9280     80971.0    3403.0    92621.0      2\n",
       "4205     45914.0    2000.0    46812.0      2\n",
       "13901    13306.0    3000.0    11188.0      2"
      ]
     },
     "execution_count": 63,
     "metadata": {},
     "output_type": "execute_result"
    }
   ],
   "source": [
    "fil = ((df.PAY_6 == 0) & (df.BILL_AMT6 > 0) & (df.PAY_5 > 0))\n",
    "df[fil][['BILL_AMT6', 'PAY_AMT5', 'BILL_AMT5', 'PAY_5']].sample(20)"
   ]
  },
  {
   "cell_type": "code",
   "execution_count": 64,
   "metadata": {
    "_cell_guid": "8f1b569c-dca4-41b9-85d8-0ee82218b5fa",
    "_uuid": "e58acb5c4f070e8ddd3bf405c745fef0012ae5f2"
   },
   "outputs": [
    {
     "data": {
      "text/html": [
       "<div>\n",
       "<style scoped>\n",
       "    .dataframe tbody tr th:only-of-type {\n",
       "        vertical-align: middle;\n",
       "    }\n",
       "\n",
       "    .dataframe tbody tr th {\n",
       "        vertical-align: top;\n",
       "    }\n",
       "\n",
       "    .dataframe thead th {\n",
       "        text-align: right;\n",
       "    }\n",
       "</style>\n",
       "<table border=\"1\" class=\"dataframe\">\n",
       "  <thead>\n",
       "    <tr style=\"text-align: right;\">\n",
       "      <th></th>\n",
       "      <th>BILL_AMT6</th>\n",
       "      <th>PAY_AMT5</th>\n",
       "      <th>BILL_AMT5</th>\n",
       "      <th>PAY_5</th>\n",
       "    </tr>\n",
       "  </thead>\n",
       "  <tbody>\n",
       "    <tr>\n",
       "      <th>2272</th>\n",
       "      <td>244.0</td>\n",
       "      <td>0.0</td>\n",
       "      <td>244.0</td>\n",
       "      <td>2</td>\n",
       "    </tr>\n",
       "    <tr>\n",
       "      <th>13895</th>\n",
       "      <td>950.0</td>\n",
       "      <td>0.0</td>\n",
       "      <td>1340.0</td>\n",
       "      <td>2</td>\n",
       "    </tr>\n",
       "    <tr>\n",
       "      <th>18795</th>\n",
       "      <td>20000.0</td>\n",
       "      <td>0.0</td>\n",
       "      <td>20000.0</td>\n",
       "      <td>2</td>\n",
       "    </tr>\n",
       "    <tr>\n",
       "      <th>19933</th>\n",
       "      <td>2240.0</td>\n",
       "      <td>0.0</td>\n",
       "      <td>2825.0</td>\n",
       "      <td>2</td>\n",
       "    </tr>\n",
       "    <tr>\n",
       "      <th>20737</th>\n",
       "      <td>18767.0</td>\n",
       "      <td>0.0</td>\n",
       "      <td>18767.0</td>\n",
       "      <td>2</td>\n",
       "    </tr>\n",
       "    <tr>\n",
       "      <th>22212</th>\n",
       "      <td>702.0</td>\n",
       "      <td>0.0</td>\n",
       "      <td>802.0</td>\n",
       "      <td>2</td>\n",
       "    </tr>\n",
       "    <tr>\n",
       "      <th>22691</th>\n",
       "      <td>249.0</td>\n",
       "      <td>0.0</td>\n",
       "      <td>27231.0</td>\n",
       "      <td>2</td>\n",
       "    </tr>\n",
       "    <tr>\n",
       "      <th>23887</th>\n",
       "      <td>25000.0</td>\n",
       "      <td>0.0</td>\n",
       "      <td>26000.0</td>\n",
       "      <td>2</td>\n",
       "    </tr>\n",
       "    <tr>\n",
       "      <th>27196</th>\n",
       "      <td>1170.0</td>\n",
       "      <td>0.0</td>\n",
       "      <td>1573.0</td>\n",
       "      <td>2</td>\n",
       "    </tr>\n",
       "  </tbody>\n",
       "</table>\n",
       "</div>"
      ],
      "text/plain": [
       "       BILL_AMT6  PAY_AMT5  BILL_AMT5  PAY_5\n",
       "2272       244.0       0.0      244.0      2\n",
       "13895      950.0       0.0     1340.0      2\n",
       "18795    20000.0       0.0    20000.0      2\n",
       "19933     2240.0       0.0     2825.0      2\n",
       "20737    18767.0       0.0    18767.0      2\n",
       "22212      702.0       0.0      802.0      2\n",
       "22691      249.0       0.0    27231.0      2\n",
       "23887    25000.0       0.0    26000.0      2\n",
       "27196     1170.0       0.0     1573.0      2"
      ]
     },
     "execution_count": 64,
     "metadata": {},
     "output_type": "execute_result"
    }
   ],
   "source": [
    "fil = ((df.PAY_6 == 0) & (df.BILL_AMT6 > 0) & (df.PAY_5 > 0) & (df.PAY_AMT5 == 0))\n",
    "df[fil][['BILL_AMT6', 'PAY_AMT5', 'BILL_AMT5', 'PAY_5']]"
   ]
  },
  {
   "cell_type": "markdown",
   "metadata": {
    "_cell_guid": "d54aaacd-17f5-4473-a3cd-ac70d9af2b50",
    "_uuid": "0bcc0e901b977eb7e82ca5359d279e52100a930e"
   },
   "source": [
    "I am puzzled by a few things:\n",
    "* why there is no PAY_5 at 1 but only at 2? This is the first month the client doesn't pay (or doesn't pay enough)\n",
    "* Sometimes the client did pay but still got a delay value bigger than 0"
   ]
  },
  {
   "cell_type": "code",
   "execution_count": 65,
   "metadata": {
    "_cell_guid": "f0f28c8f-cc33-41b0-9576-92100627fff3",
    "_uuid": "d090523f6568c04f41509627920de73f9c03a6c9"
   },
   "outputs": [
    {
     "data": {
      "text/html": [
       "<div>\n",
       "<style scoped>\n",
       "    .dataframe tbody tr th:only-of-type {\n",
       "        vertical-align: middle;\n",
       "    }\n",
       "\n",
       "    .dataframe tbody tr th {\n",
       "        vertical-align: top;\n",
       "    }\n",
       "\n",
       "    .dataframe thead th {\n",
       "        text-align: right;\n",
       "    }\n",
       "</style>\n",
       "<table border=\"1\" class=\"dataframe\">\n",
       "  <thead>\n",
       "    <tr style=\"text-align: right;\">\n",
       "      <th></th>\n",
       "      <th>BILL_AMT2</th>\n",
       "      <th>PAY_2</th>\n",
       "      <th>PAY_AMT2</th>\n",
       "      <th>BILL_AMT1</th>\n",
       "      <th>PAY_1</th>\n",
       "      <th>LIMIT_BAL</th>\n",
       "      <th>def_pay</th>\n",
       "    </tr>\n",
       "  </thead>\n",
       "  <tbody>\n",
       "    <tr>\n",
       "      <th>26</th>\n",
       "      <td>-425.0</td>\n",
       "      <td>0</td>\n",
       "      <td>1000.0</td>\n",
       "      <td>-109.0</td>\n",
       "      <td>1</td>\n",
       "      <td>60000.0</td>\n",
       "      <td>1</td>\n",
       "    </tr>\n",
       "    <tr>\n",
       "      <th>68</th>\n",
       "      <td>-9850.0</td>\n",
       "      <td>0</td>\n",
       "      <td>0.0</td>\n",
       "      <td>-190.0</td>\n",
       "      <td>1</td>\n",
       "      <td>130000.0</td>\n",
       "      <td>0</td>\n",
       "    </tr>\n",
       "    <tr>\n",
       "      <th>109</th>\n",
       "      <td>-103.0</td>\n",
       "      <td>0</td>\n",
       "      <td>0.0</td>\n",
       "      <td>-103.0</td>\n",
       "      <td>1</td>\n",
       "      <td>360000.0</td>\n",
       "      <td>0</td>\n",
       "    </tr>\n",
       "    <tr>\n",
       "      <th>149</th>\n",
       "      <td>-1100.0</td>\n",
       "      <td>0</td>\n",
       "      <td>22500.0</td>\n",
       "      <td>-1100.0</td>\n",
       "      <td>1</td>\n",
       "      <td>260000.0</td>\n",
       "      <td>0</td>\n",
       "    </tr>\n",
       "    <tr>\n",
       "      <th>173</th>\n",
       "      <td>-709.0</td>\n",
       "      <td>0</td>\n",
       "      <td>0.0</td>\n",
       "      <td>-709.0</td>\n",
       "      <td>1</td>\n",
       "      <td>50000.0</td>\n",
       "      <td>1</td>\n",
       "    </tr>\n",
       "    <tr>\n",
       "      <th>186</th>\n",
       "      <td>57077.0</td>\n",
       "      <td>0</td>\n",
       "      <td>5295.0</td>\n",
       "      <td>2616.0</td>\n",
       "      <td>1</td>\n",
       "      <td>360000.0</td>\n",
       "      <td>0</td>\n",
       "    </tr>\n",
       "    <tr>\n",
       "      <th>216</th>\n",
       "      <td>-946.0</td>\n",
       "      <td>0</td>\n",
       "      <td>0.0</td>\n",
       "      <td>-946.0</td>\n",
       "      <td>1</td>\n",
       "      <td>240000.0</td>\n",
       "      <td>1</td>\n",
       "    </tr>\n",
       "    <tr>\n",
       "      <th>276</th>\n",
       "      <td>2715.0</td>\n",
       "      <td>0</td>\n",
       "      <td>0.0</td>\n",
       "      <td>171.0</td>\n",
       "      <td>2</td>\n",
       "      <td>460000.0</td>\n",
       "      <td>1</td>\n",
       "    </tr>\n",
       "    <tr>\n",
       "      <th>319</th>\n",
       "      <td>-2.0</td>\n",
       "      <td>0</td>\n",
       "      <td>0.0</td>\n",
       "      <td>-2.0</td>\n",
       "      <td>1</td>\n",
       "      <td>180000.0</td>\n",
       "      <td>0</td>\n",
       "    </tr>\n",
       "    <tr>\n",
       "      <th>330</th>\n",
       "      <td>505.0</td>\n",
       "      <td>0</td>\n",
       "      <td>0.0</td>\n",
       "      <td>-179.0</td>\n",
       "      <td>1</td>\n",
       "      <td>200000.0</td>\n",
       "      <td>1</td>\n",
       "    </tr>\n",
       "    <tr>\n",
       "      <th>351</th>\n",
       "      <td>-13543.0</td>\n",
       "      <td>0</td>\n",
       "      <td>47015.0</td>\n",
       "      <td>-14386.0</td>\n",
       "      <td>1</td>\n",
       "      <td>200000.0</td>\n",
       "      <td>0</td>\n",
       "    </tr>\n",
       "    <tr>\n",
       "      <th>365</th>\n",
       "      <td>1520.0</td>\n",
       "      <td>0</td>\n",
       "      <td>1507.0</td>\n",
       "      <td>-9.0</td>\n",
       "      <td>1</td>\n",
       "      <td>330000.0</td>\n",
       "      <td>0</td>\n",
       "    </tr>\n",
       "    <tr>\n",
       "      <th>391</th>\n",
       "      <td>35918.0</td>\n",
       "      <td>0</td>\n",
       "      <td>2000.0</td>\n",
       "      <td>-1312.0</td>\n",
       "      <td>1</td>\n",
       "      <td>280000.0</td>\n",
       "      <td>1</td>\n",
       "    </tr>\n",
       "    <tr>\n",
       "      <th>521</th>\n",
       "      <td>32991.0</td>\n",
       "      <td>0</td>\n",
       "      <td>16000.0</td>\n",
       "      <td>-58.0</td>\n",
       "      <td>1</td>\n",
       "      <td>410000.0</td>\n",
       "      <td>0</td>\n",
       "    </tr>\n",
       "    <tr>\n",
       "      <th>528</th>\n",
       "      <td>-8.0</td>\n",
       "      <td>0</td>\n",
       "      <td>0.0</td>\n",
       "      <td>-8.0</td>\n",
       "      <td>1</td>\n",
       "      <td>360000.0</td>\n",
       "      <td>0</td>\n",
       "    </tr>\n",
       "  </tbody>\n",
       "</table>\n",
       "</div>"
      ],
      "text/plain": [
       "     BILL_AMT2  PAY_2  PAY_AMT2  BILL_AMT1  PAY_1  LIMIT_BAL  def_pay\n",
       "26      -425.0      0    1000.0     -109.0      1    60000.0        1\n",
       "68     -9850.0      0       0.0     -190.0      1   130000.0        0\n",
       "109     -103.0      0       0.0     -103.0      1   360000.0        0\n",
       "149    -1100.0      0   22500.0    -1100.0      1   260000.0        0\n",
       "173     -709.0      0       0.0     -709.0      1    50000.0        1\n",
       "186    57077.0      0    5295.0     2616.0      1   360000.0        0\n",
       "216     -946.0      0       0.0     -946.0      1   240000.0        1\n",
       "276     2715.0      0       0.0      171.0      2   460000.0        1\n",
       "319       -2.0      0       0.0       -2.0      1   180000.0        0\n",
       "330      505.0      0       0.0     -179.0      1   200000.0        1\n",
       "351   -13543.0      0   47015.0   -14386.0      1   200000.0        0\n",
       "365     1520.0      0    1507.0       -9.0      1   330000.0        0\n",
       "391    35918.0      0    2000.0    -1312.0      1   280000.0        1\n",
       "521    32991.0      0   16000.0      -58.0      1   410000.0        0\n",
       "528       -8.0      0       0.0       -8.0      1   360000.0        0"
      ]
     },
     "execution_count": 65,
     "metadata": {},
     "output_type": "execute_result"
    }
   ],
   "source": [
    "fil = ((df.PAY_AMT1 > df.BILL_AMT2) & (df.PAY_1 > 0) & (df.PAY_2 == 0))\n",
    "df[fil][['BILL_AMT2', 'PAY_2', 'PAY_AMT2', 'BILL_AMT1', 'PAY_1', 'LIMIT_BAL', 'def_pay']].head(15)"
   ]
  },
  {
   "cell_type": "code",
   "execution_count": 66,
   "metadata": {
    "_cell_guid": "f79056cd-b0ce-43cf-be3e-14781cc66cd5",
    "_uuid": "ba5f874881ade373b749516b1057058ca40f9bf0"
   },
   "outputs": [
    {
     "data": {
      "text/plain": [
       "<seaborn.axisgrid.FacetGrid at 0x1ce1641e9c8>"
      ]
     },
     "execution_count": 66,
     "metadata": {},
     "output_type": "execute_result"
    },
    {
     "data": {
      "image/png": "[encoded data removed]",
      "text/plain": [
       "<Figure size 432x216 with 2 Axes>"
      ]
     },
     "metadata": {
      "needs_background": "light"
     },
     "output_type": "display_data"
    }
   ],
   "source": [
    "g = sns.FacetGrid(df, col = 'def_pay')\n",
    "g.map(plt.hist, 'AGE')"
   ]
  },
  {
   "cell_type": "markdown",
   "metadata": {
    "_cell_guid": "3834276a-b98c-4c1e-8b9d-8db0daa1bece",
    "_uuid": "770ceec7c834f5617ea9e0bcaea48f6516171257"
   },
   "source": [
    "This throws me off. There are clients that paid more there were asked to, had even a negative bill in Sept., and still have a month of delay, and even defaulted the next month. I am incline of not considering the variables PAY_n for my models because I can't give sense to them (even though it seems they can play a big role). I can transform them into a binary variable (late/notlate) because that is something I can understand.\n",
    "\n",
    "**Do not run the next cell if you are not comfortable with my ignorance.**"
   ]
  },
  {
   "cell_type": "code",
   "execution_count": 67,
   "metadata": {},
   "outputs": [
    {
     "data": {
      "image/png": "[encoded data removed]",
      "text/plain": [
       "<Figure size 432x288 with 6 Axes>"
      ]
     },
     "metadata": {
      "needs_background": "light"
     },
     "output_type": "display_data"
    }
   ],
   "source": [
    "df.loc[df.PAY_1 > 0, 'PAY_1'] = 1\n",
    "df.loc[df.PAY_2 > 0, 'PAY_2'] = 1\n",
    "df.loc[df.PAY_3 > 0, 'PAY_3'] = 1\n",
    "df.loc[df.PAY_4 > 0, 'PAY_4'] = 1\n",
    "df.loc[df.PAY_5 > 0, 'PAY_5'] = 1\n",
    "df.loc[df.PAY_6 > 0, 'PAY_6'] = 1\n",
    "late = df[['PAY_1','PAY_2', 'PAY_3', 'PAY_4', 'PAY_5', 'PAY_6']]\n",
    "draw_histograms(late, late.columns, 2, 3, 10)"
   ]
  },
  {
   "cell_type": "markdown",
   "metadata": {},
   "source": [
    "Before going to a much funnier part of the notebook, I want to use some seaborn I have seen in other notebook. The variable that gives me a reason to do so is AGE"
   ]
  },
  {
   "cell_type": "code",
   "execution_count": 68,
   "metadata": {
    "_cell_guid": "334ab9eb-3e53-4f40-b480-8be605436d16",
    "_uuid": "5661fa4fb62eb6a67a6675980812e2210e4e8edf"
   },
   "outputs": [
    {
     "data": {
      "text/plain": [
       "<seaborn.axisgrid.FacetGrid at 0x1ce16716f88>"
      ]
     },
     "execution_count": 68,
     "metadata": {},
     "output_type": "execute_result"
    },
    {
     "data": {
      "image/png": "[encoded data removed]",
      "text/plain": [
       "<Figure size 432x432 with 4 Axes>"
      ]
     },
     "metadata": {
      "needs_background": "light"
     },
     "output_type": "display_data"
    }
   ],
   "source": [
    "g = sns.FacetGrid(df, col = 'def_pay', row = 'SEX')\n",
    "g.map(plt.hist, 'AGE')"
   ]
  },
  {
   "cell_type": "code",
   "execution_count": 69,
   "metadata": {
    "_cell_guid": "306707a6-a0a6-4e94-acad-eb1342f03016",
    "_uuid": "5af2c26dd45b50a8b915f86a327d294d3d070000"
   },
   "outputs": [
    {
     "data": {
      "text/plain": [
       "<seaborn.axisgrid.FacetGrid at 0x1ce16290388>"
      ]
     },
     "execution_count": 69,
     "metadata": {},
     "output_type": "execute_result"
    },
    {
     "data": {
      "image/png": "[encoded data removed]",
      "text/plain": [
       "<Figure size 479.375x216 with 2 Axes>"
      ]
     },
     "metadata": {
      "needs_background": "light"
     },
     "output_type": "display_data"
    }
   ],
   "source": [
    "g = sns.FacetGrid(df, col='SEX', hue='def_pay')\n",
    "g.map(plt.hist, 'AGE', alpha=0.6, bins=25) #alpha is for opacity\n",
    "g.add_legend()"
   ]
  },
  {
   "cell_type": "code",
   "execution_count": 70,
   "metadata": {
    "_cell_guid": "2a2af28a-3cda-499d-870f-8a5736b7a2ee",
    "_uuid": "7ab0f42549a62893d4698210d445ad8fe62141d7"
   },
   "outputs": [
    {
     "data": {
      "text/plain": [
       "<seaborn.axisgrid.FacetGrid at 0x1ce16843048>"
      ]
     },
     "execution_count": 70,
     "metadata": {},
     "output_type": "execute_result"
    },
    {
     "data": {
      "image/png": "[encoded data removed]",
      "text/plain": [
       "<Figure size 474.375x648 with 6 Axes>"
      ]
     },
     "metadata": {
      "needs_background": "light"
     },
     "output_type": "display_data"
    }
   ],
   "source": [
    "g = sns.FacetGrid(df, col='def_pay', row= \"MARRIAGE\", hue='SEX')\n",
    "g.map(plt.hist, 'AGE', alpha=0.3, bins=25) \n",
    "g.add_legend()"
   ]
  },
  {
   "cell_type": "markdown",
   "metadata": {
    "_cell_guid": "9472ee05-4b8b-4176-b321-30c87b7a2a03",
    "_uuid": "1d0706cc0446eb357066d310e142a550bf3197c7"
   },
   "source": [
    "This tells me that I can probably combine age with other categories to get a more descriptive feature\n",
    "\n",
    "# Feature Engineering\n",
    "\n",
    "When I talked with more experienced Kagglers or, generically, other Data Scientists about feature engineering I often got the answer \"it is more an art than a science\". I am always suspicious towards such claims, often used to hide the inability of explaining what leads to some choices. Therefore I will try to be pedantic once more and explain why I do what I do. After that we can see how the previous process changes and it leads to better results or not.\n",
    "\n",
    "I performed an analysis on the categorical variables before and I got some insight out of it, can I design variables to help my models?\n",
    "\n",
    "I saw that men are most likely to default and also that married people are most likely to default. Thus why not combine them in a single variable given by the product of the two? I chose these two first because they are both labeled 1,2 and they both decrease the probability of defaulting if their value increase. According to our models, SEX and MARRIAGE are the least important variables, so it can be a good exercise to see if combining them is a waste of time.\n",
    "\n",
    "This operation will create a category for married man, which I expect to be the one with high probability of defaulting, a combination of married women and single man, a category (expected to be numerically less populated) of \"divorced\" men (in other words, the \"other\" in marriage times the \"male\" in sex), one for single women and one for \"divorced\" women."
   ]
  },
  {
   "cell_type": "code",
   "execution_count": 71,
   "metadata": {
    "_cell_guid": "79e3c840-5a97-4c47-8639-73263dda2d0e",
    "_uuid": "55bc1d4196d2339feab962af782b7e0d6f58a931"
   },
   "outputs": [
    {
     "data": {
      "text/html": [
       "<div>\n",
       "<style scoped>\n",
       "    .dataframe tbody tr th:only-of-type {\n",
       "        vertical-align: middle;\n",
       "    }\n",
       "\n",
       "    .dataframe tbody tr th {\n",
       "        vertical-align: top;\n",
       "    }\n",
       "\n",
       "    .dataframe thead th {\n",
       "        text-align: right;\n",
       "    }\n",
       "</style>\n",
       "<table border=\"1\" class=\"dataframe\">\n",
       "  <thead>\n",
       "    <tr style=\"text-align: right;\">\n",
       "      <th>def_pay</th>\n",
       "      <th>0</th>\n",
       "      <th>1</th>\n",
       "      <th>perc</th>\n",
       "    </tr>\n",
       "    <tr>\n",
       "      <th>SE_MA</th>\n",
       "      <th></th>\n",
       "      <th></th>\n",
       "      <th></th>\n",
       "    </tr>\n",
       "  </thead>\n",
       "  <tbody>\n",
       "    <tr>\n",
       "      <th>1</th>\n",
       "      <td>3844</td>\n",
       "      <td>1346</td>\n",
       "      <td>0.259345</td>\n",
       "    </tr>\n",
       "    <tr>\n",
       "      <th>2</th>\n",
       "      <td>11677</td>\n",
       "      <td>3345</td>\n",
       "      <td>0.222673</td>\n",
       "    </tr>\n",
       "    <tr>\n",
       "      <th>3</th>\n",
       "      <td>103</td>\n",
       "      <td>42</td>\n",
       "      <td>0.289655</td>\n",
       "    </tr>\n",
       "    <tr>\n",
       "      <th>4</th>\n",
       "      <td>7555</td>\n",
       "      <td>1856</td>\n",
       "      <td>0.197216</td>\n",
       "    </tr>\n",
       "    <tr>\n",
       "      <th>6</th>\n",
       "      <td>185</td>\n",
       "      <td>47</td>\n",
       "      <td>0.202586</td>\n",
       "    </tr>\n",
       "  </tbody>\n",
       "</table>\n",
       "</div>"
      ],
      "text/plain": [
       "def_pay      0     1      perc\n",
       "SE_MA                         \n",
       "1         3844  1346  0.259345\n",
       "2        11677  3345  0.222673\n",
       "3          103    42  0.289655\n",
       "4         7555  1856  0.197216\n",
       "6          185    47  0.202586"
      ]
     },
     "execution_count": 71,
     "metadata": {},
     "output_type": "execute_result"
    }
   ],
   "source": [
    "df['SE_MA'] = df.SEX * df.MARRIAGE\n",
    "corr_2_cols('SE_MA', 'def_pay')"
   ]
  },
  {
   "cell_type": "markdown",
   "metadata": {
    "_cell_guid": "1413d9b4-5464-4e34-9765-32b203e4ae5d",
    "_uuid": "93c5e3c484b67f0486439469d0a35b76f84a260d"
   },
   "source": [
    "In general it can be good enough, but there can be a better way of doing it."
   ]
  },
  {
   "cell_type": "code",
   "execution_count": 72,
   "metadata": {
    "_cell_guid": "0c32f531-bbec-4d11-8895-5c8b59437263",
    "_uuid": "806974e0aaaaabf759e32097bde4a0732abb1d18"
   },
   "outputs": [
    {
     "data": {
      "text/html": [
       "<div>\n",
       "<style scoped>\n",
       "    .dataframe tbody tr th:only-of-type {\n",
       "        vertical-align: middle;\n",
       "    }\n",
       "\n",
       "    .dataframe tbody tr th {\n",
       "        vertical-align: top;\n",
       "    }\n",
       "\n",
       "    .dataframe thead th {\n",
       "        text-align: right;\n",
       "    }\n",
       "</style>\n",
       "<table border=\"1\" class=\"dataframe\">\n",
       "  <thead>\n",
       "    <tr style=\"text-align: right;\">\n",
       "      <th>def_pay</th>\n",
       "      <th>0</th>\n",
       "      <th>1</th>\n",
       "      <th>perc</th>\n",
       "    </tr>\n",
       "    <tr>\n",
       "      <th>SE_MA_2</th>\n",
       "      <th></th>\n",
       "      <th></th>\n",
       "      <th></th>\n",
       "    </tr>\n",
       "  </thead>\n",
       "  <tbody>\n",
       "    <tr>\n",
       "      <th>1</th>\n",
       "      <td>3844</td>\n",
       "      <td>1346</td>\n",
       "      <td>0.259345</td>\n",
       "    </tr>\n",
       "    <tr>\n",
       "      <th>2</th>\n",
       "      <td>5068</td>\n",
       "      <td>1485</td>\n",
       "      <td>0.226614</td>\n",
       "    </tr>\n",
       "    <tr>\n",
       "      <th>3</th>\n",
       "      <td>103</td>\n",
       "      <td>42</td>\n",
       "      <td>0.289655</td>\n",
       "    </tr>\n",
       "    <tr>\n",
       "      <th>4</th>\n",
       "      <td>6609</td>\n",
       "      <td>1860</td>\n",
       "      <td>0.219625</td>\n",
       "    </tr>\n",
       "    <tr>\n",
       "      <th>5</th>\n",
       "      <td>7555</td>\n",
       "      <td>1856</td>\n",
       "      <td>0.197216</td>\n",
       "    </tr>\n",
       "    <tr>\n",
       "      <th>6</th>\n",
       "      <td>185</td>\n",
       "      <td>47</td>\n",
       "      <td>0.202586</td>\n",
       "    </tr>\n",
       "  </tbody>\n",
       "</table>\n",
       "</div>"
      ],
      "text/plain": [
       "def_pay     0     1      perc\n",
       "SE_MA_2                      \n",
       "1        3844  1346  0.259345\n",
       "2        5068  1485  0.226614\n",
       "3         103    42  0.289655\n",
       "4        6609  1860  0.219625\n",
       "5        7555  1856  0.197216\n",
       "6         185    47  0.202586"
      ]
     },
     "execution_count": 72,
     "metadata": {},
     "output_type": "execute_result"
    }
   ],
   "source": [
    "df['SE_MA_2'] = 0\n",
    "df.loc[((df.SEX == 1) & (df.MARRIAGE == 1)) , 'SE_MA_2'] = 1 #married man\n",
    "df.loc[((df.SEX == 1) & (df.MARRIAGE == 2)) , 'SE_MA_2'] = 2 #single man\n",
    "df.loc[((df.SEX == 1) & (df.MARRIAGE == 3)) , 'SE_MA_2'] = 3 #divorced man\n",
    "df.loc[((df.SEX == 2) & (df.MARRIAGE == 1)) , 'SE_MA_2'] = 4 #married woman\n",
    "df.loc[((df.SEX == 2) & (df.MARRIAGE == 2)) , 'SE_MA_2'] = 5 #single woman\n",
    "df.loc[((df.SEX == 2) & (df.MARRIAGE == 3)) , 'SE_MA_2'] = 6 #divorced woman\n",
    "corr_2_cols('SE_MA_2', 'def_pay')"
   ]
  },
  {
   "cell_type": "markdown",
   "metadata": {
    "_cell_guid": "cb94446e-0fea-48c3-941d-25cbbfcefe85",
    "_uuid": "90e45a6a2212743d484dd0e3539bc98e50dabb5b"
   },
   "source": [
    "I like this better because I can see clearly that married men have a higher probability of defaulting, single men have nothing special with respect to the all population and single women have a lowe probability of defaulting. Among the divorced, men have more troubles (but these categories are not very much populated).\n",
    "\n",
    "It can be useful to create age categories.  We can do it in three ways (that I know of).\n",
    "\n",
    "First, we could simply create a column and put a bunch of filters to fill it with the help of loc."
   ]
  },
  {
   "cell_type": "code",
   "execution_count": 73,
   "metadata": {
    "_uuid": "d5e28e54440bac7ff38f18c92fa46f8e437c6046"
   },
   "outputs": [],
   "source": [
    "del df['SE_MA']\n",
    "df = df.rename(columns={'SE_MA_2': 'SE_MA'})"
   ]
  },
  {
   "cell_type": "code",
   "execution_count": 74,
   "metadata": {
    "_cell_guid": "ee2915e1-3cb1-4d81-9b47-0edc0e2b1b84",
    "_uuid": "60d65e4b016a8a2a4707a695eb31aa92bb1ca710"
   },
   "outputs": [
    {
     "data": {
      "text/plain": [
       "<matplotlib.axes._subplots.AxesSubplot at 0x1ce18322288>"
      ]
     },
     "execution_count": 74,
     "metadata": {},
     "output_type": "execute_result"
    },
    {
     "data": {
      "image/png": "[encoded data removed]",
      "text/plain": [
       "<Figure size 432x288 with 1 Axes>"
      ]
     },
     "metadata": {
      "needs_background": "light"
     },
     "output_type": "display_data"
    }
   ],
   "source": [
    "df['AgeBin'] = 0 #creates a column of 0\n",
    "df.loc[((df['AGE'] > 20) & (df['AGE'] < 30)) , 'AgeBin'] = 1\n",
    "df.loc[((df['AGE'] >= 30) & (df['AGE'] < 40)) , 'AgeBin'] = 2\n",
    "df.loc[((df['AGE'] >= 40) & (df['AGE'] < 50)) , 'AgeBin'] = 3\n",
    "df.loc[((df['AGE'] >= 50) & (df['AGE'] < 60)) , 'AgeBin'] = 4\n",
    "df.loc[((df['AGE'] >= 60) & (df['AGE'] < 70)) , 'AgeBin'] = 5\n",
    "df.loc[((df['AGE'] >= 70) & (df['AGE'] < 81)) , 'AgeBin'] = 6\n",
    "df.AgeBin.hist()"
   ]
  },
  {
   "cell_type": "markdown",
   "metadata": {
    "_cell_guid": "2af7d4a4-4413-40bb-a986-9c3a8d05a0af",
    "_uuid": "515d86abe0771bcb4772c40008bc2ad423e78aef"
   },
   "source": [
    "This works gives you control of how big the bins are BUT, let's face it, now that we know how loc works (sort of) it is not practical. We can use the second method that I know, which is to cut"
   ]
  },
  {
   "cell_type": "code",
   "execution_count": 75,
   "metadata": {
    "_cell_guid": "c1295780-e244-493d-b417-964c904cc608",
    "_uuid": "98fcbc5af275ee736ea4667e32e9306c4409daf6"
   },
   "outputs": [
    {
     "data": {
      "text/plain": [
       "<matplotlib.axes._subplots.AxesSubplot at 0x1ce1835c988>"
      ]
     },
     "execution_count": 75,
     "metadata": {},
     "output_type": "execute_result"
    },
    {
     "data": {
      "image/png": "[encoded data removed]",
      "text/plain": [
       "<Figure size 432x288 with 1 Axes>"
      ]
     },
     "metadata": {
      "needs_background": "light"
     },
     "output_type": "display_data"
    }
   ],
   "source": [
    "bins = [20, 29, 39, 49, 59, 69, 81]\n",
    "bins_names = [1, 2, 3, 4, 5, 6]\n",
    "df['AgeBin2'] = pd.cut(df['AGE'], bins, labels=bins_names)\n",
    "df.AgeBin2.hist()"
   ]
  },
  {
   "cell_type": "markdown",
   "metadata": {
    "_cell_guid": "529cdbf7-77cc-48ac-ac04-8dc1949ece07",
    "_uuid": "efab1af4db647b178ba155bab73ec65a45d0f3a8"
   },
   "source": [
    "We notice 2 things:\n",
    "* the bins have to be defined in a slightly counter intuitive way (at first) due to the fact that it includes the upper limit (as you can check by just changing the bins). You can play with the option \"right\" that is True by default\n",
    "* the bins names have to be less numerous than the bins, i.e. with one bin you do bins = [20,81] and bins_names = [ 1 ] \n",
    "\n",
    "There is actually a faster way of doing 6 bins with cut, at the price of losing control on how big these bins are"
   ]
  },
  {
   "cell_type": "code",
   "execution_count": 76,
   "metadata": {
    "_cell_guid": "d1a1d61a-984d-472f-bcc1-8999907e03e4",
    "_uuid": "d22bec661afbb115d6c44d56e320e36a82047097"
   },
   "outputs": [
    {
     "data": {
      "text/plain": [
       "(20.942, 30.667]    11013\n",
       "(30.667, 40.333]    10713\n",
       "(40.333, 50.0]       6005\n",
       "(50.0, 59.667]       1930\n",
       "(59.667, 69.333]      314\n",
       "(69.333, 79.0]         25\n",
       "Name: AgeBin3, dtype: int64"
      ]
     },
     "execution_count": 76,
     "metadata": {},
     "output_type": "execute_result"
    }
   ],
   "source": [
    "df['AgeBin3'] = pd.cut(df['AGE'], 6)\n",
    "df.AgeBin3.value_counts()"
   ]
  },
  {
   "cell_type": "code",
   "execution_count": 77,
   "metadata": {
    "_cell_guid": "426e3ffd-88a0-4f27-92a1-4a14e25ec1de",
    "_uuid": "1b5237b4b3eb1e2b899d13fbfce10cf381c69a81"
   },
   "outputs": [
    {
     "data": {
      "text/plain": [
       "<matplotlib.axes._subplots.AxesSubplot at 0x1ce181fe308>"
      ]
     },
     "execution_count": 77,
     "metadata": {},
     "output_type": "execute_result"
    },
    {
     "data": {
      "image/png": "[encoded data removed]",
      "text/plain": [
       "<Figure size 432x288 with 1 Axes>"
      ]
     },
     "metadata": {
      "needs_background": "light"
     },
     "output_type": "display_data"
    }
   ],
   "source": [
    "df['AgeBin3'] = pd.cut(df['AGE'], 6, labels=bins_names) #just added one option\n",
    "df.AgeBin3.hist()"
   ]
  },
  {
   "cell_type": "markdown",
   "metadata": {
    "_cell_guid": "84574153-db25-44b1-89c4-076364944fc7",
    "_uuid": "052489aaeab4c1f070552bdad6a89cb41e3c43ff"
   },
   "source": [
    "Another way of cutting a countinuos variable can be with a quantile-based discretization. This is done by the function qcut\n",
    "\n",
    "This can be useful if, for example, you have outliers (like in the balance variable it is possible there will be some) because those outliers would just fall into the extremal categories."
   ]
  },
  {
   "cell_type": "code",
   "execution_count": 78,
   "metadata": {
    "_cell_guid": "0f5fe1ad-6a9b-47ed-8d9b-9a58f3e1ec47",
    "_uuid": "3ff93275e171f00349fb49f935fb22f8e9cdbb2d"
   },
   "outputs": [
    {
     "data": {
      "text/plain": [
       "(26.0, 30.0]      5886\n",
       "(34.0, 39.0]      5160\n",
       "(20.999, 26.0]    5127\n",
       "(30.0, 34.0]      4683\n",
       "(45.0, 79.0]      4669\n",
       "(39.0, 45.0]      4475\n",
       "Name: AgeBin4, dtype: int64"
      ]
     },
     "execution_count": 78,
     "metadata": {},
     "output_type": "execute_result"
    }
   ],
   "source": [
    "df['AgeBin4'] = pd.qcut(df['AGE'], 6)\n",
    "df.AgeBin4.value_counts()"
   ]
  },
  {
   "cell_type": "code",
   "execution_count": 79,
   "metadata": {
    "_cell_guid": "6e6c88fc-03db-4d22-84ce-b80976a61b5d",
    "_uuid": "5ce7a422a62bdcc63805acd2920cd8e851e23e22"
   },
   "outputs": [
    {
     "data": {
      "text/plain": [
       "<matplotlib.axes._subplots.AxesSubplot at 0x1ce182a91c8>"
      ]
     },
     "execution_count": 79,
     "metadata": {},
     "output_type": "execute_result"
    },
    {
     "data": {
      "image/png": "[encoded data removed]",
      "text/plain": [
       "<Figure size 432x288 with 1 Axes>"
      ]
     },
     "metadata": {
      "needs_background": "light"
     },
     "output_type": "display_data"
    }
   ],
   "source": [
    "df['AgeBin4'] = pd.qcut(df['AGE'], 6, labels=bins_names)\n",
    "df.AgeBin4.hist()"
   ]
  },
  {
   "cell_type": "markdown",
   "metadata": {
    "_cell_guid": "d8bec6c6-19f4-464e-84f1-30f268e508e3",
    "_uuid": "5a9242a1de733644dc008b1d4824c7f00f3cc0d8"
   },
   "source": [
    "We don't need all of them. The normal cut is easier to explain, but I need to get rid to the category 6 since it is not populated enough and can ruin the model. I will group it with the 5, effectively treating every client over 60 in the same way.\n",
    "\n",
    "I will get rid of all the others."
   ]
  },
  {
   "cell_type": "code",
   "execution_count": 80,
   "metadata": {
    "_cell_guid": "96fad707-8f34-4444-b223-80fe1375ba14",
    "_uuid": "085aefaacc00dd8b1a8a3d5503fa35a8baec3f15"
   },
   "outputs": [
    {
     "data": {
      "text/plain": [
       "<matplotlib.axes._subplots.AxesSubplot at 0x1ce18809ec8>"
      ]
     },
     "execution_count": 80,
     "metadata": {},
     "output_type": "execute_result"
    },
    {
     "data": {
      "image/png": "[encoded data removed]",
      "text/plain": [
       "<Figure size 432x288 with 1 Axes>"
      ]
     },
     "metadata": {
      "needs_background": "light"
     },
     "output_type": "display_data"
    }
   ],
   "source": [
    "del df['AgeBin2']\n",
    "del df['AgeBin3']\n",
    "del df['AgeBin4'] # we don't need these any more\n",
    "df['AgeBin'] = pd.cut(df['AGE'], 6, labels = [1,2,3,4,5,6])\n",
    "#because 1 2 3 ecc are \"categories\" so far and we need numbers\n",
    "df['AgeBin'] = pd.to_numeric(df['AgeBin'])\n",
    "df.loc[(df['AgeBin'] == 6) , 'AgeBin'] = 5\n",
    "df.AgeBin.hist()"
   ]
  },
  {
   "cell_type": "code",
   "execution_count": 81,
   "metadata": {
    "_cell_guid": "428340e1-48ad-4e62-8cba-dd6b21a8df6b",
    "_uuid": "a427f8c78379b0f9304648f898e074fd3f84e20f"
   },
   "outputs": [
    {
     "data": {
      "text/html": [
       "<div>\n",
       "<style scoped>\n",
       "    .dataframe tbody tr th:only-of-type {\n",
       "        vertical-align: middle;\n",
       "    }\n",
       "\n",
       "    .dataframe tbody tr th {\n",
       "        vertical-align: top;\n",
       "    }\n",
       "\n",
       "    .dataframe thead th {\n",
       "        text-align: right;\n",
       "    }\n",
       "</style>\n",
       "<table border=\"1\" class=\"dataframe\">\n",
       "  <thead>\n",
       "    <tr style=\"text-align: right;\">\n",
       "      <th>def_pay</th>\n",
       "      <th>0</th>\n",
       "      <th>1</th>\n",
       "      <th>perc</th>\n",
       "    </tr>\n",
       "    <tr>\n",
       "      <th>AgeBin</th>\n",
       "      <th></th>\n",
       "      <th></th>\n",
       "      <th></th>\n",
       "    </tr>\n",
       "  </thead>\n",
       "  <tbody>\n",
       "    <tr>\n",
       "      <th>1</th>\n",
       "      <td>8542</td>\n",
       "      <td>2471</td>\n",
       "      <td>0.224371</td>\n",
       "    </tr>\n",
       "    <tr>\n",
       "      <th>2</th>\n",
       "      <td>8524</td>\n",
       "      <td>2189</td>\n",
       "      <td>0.204331</td>\n",
       "    </tr>\n",
       "    <tr>\n",
       "      <th>3</th>\n",
       "      <td>4606</td>\n",
       "      <td>1399</td>\n",
       "      <td>0.232973</td>\n",
       "    </tr>\n",
       "    <tr>\n",
       "      <th>4</th>\n",
       "      <td>1449</td>\n",
       "      <td>481</td>\n",
       "      <td>0.249223</td>\n",
       "    </tr>\n",
       "    <tr>\n",
       "      <th>5</th>\n",
       "      <td>243</td>\n",
       "      <td>96</td>\n",
       "      <td>0.283186</td>\n",
       "    </tr>\n",
       "  </tbody>\n",
       "</table>\n",
       "</div>"
      ],
      "text/plain": [
       "def_pay     0     1      perc\n",
       "AgeBin                       \n",
       "1        8542  2471  0.224371\n",
       "2        8524  2189  0.204331\n",
       "3        4606  1399  0.232973\n",
       "4        1449   481  0.249223\n",
       "5         243    96  0.283186"
      ]
     },
     "execution_count": 81,
     "metadata": {},
     "output_type": "execute_result"
    }
   ],
   "source": [
    "corr_2_cols('AgeBin', 'def_pay')"
   ]
  },
  {
   "cell_type": "code",
   "execution_count": 82,
   "metadata": {
    "_cell_guid": "d2f7bf76-882c-4b35-b49b-0b604620b299",
    "_uuid": "7a73e14ef15a4a6c3cd19c7f41cb08713751867b"
   },
   "outputs": [
    {
     "data": {
      "text/html": [
       "<div>\n",
       "<style scoped>\n",
       "    .dataframe tbody tr th:only-of-type {\n",
       "        vertical-align: middle;\n",
       "    }\n",
       "\n",
       "    .dataframe tbody tr th {\n",
       "        vertical-align: top;\n",
       "    }\n",
       "\n",
       "    .dataframe thead th {\n",
       "        text-align: right;\n",
       "    }\n",
       "</style>\n",
       "<table border=\"1\" class=\"dataframe\">\n",
       "  <thead>\n",
       "    <tr style=\"text-align: right;\">\n",
       "      <th>SEX</th>\n",
       "      <th>1</th>\n",
       "      <th>2</th>\n",
       "      <th>perc</th>\n",
       "    </tr>\n",
       "    <tr>\n",
       "      <th>AgeBin</th>\n",
       "      <th></th>\n",
       "      <th></th>\n",
       "      <th></th>\n",
       "    </tr>\n",
       "  </thead>\n",
       "  <tbody>\n",
       "    <tr>\n",
       "      <th>1</th>\n",
       "      <td>3842</td>\n",
       "      <td>7171</td>\n",
       "      <td>0.651140</td>\n",
       "    </tr>\n",
       "    <tr>\n",
       "      <th>2</th>\n",
       "      <td>4363</td>\n",
       "      <td>6350</td>\n",
       "      <td>0.592738</td>\n",
       "    </tr>\n",
       "    <tr>\n",
       "      <th>3</th>\n",
       "      <td>2587</td>\n",
       "      <td>3418</td>\n",
       "      <td>0.569192</td>\n",
       "    </tr>\n",
       "    <tr>\n",
       "      <th>4</th>\n",
       "      <td>917</td>\n",
       "      <td>1013</td>\n",
       "      <td>0.524870</td>\n",
       "    </tr>\n",
       "    <tr>\n",
       "      <th>5</th>\n",
       "      <td>179</td>\n",
       "      <td>160</td>\n",
       "      <td>0.471976</td>\n",
       "    </tr>\n",
       "  </tbody>\n",
       "</table>\n",
       "</div>"
      ],
      "text/plain": [
       "SEX        1     2      perc\n",
       "AgeBin                      \n",
       "1       3842  7171  0.651140\n",
       "2       4363  6350  0.592738\n",
       "3       2587  3418  0.569192\n",
       "4        917  1013  0.524870\n",
       "5        179   160  0.471976"
      ]
     },
     "execution_count": 82,
     "metadata": {},
     "output_type": "execute_result"
    }
   ],
   "source": [
    "corr_2_cols('AgeBin', 'SEX')"
   ]
  },
  {
   "cell_type": "markdown",
   "metadata": {
    "_cell_guid": "6400069e-1b80-4fdc-9012-8b1a53abc333",
    "_uuid": "34b1f08774e5baf2aef702e2fcaf24f88fd0a0c7"
   },
   "source": [
    "I see that default probability goes down in your 30's and then goes higher and higher. At the same time, the percentage of men is growing with the age category. Thus I want to combine the two as before and create a combination of the two."
   ]
  },
  {
   "cell_type": "code",
   "execution_count": 83,
   "metadata": {
    "_cell_guid": "814feb21-df0a-4976-9a21-d6a86bcb02e5",
    "_uuid": "02019d1e796f048847902f6aa20dd70a4c22c7b1"
   },
   "outputs": [
    {
     "data": {
      "text/html": [
       "<div>\n",
       "<style scoped>\n",
       "    .dataframe tbody tr th:only-of-type {\n",
       "        vertical-align: middle;\n",
       "    }\n",
       "\n",
       "    .dataframe tbody tr th {\n",
       "        vertical-align: top;\n",
       "    }\n",
       "\n",
       "    .dataframe thead th {\n",
       "        text-align: right;\n",
       "    }\n",
       "</style>\n",
       "<table border=\"1\" class=\"dataframe\">\n",
       "  <thead>\n",
       "    <tr style=\"text-align: right;\">\n",
       "      <th>def_pay</th>\n",
       "      <th>0</th>\n",
       "      <th>1</th>\n",
       "      <th>perc</th>\n",
       "    </tr>\n",
       "    <tr>\n",
       "      <th>SE_AG</th>\n",
       "      <th></th>\n",
       "      <th></th>\n",
       "      <th></th>\n",
       "    </tr>\n",
       "  </thead>\n",
       "  <tbody>\n",
       "    <tr>\n",
       "      <th>1</th>\n",
       "      <td>2929</td>\n",
       "      <td>913</td>\n",
       "      <td>0.237637</td>\n",
       "    </tr>\n",
       "    <tr>\n",
       "      <th>2</th>\n",
       "      <td>3350</td>\n",
       "      <td>1013</td>\n",
       "      <td>0.232180</td>\n",
       "    </tr>\n",
       "    <tr>\n",
       "      <th>3</th>\n",
       "      <td>1939</td>\n",
       "      <td>648</td>\n",
       "      <td>0.250483</td>\n",
       "    </tr>\n",
       "    <tr>\n",
       "      <th>4</th>\n",
       "      <td>666</td>\n",
       "      <td>251</td>\n",
       "      <td>0.273719</td>\n",
       "    </tr>\n",
       "    <tr>\n",
       "      <th>5</th>\n",
       "      <td>131</td>\n",
       "      <td>48</td>\n",
       "      <td>0.268156</td>\n",
       "    </tr>\n",
       "    <tr>\n",
       "      <th>6</th>\n",
       "      <td>5613</td>\n",
       "      <td>1558</td>\n",
       "      <td>0.217264</td>\n",
       "    </tr>\n",
       "    <tr>\n",
       "      <th>7</th>\n",
       "      <td>5174</td>\n",
       "      <td>1176</td>\n",
       "      <td>0.185197</td>\n",
       "    </tr>\n",
       "    <tr>\n",
       "      <th>8</th>\n",
       "      <td>2667</td>\n",
       "      <td>751</td>\n",
       "      <td>0.219719</td>\n",
       "    </tr>\n",
       "    <tr>\n",
       "      <th>9</th>\n",
       "      <td>783</td>\n",
       "      <td>230</td>\n",
       "      <td>0.227048</td>\n",
       "    </tr>\n",
       "    <tr>\n",
       "      <th>10</th>\n",
       "      <td>112</td>\n",
       "      <td>48</td>\n",
       "      <td>0.300000</td>\n",
       "    </tr>\n",
       "  </tbody>\n",
       "</table>\n",
       "</div>"
      ],
      "text/plain": [
       "def_pay     0     1      perc\n",
       "SE_AG                        \n",
       "1        2929   913  0.237637\n",
       "2        3350  1013  0.232180\n",
       "3        1939   648  0.250483\n",
       "4         666   251  0.273719\n",
       "5         131    48  0.268156\n",
       "6        5613  1558  0.217264\n",
       "7        5174  1176  0.185197\n",
       "8        2667   751  0.219719\n",
       "9         783   230  0.227048\n",
       "10        112    48  0.300000"
      ]
     },
     "execution_count": 83,
     "metadata": {},
     "output_type": "execute_result"
    }
   ],
   "source": [
    "df['SE_AG'] = 0\n",
    "df.loc[((df.SEX == 1) & (df.AgeBin == 1)) , 'SE_AG'] = 1 #man in 20's\n",
    "df.loc[((df.SEX == 1) & (df.AgeBin == 2)) , 'SE_AG'] = 2 #man in 30's\n",
    "df.loc[((df.SEX == 1) & (df.AgeBin == 3)) , 'SE_AG'] = 3 #man in 40's\n",
    "df.loc[((df.SEX == 1) & (df.AgeBin == 4)) , 'SE_AG'] = 4 #man in 50's\n",
    "df.loc[((df.SEX == 1) & (df.AgeBin == 5)) , 'SE_AG'] = 5 #man in 60's and above\n",
    "df.loc[((df.SEX == 2) & (df.AgeBin == 1)) , 'SE_AG'] = 6 #woman in 20's\n",
    "df.loc[((df.SEX == 2) & (df.AgeBin == 2)) , 'SE_AG'] = 7 #woman in 30's\n",
    "df.loc[((df.SEX == 2) & (df.AgeBin == 3)) , 'SE_AG'] = 8 #woman in 40's\n",
    "df.loc[((df.SEX == 2) & (df.AgeBin == 4)) , 'SE_AG'] = 9 #woman in 50's\n",
    "df.loc[((df.SEX == 2) & (df.AgeBin == 5)) , 'SE_AG'] = 10 #woman in 60's and above\n",
    "corr_2_cols('SE_AG', 'def_pay')"
   ]
  },
  {
   "cell_type": "markdown",
   "metadata": {
    "_cell_guid": "802b89e2-2859-477e-9aaa-a26f6c5027b3",
    "_uuid": "85eb10987dd1f5711dae1b82f2438b9250a22b24"
   },
   "source": [
    "Now it is time to do something that indicates being a client at a given month or not. I would say that if PAY, BILL_AMT and PAY_AMT are 0, then we are not talking about a client"
   ]
  },
  {
   "cell_type": "code",
   "execution_count": 84,
   "metadata": {
    "_cell_guid": "8b9e0f9c-b011-41b9-bb77-bc16493fd393",
    "_uuid": "82c67f3a9d0a9b52526268fe8f6ad9416ad997da"
   },
   "outputs": [
    {
     "data": {
      "text/plain": [
       "6    26700\n",
       "5    27247\n",
       "4    27572\n",
       "3    27810\n",
       "2    28183\n",
       "1    29477\n",
       "dtype: int64"
      ]
     },
     "execution_count": 84,
     "metadata": {},
     "output_type": "execute_result"
    }
   ],
   "source": [
    "df['Client_6'] = 1\n",
    "df['Client_5'] = 1\n",
    "df['Client_4'] = 1\n",
    "df['Client_3'] = 1\n",
    "df['Client_2'] = 1\n",
    "df['Client_1'] = 1\n",
    "df.loc[((df.PAY_6 == 0) & (df.BILL_AMT6 == 0) & (df.PAY_AMT6 == 0)) , 'Client_6'] = 0\n",
    "df.loc[((df.PAY_5 == 0) & (df.BILL_AMT5 == 0) & (df.PAY_AMT5 == 0)) , 'Client_5'] = 0\n",
    "df.loc[((df.PAY_4 == 0) & (df.BILL_AMT4 == 0) & (df.PAY_AMT4 == 0)) , 'Client_4'] = 0\n",
    "df.loc[((df.PAY_3 == 0) & (df.BILL_AMT3 == 0) & (df.PAY_AMT3 == 0)) , 'Client_3'] = 0\n",
    "df.loc[((df.PAY_2 == 0) & (df.BILL_AMT2 == 0) & (df.PAY_AMT2 == 0)) , 'Client_2'] = 0\n",
    "df.loc[((df.PAY_1 == 0) & (df.BILL_AMT1 == 0) & (df.PAY_AMT1 == 0)) , 'Client_1'] = 0\n",
    "pd.Series([df[df.Client_6 == 1].def_pay.count(),\n",
    "          df[df.Client_5 == 1].def_pay.count(),\n",
    "          df[df.Client_4 == 1].def_pay.count(),\n",
    "          df[df.Client_3 == 1].def_pay.count(),\n",
    "          df[df.Client_2 == 1].def_pay.count(),\n",
    "          df[df.Client_1 == 1].def_pay.count()], [6,5,4,3,2,1])"
   ]
  },
  {
   "cell_type": "markdown",
   "metadata": {
    "_cell_guid": "d6070017-a6e8-4ab3-a271-9ba07003703f",
    "_uuid": "324705b02a9860475d88e7e4ef6e9ea295d53096"
   },
   "source": [
    "I will need these variables if I want to see how my predictions will change if I anticipate them (i. e. if I use data up to june instead of up to september)\n",
    "\n",
    "Next, I want something to describe the expenses of a client, following the idea I have expressed before when I looked at the BILL AMT and the PAY AMT. I am thinking of something like average expenses at any given month (again, for this first prediction I will just care about the last month but I might need the others later). Moreover, I want to give some context to it, so I will divide that number by LIMIT_BAL, so that we have a sort of extimation of how \"careless\" a client is."
   ]
  },
  {
   "cell_type": "code",
   "execution_count": 85,
   "metadata": {
    "_cell_guid": "6733a56c-59e2-4335-ae18-367a38c9f9e5",
    "_uuid": "e861b0a7e9cca51f9e387b2ec5a53a36d9c816b4"
   },
   "outputs": [
    {
     "data": {
      "text/html": [
       "<div>\n",
       "<style scoped>\n",
       "    .dataframe tbody tr th:only-of-type {\n",
       "        vertical-align: middle;\n",
       "    }\n",
       "\n",
       "    .dataframe tbody tr th {\n",
       "        vertical-align: top;\n",
       "    }\n",
       "\n",
       "    .dataframe thead th {\n",
       "        text-align: right;\n",
       "    }\n",
       "</style>\n",
       "<table border=\"1\" class=\"dataframe\">\n",
       "  <thead>\n",
       "    <tr style=\"text-align: right;\">\n",
       "      <th></th>\n",
       "      <th>LIMIT_BAL</th>\n",
       "      <th>Avg_exp_5</th>\n",
       "      <th>BILL_AMT5</th>\n",
       "      <th>Avg_exp_4</th>\n",
       "      <th>BILL_AMT4</th>\n",
       "      <th>Avg_exp_3</th>\n",
       "      <th>BILL_AMT3</th>\n",
       "      <th>Avg_exp_2</th>\n",
       "      <th>BILL_AMT2</th>\n",
       "      <th>Avg_exp_1</th>\n",
       "      <th>BILL_AMT1</th>\n",
       "      <th>def_pay</th>\n",
       "    </tr>\n",
       "  </thead>\n",
       "  <tbody>\n",
       "    <tr>\n",
       "      <th>25017</th>\n",
       "      <td>140000.0</td>\n",
       "      <td>0.005571</td>\n",
       "      <td>780.0</td>\n",
       "      <td>0.002786</td>\n",
       "      <td>0.0</td>\n",
       "      <td>0.002786</td>\n",
       "      <td>390.0</td>\n",
       "      <td>0.003482</td>\n",
       "      <td>780.0</td>\n",
       "      <td>0.002786</td>\n",
       "      <td>780.0</td>\n",
       "      <td>1</td>\n",
       "    </tr>\n",
       "    <tr>\n",
       "      <th>3920</th>\n",
       "      <td>230000.0</td>\n",
       "      <td>0.000000</td>\n",
       "      <td>0.0</td>\n",
       "      <td>0.000000</td>\n",
       "      <td>0.0</td>\n",
       "      <td>0.000000</td>\n",
       "      <td>0.0</td>\n",
       "      <td>0.000000</td>\n",
       "      <td>0.0</td>\n",
       "      <td>0.002287</td>\n",
       "      <td>2630.0</td>\n",
       "      <td>1</td>\n",
       "    </tr>\n",
       "    <tr>\n",
       "      <th>28294</th>\n",
       "      <td>100000.0</td>\n",
       "      <td>0.021770</td>\n",
       "      <td>77082.0</td>\n",
       "      <td>0.135645</td>\n",
       "      <td>99339.0</td>\n",
       "      <td>0.096270</td>\n",
       "      <td>97303.0</td>\n",
       "      <td>0.076025</td>\n",
       "      <td>95169.0</td>\n",
       "      <td>0.070558</td>\n",
       "      <td>96636.0</td>\n",
       "      <td>0</td>\n",
       "    </tr>\n",
       "    <tr>\n",
       "      <th>27720</th>\n",
       "      <td>140000.0</td>\n",
       "      <td>0.004971</td>\n",
       "      <td>696.0</td>\n",
       "      <td>0.004971</td>\n",
       "      <td>696.0</td>\n",
       "      <td>0.004971</td>\n",
       "      <td>696.0</td>\n",
       "      <td>0.004971</td>\n",
       "      <td>696.0</td>\n",
       "      <td>0.006171</td>\n",
       "      <td>1536.0</td>\n",
       "      <td>1</td>\n",
       "    </tr>\n",
       "    <tr>\n",
       "      <th>25733</th>\n",
       "      <td>270000.0</td>\n",
       "      <td>0.000000</td>\n",
       "      <td>0.0</td>\n",
       "      <td>0.000000</td>\n",
       "      <td>0.0</td>\n",
       "      <td>0.000000</td>\n",
       "      <td>0.0</td>\n",
       "      <td>0.005417</td>\n",
       "      <td>5850.0</td>\n",
       "      <td>0.005067</td>\n",
       "      <td>990.0</td>\n",
       "      <td>0</td>\n",
       "    </tr>\n",
       "    <tr>\n",
       "      <th>18317</th>\n",
       "      <td>40000.0</td>\n",
       "      <td>0.019025</td>\n",
       "      <td>41389.0</td>\n",
       "      <td>0.021125</td>\n",
       "      <td>39380.0</td>\n",
       "      <td>0.038508</td>\n",
       "      <td>40311.0</td>\n",
       "      <td>0.057769</td>\n",
       "      <td>40633.0</td>\n",
       "      <td>0.055965</td>\n",
       "      <td>40633.0</td>\n",
       "      <td>1</td>\n",
       "    </tr>\n",
       "    <tr>\n",
       "      <th>19093</th>\n",
       "      <td>150000.0</td>\n",
       "      <td>0.019027</td>\n",
       "      <td>40669.0</td>\n",
       "      <td>0.017213</td>\n",
       "      <td>41579.0</td>\n",
       "      <td>0.017173</td>\n",
       "      <td>42306.0</td>\n",
       "      <td>0.016957</td>\n",
       "      <td>42652.0</td>\n",
       "      <td>0.022525</td>\n",
       "      <td>47372.0</td>\n",
       "      <td>0</td>\n",
       "    </tr>\n",
       "    <tr>\n",
       "      <th>15604</th>\n",
       "      <td>120000.0</td>\n",
       "      <td>0.006892</td>\n",
       "      <td>1654.0</td>\n",
       "      <td>0.006892</td>\n",
       "      <td>827.0</td>\n",
       "      <td>0.006892</td>\n",
       "      <td>827.0</td>\n",
       "      <td>0.006892</td>\n",
       "      <td>827.0</td>\n",
       "      <td>0.006892</td>\n",
       "      <td>827.0</td>\n",
       "      <td>0</td>\n",
       "    </tr>\n",
       "    <tr>\n",
       "      <th>10189</th>\n",
       "      <td>500000.0</td>\n",
       "      <td>0.241468</td>\n",
       "      <td>316208.0</td>\n",
       "      <td>0.133351</td>\n",
       "      <td>319331.0</td>\n",
       "      <td>0.101907</td>\n",
       "      <td>323841.0</td>\n",
       "      <td>0.085461</td>\n",
       "      <td>313903.0</td>\n",
       "      <td>0.074296</td>\n",
       "      <td>238708.0</td>\n",
       "      <td>0</td>\n",
       "    </tr>\n",
       "    <tr>\n",
       "      <th>6343</th>\n",
       "      <td>150000.0</td>\n",
       "      <td>0.002213</td>\n",
       "      <td>19828.0</td>\n",
       "      <td>0.002660</td>\n",
       "      <td>20294.0</td>\n",
       "      <td>0.002471</td>\n",
       "      <td>18608.0</td>\n",
       "      <td>0.002855</td>\n",
       "      <td>18209.0</td>\n",
       "      <td>0.003059</td>\n",
       "      <td>17790.0</td>\n",
       "      <td>1</td>\n",
       "    </tr>\n",
       "    <tr>\n",
       "      <th>2848</th>\n",
       "      <td>150000.0</td>\n",
       "      <td>0.061987</td>\n",
       "      <td>26379.0</td>\n",
       "      <td>0.085940</td>\n",
       "      <td>39863.0</td>\n",
       "      <td>0.067851</td>\n",
       "      <td>39614.0</td>\n",
       "      <td>0.093067</td>\n",
       "      <td>61916.0</td>\n",
       "      <td>0.084293</td>\n",
       "      <td>66296.0</td>\n",
       "      <td>0</td>\n",
       "    </tr>\n",
       "    <tr>\n",
       "      <th>21153</th>\n",
       "      <td>320000.0</td>\n",
       "      <td>0.001706</td>\n",
       "      <td>32234.0</td>\n",
       "      <td>0.002145</td>\n",
       "      <td>31161.0</td>\n",
       "      <td>0.002227</td>\n",
       "      <td>23926.0</td>\n",
       "      <td>0.002188</td>\n",
       "      <td>21589.0</td>\n",
       "      <td>0.001960</td>\n",
       "      <td>18924.0</td>\n",
       "      <td>0</td>\n",
       "    </tr>\n",
       "    <tr>\n",
       "      <th>3209</th>\n",
       "      <td>100000.0</td>\n",
       "      <td>0.001770</td>\n",
       "      <td>10135.0</td>\n",
       "      <td>0.001570</td>\n",
       "      <td>6272.0</td>\n",
       "      <td>0.001047</td>\n",
       "      <td>0.0</td>\n",
       "      <td>0.013285</td>\n",
       "      <td>5000.0</td>\n",
       "      <td>0.035948</td>\n",
       "      <td>12660.0</td>\n",
       "      <td>0</td>\n",
       "    </tr>\n",
       "    <tr>\n",
       "      <th>10024</th>\n",
       "      <td>170000.0</td>\n",
       "      <td>0.061524</td>\n",
       "      <td>69871.0</td>\n",
       "      <td>0.081306</td>\n",
       "      <td>84456.0</td>\n",
       "      <td>0.067886</td>\n",
       "      <td>88384.0</td>\n",
       "      <td>0.057179</td>\n",
       "      <td>89330.0</td>\n",
       "      <td>0.057227</td>\n",
       "      <td>94791.0</td>\n",
       "      <td>1</td>\n",
       "    </tr>\n",
       "    <tr>\n",
       "      <th>4862</th>\n",
       "      <td>80000.0</td>\n",
       "      <td>0.017263</td>\n",
       "      <td>73375.0</td>\n",
       "      <td>0.015856</td>\n",
       "      <td>71681.0</td>\n",
       "      <td>0.017992</td>\n",
       "      <td>73462.0</td>\n",
       "      <td>0.019059</td>\n",
       "      <td>72643.0</td>\n",
       "      <td>0.019603</td>\n",
       "      <td>72385.0</td>\n",
       "      <td>1</td>\n",
       "    </tr>\n",
       "    <tr>\n",
       "      <th>23668</th>\n",
       "      <td>230000.0</td>\n",
       "      <td>0.000000</td>\n",
       "      <td>0.0</td>\n",
       "      <td>0.000000</td>\n",
       "      <td>0.0</td>\n",
       "      <td>0.000000</td>\n",
       "      <td>0.0</td>\n",
       "      <td>0.000000</td>\n",
       "      <td>0.0</td>\n",
       "      <td>0.021313</td>\n",
       "      <td>24510.0</td>\n",
       "      <td>0</td>\n",
       "    </tr>\n",
       "    <tr>\n",
       "      <th>21356</th>\n",
       "      <td>70000.0</td>\n",
       "      <td>0.003629</td>\n",
       "      <td>22032.0</td>\n",
       "      <td>0.003400</td>\n",
       "      <td>19754.0</td>\n",
       "      <td>0.043624</td>\n",
       "      <td>24717.0</td>\n",
       "      <td>0.034411</td>\n",
       "      <td>23839.0</td>\n",
       "      <td>0.052431</td>\n",
       "      <td>31081.0</td>\n",
       "      <td>0</td>\n",
       "    </tr>\n",
       "    <tr>\n",
       "      <th>26286</th>\n",
       "      <td>350000.0</td>\n",
       "      <td>0.009554</td>\n",
       "      <td>45320.0</td>\n",
       "      <td>0.018026</td>\n",
       "      <td>53581.0</td>\n",
       "      <td>0.016653</td>\n",
       "      <td>52449.0</td>\n",
       "      <td>0.014221</td>\n",
       "      <td>39873.0</td>\n",
       "      <td>0.022049</td>\n",
       "      <td>43548.0</td>\n",
       "      <td>0</td>\n",
       "    </tr>\n",
       "    <tr>\n",
       "      <th>24515</th>\n",
       "      <td>140000.0</td>\n",
       "      <td>0.000000</td>\n",
       "      <td>0.0</td>\n",
       "      <td>0.000000</td>\n",
       "      <td>0.0</td>\n",
       "      <td>0.002538</td>\n",
       "      <td>1066.0</td>\n",
       "      <td>0.001904</td>\n",
       "      <td>-10.0</td>\n",
       "      <td>0.001523</td>\n",
       "      <td>-10.0</td>\n",
       "      <td>0</td>\n",
       "    </tr>\n",
       "    <tr>\n",
       "      <th>16716</th>\n",
       "      <td>430000.0</td>\n",
       "      <td>0.000000</td>\n",
       "      <td>0.0</td>\n",
       "      <td>0.001140</td>\n",
       "      <td>980.0</td>\n",
       "      <td>0.000760</td>\n",
       "      <td>0.0</td>\n",
       "      <td>0.002348</td>\n",
       "      <td>3058.0</td>\n",
       "      <td>0.002549</td>\n",
       "      <td>1442.0</td>\n",
       "      <td>0</td>\n",
       "    </tr>\n",
       "  </tbody>\n",
       "</table>\n",
       "</div>"
      ],
      "text/plain": [
       "       LIMIT_BAL  Avg_exp_5  BILL_AMT5  Avg_exp_4  BILL_AMT4  Avg_exp_3  \\\n",
       "25017   140000.0   0.005571      780.0   0.002786        0.0   0.002786   \n",
       "3920    230000.0   0.000000        0.0   0.000000        0.0   0.000000   \n",
       "28294   100000.0   0.021770    77082.0   0.135645    99339.0   0.096270   \n",
       "27720   140000.0   0.004971      696.0   0.004971      696.0   0.004971   \n",
       "25733   270000.0   0.000000        0.0   0.000000        0.0   0.000000   \n",
       "18317    40000.0   0.019025    41389.0   0.021125    39380.0   0.038508   \n",
       "19093   150000.0   0.019027    40669.0   0.017213    41579.0   0.017173   \n",
       "15604   120000.0   0.006892     1654.0   0.006892      827.0   0.006892   \n",
       "10189   500000.0   0.241468   316208.0   0.133351   319331.0   0.101907   \n",
       "6343    150000.0   0.002213    19828.0   0.002660    20294.0   0.002471   \n",
       "2848    150000.0   0.061987    26379.0   0.085940    39863.0   0.067851   \n",
       "21153   320000.0   0.001706    32234.0   0.002145    31161.0   0.002227   \n",
       "3209    100000.0   0.001770    10135.0   0.001570     6272.0   0.001047   \n",
       "10024   170000.0   0.061524    69871.0   0.081306    84456.0   0.067886   \n",
       "4862     80000.0   0.017263    73375.0   0.015856    71681.0   0.017992   \n",
       "23668   230000.0   0.000000        0.0   0.000000        0.0   0.000000   \n",
       "21356    70000.0   0.003629    22032.0   0.003400    19754.0   0.043624   \n",
       "26286   350000.0   0.009554    45320.0   0.018026    53581.0   0.016653   \n",
       "24515   140000.0   0.000000        0.0   0.000000        0.0   0.002538   \n",
       "16716   430000.0   0.000000        0.0   0.001140      980.0   0.000760   \n",
       "\n",
       "       BILL_AMT3  Avg_exp_2  BILL_AMT2  Avg_exp_1  BILL_AMT1  def_pay  \n",
       "25017      390.0   0.003482      780.0   0.002786      780.0        1  \n",
       "3920         0.0   0.000000        0.0   0.002287     2630.0        1  \n",
       "28294    97303.0   0.076025    95169.0   0.070558    96636.0        0  \n",
       "27720      696.0   0.004971      696.0   0.006171     1536.0        1  \n",
       "25733        0.0   0.005417     5850.0   0.005067      990.0        0  \n",
       "18317    40311.0   0.057769    40633.0   0.055965    40633.0        1  \n",
       "19093    42306.0   0.016957    42652.0   0.022525    47372.0        0  \n",
       "15604      827.0   0.006892      827.0   0.006892      827.0        0  \n",
       "10189   323841.0   0.085461   313903.0   0.074296   238708.0        0  \n",
       "6343     18608.0   0.002855    18209.0   0.003059    17790.0        1  \n",
       "2848     39614.0   0.093067    61916.0   0.084293    66296.0        0  \n",
       "21153    23926.0   0.002188    21589.0   0.001960    18924.0        0  \n",
       "3209         0.0   0.013285     5000.0   0.035948    12660.0        0  \n",
       "10024    88384.0   0.057179    89330.0   0.057227    94791.0        1  \n",
       "4862     73462.0   0.019059    72643.0   0.019603    72385.0        1  \n",
       "23668        0.0   0.000000        0.0   0.021313    24510.0        0  \n",
       "21356    24717.0   0.034411    23839.0   0.052431    31081.0        0  \n",
       "26286    52449.0   0.014221    39873.0   0.022049    43548.0        0  \n",
       "24515     1066.0   0.001904      -10.0   0.001523      -10.0        0  \n",
       "16716        0.0   0.002348     3058.0   0.002549     1442.0        0  "
      ]
     },
     "execution_count": 85,
     "metadata": {},
     "output_type": "execute_result"
    }
   ],
   "source": [
    "df['Avg_exp_5'] = ((df['BILL_AMT5'] - (df['BILL_AMT6'] - df['PAY_AMT5']))) / df['LIMIT_BAL']\n",
    "df['Avg_exp_4'] = (((df['BILL_AMT5'] - (df['BILL_AMT6'] - df['PAY_AMT5'])) +\n",
    "                 (df['BILL_AMT4'] - (df['BILL_AMT5'] - df['PAY_AMT4']))) / 2) / df['LIMIT_BAL']\n",
    "df['Avg_exp_3'] = (((df['BILL_AMT5'] - (df['BILL_AMT6'] - df['PAY_AMT5'])) +\n",
    "                 (df['BILL_AMT4'] - (df['BILL_AMT5'] - df['PAY_AMT4'])) +\n",
    "                 (df['BILL_AMT3'] - (df['BILL_AMT4'] - df['PAY_AMT3']))) / 3) / df['LIMIT_BAL']\n",
    "df['Avg_exp_2'] = (((df['BILL_AMT5'] - (df['BILL_AMT6'] - df['PAY_AMT5'])) +\n",
    "                 (df['BILL_AMT4'] - (df['BILL_AMT5'] - df['PAY_AMT4'])) +\n",
    "                 (df['BILL_AMT3'] - (df['BILL_AMT4'] - df['PAY_AMT3'])) +\n",
    "                 (df['BILL_AMT2'] - (df['BILL_AMT3'] - df['PAY_AMT2']))) / 4) / df['LIMIT_BAL']\n",
    "df['Avg_exp_1'] = (((df['BILL_AMT5'] - (df['BILL_AMT6'] - df['PAY_AMT5'])) +\n",
    "                 (df['BILL_AMT4'] - (df['BILL_AMT5'] - df['PAY_AMT4'])) +\n",
    "                 (df['BILL_AMT3'] - (df['BILL_AMT4'] - df['PAY_AMT3'])) +\n",
    "                 (df['BILL_AMT2'] - (df['BILL_AMT3'] - df['PAY_AMT2'])) +\n",
    "                 (df['BILL_AMT1'] - (df['BILL_AMT2'] - df['PAY_AMT1']))) / 5) / df['LIMIT_BAL']\n",
    "df[['LIMIT_BAL', 'Avg_exp_5', 'BILL_AMT5', 'Avg_exp_4', 'BILL_AMT4','Avg_exp_3', 'BILL_AMT3',\n",
    "    'Avg_exp_2', 'BILL_AMT2', 'Avg_exp_1', 'BILL_AMT1', 'def_pay']].sample(20)"
   ]
  },
  {
   "cell_type": "markdown",
   "metadata": {
    "_cell_guid": "78c0f8b5-662e-4030-b47e-6c951b218f22",
    "_uuid": "31b63f0a26ae95b2015aea7b13c6d55dd30493d0"
   },
   "source": [
    "One last thing: how far the bill is from the limit should matter, thus I will create that variable. Since the result can vary a lot from one client to the other (the LIMIT_BAL variable has a very wide range), I will again weight this difference on the LIMIT_BAL feature (in my mind it has more meaning, maybe I am wrong). Again, I want to keep the historical trend of the variable"
   ]
  },
  {
   "cell_type": "code",
   "execution_count": 86,
   "metadata": {
    "_cell_guid": "84d49d81-eac2-4394-bda5-8f043dfd8bd5",
    "_uuid": "e5e1602c0b25604274995cf43136d938fd83b4dd"
   },
   "outputs": [
    {
     "data": {
      "text/html": [
       "<div>\n",
       "<style scoped>\n",
       "    .dataframe tbody tr th:only-of-type {\n",
       "        vertical-align: middle;\n",
       "    }\n",
       "\n",
       "    .dataframe tbody tr th {\n",
       "        vertical-align: top;\n",
       "    }\n",
       "\n",
       "    .dataframe thead th {\n",
       "        text-align: right;\n",
       "    }\n",
       "</style>\n",
       "<table border=\"1\" class=\"dataframe\">\n",
       "  <thead>\n",
       "    <tr style=\"text-align: right;\">\n",
       "      <th></th>\n",
       "      <th>Closeness_6</th>\n",
       "      <th>Closeness_5</th>\n",
       "      <th>Closeness_4</th>\n",
       "      <th>Closeness_3</th>\n",
       "      <th>Closeness_2</th>\n",
       "      <th>Closeness_1</th>\n",
       "      <th>def_pay</th>\n",
       "    </tr>\n",
       "  </thead>\n",
       "  <tbody>\n",
       "    <tr>\n",
       "      <th>13302</th>\n",
       "      <td>0.995593</td>\n",
       "      <td>0.996313</td>\n",
       "      <td>0.985517</td>\n",
       "      <td>0.982423</td>\n",
       "      <td>0.995623</td>\n",
       "      <td>0.998813</td>\n",
       "      <td>0</td>\n",
       "    </tr>\n",
       "    <tr>\n",
       "      <th>19332</th>\n",
       "      <td>0.962920</td>\n",
       "      <td>0.943580</td>\n",
       "      <td>0.911880</td>\n",
       "      <td>0.942680</td>\n",
       "      <td>0.973480</td>\n",
       "      <td>0.937540</td>\n",
       "      <td>0</td>\n",
       "    </tr>\n",
       "    <tr>\n",
       "      <th>26427</th>\n",
       "      <td>0.209659</td>\n",
       "      <td>0.230018</td>\n",
       "      <td>0.113086</td>\n",
       "      <td>-0.012864</td>\n",
       "      <td>-0.008336</td>\n",
       "      <td>0.010745</td>\n",
       "      <td>0</td>\n",
       "    </tr>\n",
       "    <tr>\n",
       "      <th>16792</th>\n",
       "      <td>0.240700</td>\n",
       "      <td>0.223700</td>\n",
       "      <td>0.201300</td>\n",
       "      <td>0.178900</td>\n",
       "      <td>0.340500</td>\n",
       "      <td>0.386600</td>\n",
       "      <td>0</td>\n",
       "    </tr>\n",
       "    <tr>\n",
       "      <th>16729</th>\n",
       "      <td>0.276180</td>\n",
       "      <td>0.261640</td>\n",
       "      <td>0.273780</td>\n",
       "      <td>0.320240</td>\n",
       "      <td>0.303520</td>\n",
       "      <td>0.324480</td>\n",
       "      <td>1</td>\n",
       "    </tr>\n",
       "    <tr>\n",
       "      <th>21214</th>\n",
       "      <td>0.432975</td>\n",
       "      <td>0.447912</td>\n",
       "      <td>0.050638</td>\n",
       "      <td>0.076563</td>\n",
       "      <td>-0.011950</td>\n",
       "      <td>-0.011500</td>\n",
       "      <td>0</td>\n",
       "    </tr>\n",
       "    <tr>\n",
       "      <th>11097</th>\n",
       "      <td>0.401929</td>\n",
       "      <td>0.411400</td>\n",
       "      <td>0.424257</td>\n",
       "      <td>0.437757</td>\n",
       "      <td>0.452914</td>\n",
       "      <td>0.468586</td>\n",
       "      <td>0</td>\n",
       "    </tr>\n",
       "    <tr>\n",
       "      <th>26422</th>\n",
       "      <td>0.835552</td>\n",
       "      <td>0.843319</td>\n",
       "      <td>0.780767</td>\n",
       "      <td>0.780181</td>\n",
       "      <td>0.777800</td>\n",
       "      <td>0.738552</td>\n",
       "      <td>0</td>\n",
       "    </tr>\n",
       "    <tr>\n",
       "      <th>7269</th>\n",
       "      <td>0.935523</td>\n",
       "      <td>0.941908</td>\n",
       "      <td>0.966200</td>\n",
       "      <td>0.950015</td>\n",
       "      <td>0.985169</td>\n",
       "      <td>0.966900</td>\n",
       "      <td>0</td>\n",
       "    </tr>\n",
       "    <tr>\n",
       "      <th>24123</th>\n",
       "      <td>0.992800</td>\n",
       "      <td>0.992800</td>\n",
       "      <td>0.992800</td>\n",
       "      <td>0.992800</td>\n",
       "      <td>0.992800</td>\n",
       "      <td>0.984820</td>\n",
       "      <td>0</td>\n",
       "    </tr>\n",
       "    <tr>\n",
       "      <th>20254</th>\n",
       "      <td>0.993143</td>\n",
       "      <td>0.993143</td>\n",
       "      <td>0.993143</td>\n",
       "      <td>0.993143</td>\n",
       "      <td>0.993143</td>\n",
       "      <td>0.993143</td>\n",
       "      <td>1</td>\n",
       "    </tr>\n",
       "    <tr>\n",
       "      <th>3339</th>\n",
       "      <td>1.000207</td>\n",
       "      <td>1.000207</td>\n",
       "      <td>0.966665</td>\n",
       "      <td>0.997295</td>\n",
       "      <td>0.997245</td>\n",
       "      <td>0.923380</td>\n",
       "      <td>1</td>\n",
       "    </tr>\n",
       "    <tr>\n",
       "      <th>4872</th>\n",
       "      <td>0.673340</td>\n",
       "      <td>0.728460</td>\n",
       "      <td>0.707240</td>\n",
       "      <td>0.378220</td>\n",
       "      <td>0.199760</td>\n",
       "      <td>0.166520</td>\n",
       "      <td>0</td>\n",
       "    </tr>\n",
       "    <tr>\n",
       "      <th>22261</th>\n",
       "      <td>1.000000</td>\n",
       "      <td>1.000000</td>\n",
       "      <td>1.000000</td>\n",
       "      <td>1.000000</td>\n",
       "      <td>1.000000</td>\n",
       "      <td>1.000000</td>\n",
       "      <td>0</td>\n",
       "    </tr>\n",
       "    <tr>\n",
       "      <th>14977</th>\n",
       "      <td>0.980070</td>\n",
       "      <td>0.966915</td>\n",
       "      <td>0.990555</td>\n",
       "      <td>0.995900</td>\n",
       "      <td>0.991570</td>\n",
       "      <td>0.952075</td>\n",
       "      <td>0</td>\n",
       "    </tr>\n",
       "    <tr>\n",
       "      <th>17199</th>\n",
       "      <td>0.502407</td>\n",
       "      <td>0.533686</td>\n",
       "      <td>0.550943</td>\n",
       "      <td>0.592229</td>\n",
       "      <td>0.621714</td>\n",
       "      <td>0.629843</td>\n",
       "      <td>0</td>\n",
       "    </tr>\n",
       "    <tr>\n",
       "      <th>14612</th>\n",
       "      <td>0.665840</td>\n",
       "      <td>0.673400</td>\n",
       "      <td>0.673260</td>\n",
       "      <td>0.678060</td>\n",
       "      <td>0.488900</td>\n",
       "      <td>0.057920</td>\n",
       "      <td>0</td>\n",
       "    </tr>\n",
       "    <tr>\n",
       "      <th>21670</th>\n",
       "      <td>0.895450</td>\n",
       "      <td>0.928230</td>\n",
       "      <td>0.882860</td>\n",
       "      <td>0.891240</td>\n",
       "      <td>0.978200</td>\n",
       "      <td>0.991080</td>\n",
       "      <td>0</td>\n",
       "    </tr>\n",
       "    <tr>\n",
       "      <th>22627</th>\n",
       "      <td>0.985083</td>\n",
       "      <td>0.994383</td>\n",
       "      <td>0.997333</td>\n",
       "      <td>0.998189</td>\n",
       "      <td>0.998189</td>\n",
       "      <td>0.998189</td>\n",
       "      <td>1</td>\n",
       "    </tr>\n",
       "    <tr>\n",
       "      <th>17512</th>\n",
       "      <td>0.354025</td>\n",
       "      <td>0.339975</td>\n",
       "      <td>0.346825</td>\n",
       "      <td>0.356275</td>\n",
       "      <td>0.383900</td>\n",
       "      <td>0.406650</td>\n",
       "      <td>1</td>\n",
       "    </tr>\n",
       "  </tbody>\n",
       "</table>\n",
       "</div>"
      ],
      "text/plain": [
       "       Closeness_6  Closeness_5  Closeness_4  Closeness_3  Closeness_2  \\\n",
       "13302     0.995593     0.996313     0.985517     0.982423     0.995623   \n",
       "19332     0.962920     0.943580     0.911880     0.942680     0.973480   \n",
       "26427     0.209659     0.230018     0.113086    -0.012864    -0.008336   \n",
       "16792     0.240700     0.223700     0.201300     0.178900     0.340500   \n",
       "16729     0.276180     0.261640     0.273780     0.320240     0.303520   \n",
       "21214     0.432975     0.447912     0.050638     0.076563    -0.011950   \n",
       "11097     0.401929     0.411400     0.424257     0.437757     0.452914   \n",
       "26422     0.835552     0.843319     0.780767     0.780181     0.777800   \n",
       "7269      0.935523     0.941908     0.966200     0.950015     0.985169   \n",
       "24123     0.992800     0.992800     0.992800     0.992800     0.992800   \n",
       "20254     0.993143     0.993143     0.993143     0.993143     0.993143   \n",
       "3339      1.000207     1.000207     0.966665     0.997295     0.997245   \n",
       "4872      0.673340     0.728460     0.707240     0.378220     0.199760   \n",
       "22261     1.000000     1.000000     1.000000     1.000000     1.000000   \n",
       "14977     0.980070     0.966915     0.990555     0.995900     0.991570   \n",
       "17199     0.502407     0.533686     0.550943     0.592229     0.621714   \n",
       "14612     0.665840     0.673400     0.673260     0.678060     0.488900   \n",
       "21670     0.895450     0.928230     0.882860     0.891240     0.978200   \n",
       "22627     0.985083     0.994383     0.997333     0.998189     0.998189   \n",
       "17512     0.354025     0.339975     0.346825     0.356275     0.383900   \n",
       "\n",
       "       Closeness_1  def_pay  \n",
       "13302     0.998813        0  \n",
       "19332     0.937540        0  \n",
       "26427     0.010745        0  \n",
       "16792     0.386600        0  \n",
       "16729     0.324480        1  \n",
       "21214    -0.011500        0  \n",
       "11097     0.468586        0  \n",
       "26422     0.738552        0  \n",
       "7269      0.966900        0  \n",
       "24123     0.984820        0  \n",
       "20254     0.993143        1  \n",
       "3339      0.923380        1  \n",
       "4872      0.166520        0  \n",
       "22261     1.000000        0  \n",
       "14977     0.952075        0  \n",
       "17199     0.629843        0  \n",
       "14612     0.057920        0  \n",
       "21670     0.991080        0  \n",
       "22627     0.998189        1  \n",
       "17512     0.406650        1  "
      ]
     },
     "execution_count": 86,
     "metadata": {},
     "output_type": "execute_result"
    }
   ],
   "source": [
    "df['Closeness_6'] = (df.LIMIT_BAL - df.BILL_AMT6) / df.LIMIT_BAL\n",
    "df['Closeness_5'] = (df.LIMIT_BAL - df.BILL_AMT5) / df.LIMIT_BAL\n",
    "df['Closeness_4'] = (df.LIMIT_BAL - df.BILL_AMT4) / df.LIMIT_BAL\n",
    "df['Closeness_3'] = (df.LIMIT_BAL - df.BILL_AMT3) / df.LIMIT_BAL\n",
    "df['Closeness_2'] = (df.LIMIT_BAL - df.BILL_AMT2) / df.LIMIT_BAL\n",
    "df['Closeness_1'] = (df.LIMIT_BAL - df.BILL_AMT1) / df.LIMIT_BAL\n",
    "df[['Closeness_6', 'Closeness_5', 'Closeness_4', 'Closeness_3', 'Closeness_2',\n",
    "   'Closeness_1', 'def_pay']].sample(20)"
   ]
  },
  {
   "cell_type": "markdown",
   "metadata": {
    "_cell_guid": "164fe740-d61f-44d4-836f-54bf6a5368f6",
    "_uuid": "5c6a836b922580793ea8a97701cd6a1d2ead139b",
    "collapsed": true
   },
   "source": [
    "It is now time to move on to the (hopefully less blind) machine learning part of this notebook.\n",
    "\n",
    "# Find my balance and learn my machine\n",
    "\n",
    "We have seen in the blind machine learning section of this notebook how poorly the algorithm performs if we have **imbalanced classes**. As far as I know, there are 2 \"methods\" of doing so: by appropriately sampling my training data and by using the right algorithm. It is something very new for me, so I will try to do both, step by step.\n",
    "\n",
    "First, I decide which features I want to include in my models and split the data into training and testing set. It is very important to never let the learning algorithm \"see\" the testing set or you will always be considered a cheater.\n",
    "\n",
    "I will not include the PAY_n features because I don't know how they appear, I will use AgeBin rather than AGE, I will not include SEX because the small correlation do not make sense to me and I have created two categories that include SEX."
   ]
  },
  {
   "cell_type": "code",
   "execution_count": 87,
   "metadata": {
    "_cell_guid": "6df6e5f0-153a-4f90-84ac-2b21a7fd7cf1",
    "_uuid": "dc8b7978ab76c02d6b2d233497182ec75fed0085"
   },
   "outputs": [],
   "source": [
    "features = ['LIMIT_BAL', 'EDUCATION', 'MARRIAGE', 'PAY_1','PAY_2', 'PAY_3', \n",
    "            'PAY_4', 'PAY_5', 'PAY_6','BILL_AMT1', 'BILL_AMT2',\n",
    "            'BILL_AMT3', 'BILL_AMT4', 'BILL_AMT5', 'BILL_AMT6', 'PAY_AMT1',\n",
    "            'PAY_AMT2', 'PAY_AMT3', 'PAY_AMT4', 'PAY_AMT5', 'PAY_AMT6', \n",
    "            'SE_MA', 'AgeBin', 'SE_AG', 'Avg_exp_5', 'Avg_exp_4',\n",
    "            'Avg_exp_3', 'Avg_exp_2', 'Avg_exp_1', 'Closeness_5',\n",
    "            'Closeness_4', 'Closeness_3', 'Closeness_2','Closeness_1']\n",
    "y = df['def_pay'].copy() # target\n",
    "X = df[features].copy()\n",
    "X_train, X_test, y_train, y_test = train_test_split(X, y, test_size=0.20, random_state=42)"
   ]
  },
  {
   "cell_type": "markdown",
   "metadata": {
    "_cell_guid": "9d0bacdc-d66a-4cee-977e-ace5839c8dab",
    "_uuid": "050d6524239d67e450f5cbcc0e8dbceccfa0f10b",
    "collapsed": true
   },
   "source": [
    "## Samples, samples, samples\n",
    "\n",
    "Within my train dataset I still have a certain unbalance in the target class, thus I can do the following:\n",
    "\n",
    "* I don't care, I will just pick the best model\n",
    "* I upsample the minority class\n",
    "* I downsample the majority class\n",
    "* I create a syntetic sample\n",
    "* I will just do all of it and see how it goes.\n",
    "\n",
    "IMPORTANT: everything will happen on the train dataset"
   ]
  },
  {
   "cell_type": "code",
   "execution_count": 88,
   "metadata": {
    "_cell_guid": "750603d9-6056-4c03-9c10-b7e63cff40d5",
    "_uuid": "037cf6047cc840d54b113f509d2726617a4584d1"
   },
   "outputs": [
    {
     "data": {
      "text/html": [
       "<div>\n",
       "<style scoped>\n",
       "    .dataframe tbody tr th:only-of-type {\n",
       "        vertical-align: middle;\n",
       "    }\n",
       "\n",
       "    .dataframe tbody tr th {\n",
       "        vertical-align: top;\n",
       "    }\n",
       "\n",
       "    .dataframe thead th {\n",
       "        text-align: right;\n",
       "    }\n",
       "</style>\n",
       "<table border=\"1\" class=\"dataframe\">\n",
       "  <thead>\n",
       "    <tr style=\"text-align: right;\">\n",
       "      <th></th>\n",
       "      <th>LIMIT_BAL</th>\n",
       "      <th>EDUCATION</th>\n",
       "      <th>MARRIAGE</th>\n",
       "      <th>PAY_1</th>\n",
       "      <th>PAY_2</th>\n",
       "      <th>PAY_3</th>\n",
       "      <th>PAY_4</th>\n",
       "      <th>PAY_5</th>\n",
       "      <th>PAY_6</th>\n",
       "      <th>BILL_AMT1</th>\n",
       "      <th>...</th>\n",
       "      <th>Avg_exp_4</th>\n",
       "      <th>Avg_exp_3</th>\n",
       "      <th>Avg_exp_2</th>\n",
       "      <th>Avg_exp_1</th>\n",
       "      <th>Closeness_5</th>\n",
       "      <th>Closeness_4</th>\n",
       "      <th>Closeness_3</th>\n",
       "      <th>Closeness_2</th>\n",
       "      <th>Closeness_1</th>\n",
       "      <th>def_pay</th>\n",
       "    </tr>\n",
       "  </thead>\n",
       "  <tbody>\n",
       "    <tr>\n",
       "      <th>15368</th>\n",
       "      <td>220000.0</td>\n",
       "      <td>1</td>\n",
       "      <td>1</td>\n",
       "      <td>1</td>\n",
       "      <td>1</td>\n",
       "      <td>0</td>\n",
       "      <td>0</td>\n",
       "      <td>0</td>\n",
       "      <td>1</td>\n",
       "      <td>34510.0</td>\n",
       "      <td>...</td>\n",
       "      <td>0.003118</td>\n",
       "      <td>0.002956</td>\n",
       "      <td>0.003181</td>\n",
       "      <td>0.003316</td>\n",
       "      <td>0.823959</td>\n",
       "      <td>0.834845</td>\n",
       "      <td>0.841305</td>\n",
       "      <td>0.846995</td>\n",
       "      <td>0.843136</td>\n",
       "      <td>1</td>\n",
       "    </tr>\n",
       "    <tr>\n",
       "      <th>28933</th>\n",
       "      <td>200000.0</td>\n",
       "      <td>1</td>\n",
       "      <td>1</td>\n",
       "      <td>1</td>\n",
       "      <td>0</td>\n",
       "      <td>0</td>\n",
       "      <td>0</td>\n",
       "      <td>0</td>\n",
       "      <td>0</td>\n",
       "      <td>0.0</td>\n",
       "      <td>...</td>\n",
       "      <td>0.000000</td>\n",
       "      <td>0.000000</td>\n",
       "      <td>0.000000</td>\n",
       "      <td>0.000000</td>\n",
       "      <td>1.000000</td>\n",
       "      <td>1.000000</td>\n",
       "      <td>1.000000</td>\n",
       "      <td>1.000000</td>\n",
       "      <td>1.000000</td>\n",
       "      <td>0</td>\n",
       "    </tr>\n",
       "    <tr>\n",
       "      <th>26925</th>\n",
       "      <td>130000.0</td>\n",
       "      <td>2</td>\n",
       "      <td>3</td>\n",
       "      <td>1</td>\n",
       "      <td>1</td>\n",
       "      <td>1</td>\n",
       "      <td>0</td>\n",
       "      <td>0</td>\n",
       "      <td>0</td>\n",
       "      <td>126749.0</td>\n",
       "      <td>...</td>\n",
       "      <td>0.054965</td>\n",
       "      <td>0.050574</td>\n",
       "      <td>0.044888</td>\n",
       "      <td>0.039180</td>\n",
       "      <td>-0.015069</td>\n",
       "      <td>-0.018585</td>\n",
       "      <td>-0.017300</td>\n",
       "      <td>-0.045131</td>\n",
       "      <td>0.025008</td>\n",
       "      <td>1</td>\n",
       "    </tr>\n",
       "    <tr>\n",
       "      <th>29102</th>\n",
       "      <td>180000.0</td>\n",
       "      <td>2</td>\n",
       "      <td>1</td>\n",
       "      <td>0</td>\n",
       "      <td>0</td>\n",
       "      <td>0</td>\n",
       "      <td>0</td>\n",
       "      <td>0</td>\n",
       "      <td>0</td>\n",
       "      <td>0.0</td>\n",
       "      <td>...</td>\n",
       "      <td>0.008556</td>\n",
       "      <td>0.007093</td>\n",
       "      <td>0.005319</td>\n",
       "      <td>0.004256</td>\n",
       "      <td>0.991644</td>\n",
       "      <td>0.991244</td>\n",
       "      <td>0.995833</td>\n",
       "      <td>1.000000</td>\n",
       "      <td>1.000000</td>\n",
       "      <td>0</td>\n",
       "    </tr>\n",
       "    <tr>\n",
       "      <th>8388</th>\n",
       "      <td>180000.0</td>\n",
       "      <td>2</td>\n",
       "      <td>1</td>\n",
       "      <td>0</td>\n",
       "      <td>0</td>\n",
       "      <td>0</td>\n",
       "      <td>0</td>\n",
       "      <td>0</td>\n",
       "      <td>0</td>\n",
       "      <td>375.0</td>\n",
       "      <td>...</td>\n",
       "      <td>0.002083</td>\n",
       "      <td>0.002083</td>\n",
       "      <td>0.002083</td>\n",
       "      <td>0.002083</td>\n",
       "      <td>0.997917</td>\n",
       "      <td>0.995833</td>\n",
       "      <td>0.997917</td>\n",
       "      <td>0.997917</td>\n",
       "      <td>0.997917</td>\n",
       "      <td>1</td>\n",
       "    </tr>\n",
       "    <tr>\n",
       "      <th>13285</th>\n",
       "      <td>100000.0</td>\n",
       "      <td>3</td>\n",
       "      <td>3</td>\n",
       "      <td>0</td>\n",
       "      <td>0</td>\n",
       "      <td>0</td>\n",
       "      <td>0</td>\n",
       "      <td>0</td>\n",
       "      <td>0</td>\n",
       "      <td>62300.0</td>\n",
       "      <td>...</td>\n",
       "      <td>0.007180</td>\n",
       "      <td>0.095873</td>\n",
       "      <td>0.074938</td>\n",
       "      <td>0.061960</td>\n",
       "      <td>0.605310</td>\n",
       "      <td>0.615000</td>\n",
       "      <td>0.355520</td>\n",
       "      <td>0.362410</td>\n",
       "      <td>0.377000</td>\n",
       "      <td>0</td>\n",
       "    </tr>\n",
       "    <tr>\n",
       "      <th>29979</th>\n",
       "      <td>180000.0</td>\n",
       "      <td>1</td>\n",
       "      <td>1</td>\n",
       "      <td>0</td>\n",
       "      <td>0</td>\n",
       "      <td>0</td>\n",
       "      <td>0</td>\n",
       "      <td>0</td>\n",
       "      <td>0</td>\n",
       "      <td>0.0</td>\n",
       "      <td>...</td>\n",
       "      <td>0.000000</td>\n",
       "      <td>0.000000</td>\n",
       "      <td>0.000000</td>\n",
       "      <td>0.000000</td>\n",
       "      <td>1.000000</td>\n",
       "      <td>1.000000</td>\n",
       "      <td>1.000000</td>\n",
       "      <td>1.000000</td>\n",
       "      <td>1.000000</td>\n",
       "      <td>0</td>\n",
       "    </tr>\n",
       "    <tr>\n",
       "      <th>10632</th>\n",
       "      <td>50000.0</td>\n",
       "      <td>1</td>\n",
       "      <td>2</td>\n",
       "      <td>0</td>\n",
       "      <td>1</td>\n",
       "      <td>1</td>\n",
       "      <td>0</td>\n",
       "      <td>0</td>\n",
       "      <td>0</td>\n",
       "      <td>5713.0</td>\n",
       "      <td>...</td>\n",
       "      <td>0.009780</td>\n",
       "      <td>0.006520</td>\n",
       "      <td>0.036810</td>\n",
       "      <td>0.030676</td>\n",
       "      <td>0.986960</td>\n",
       "      <td>0.980440</td>\n",
       "      <td>1.019560</td>\n",
       "      <td>0.891880</td>\n",
       "      <td>0.885740</td>\n",
       "      <td>1</td>\n",
       "    </tr>\n",
       "    <tr>\n",
       "      <th>29806</th>\n",
       "      <td>200000.0</td>\n",
       "      <td>2</td>\n",
       "      <td>2</td>\n",
       "      <td>0</td>\n",
       "      <td>0</td>\n",
       "      <td>0</td>\n",
       "      <td>0</td>\n",
       "      <td>1</td>\n",
       "      <td>0</td>\n",
       "      <td>176642.0</td>\n",
       "      <td>...</td>\n",
       "      <td>0.028962</td>\n",
       "      <td>0.027625</td>\n",
       "      <td>0.024717</td>\n",
       "      <td>0.022995</td>\n",
       "      <td>0.055350</td>\n",
       "      <td>0.016340</td>\n",
       "      <td>0.071390</td>\n",
       "      <td>0.097895</td>\n",
       "      <td>0.116790</td>\n",
       "      <td>0</td>\n",
       "    </tr>\n",
       "    <tr>\n",
       "      <th>4853</th>\n",
       "      <td>200000.0</td>\n",
       "      <td>3</td>\n",
       "      <td>1</td>\n",
       "      <td>0</td>\n",
       "      <td>0</td>\n",
       "      <td>0</td>\n",
       "      <td>0</td>\n",
       "      <td>0</td>\n",
       "      <td>0</td>\n",
       "      <td>199343.0</td>\n",
       "      <td>...</td>\n",
       "      <td>0.030395</td>\n",
       "      <td>0.037850</td>\n",
       "      <td>0.039955</td>\n",
       "      <td>0.041258</td>\n",
       "      <td>0.018295</td>\n",
       "      <td>0.012870</td>\n",
       "      <td>-0.004260</td>\n",
       "      <td>-0.000350</td>\n",
       "      <td>0.003285</td>\n",
       "      <td>1</td>\n",
       "    </tr>\n",
       "  </tbody>\n",
       "</table>\n",
       "<p>10 rows × 35 columns</p>\n",
       "</div>"
      ],
      "text/plain": [
       "       LIMIT_BAL  EDUCATION  MARRIAGE  PAY_1  PAY_2  PAY_3  PAY_4  PAY_5  \\\n",
       "15368   220000.0          1         1      1      1      0      0      0   \n",
       "28933   200000.0          1         1      1      0      0      0      0   \n",
       "26925   130000.0          2         3      1      1      1      0      0   \n",
       "29102   180000.0          2         1      0      0      0      0      0   \n",
       "8388    180000.0          2         1      0      0      0      0      0   \n",
       "13285   100000.0          3         3      0      0      0      0      0   \n",
       "29979   180000.0          1         1      0      0      0      0      0   \n",
       "10632    50000.0          1         2      0      1      1      0      0   \n",
       "29806   200000.0          2         2      0      0      0      0      1   \n",
       "4853    200000.0          3         1      0      0      0      0      0   \n",
       "\n",
       "       PAY_6  BILL_AMT1  ...  Avg_exp_4  Avg_exp_3  Avg_exp_2  Avg_exp_1  \\\n",
       "15368      1    34510.0  ...   0.003118   0.002956   0.003181   0.003316   \n",
       "28933      0        0.0  ...   0.000000   0.000000   0.000000   0.000000   \n",
       "26925      0   126749.0  ...   0.054965   0.050574   0.044888   0.039180   \n",
       "29102      0        0.0  ...   0.008556   0.007093   0.005319   0.004256   \n",
       "8388       0      375.0  ...   0.002083   0.002083   0.002083   0.002083   \n",
       "13285      0    62300.0  ...   0.007180   0.095873   0.074938   0.061960   \n",
       "29979      0        0.0  ...   0.000000   0.000000   0.000000   0.000000   \n",
       "10632      0     5713.0  ...   0.009780   0.006520   0.036810   0.030676   \n",
       "29806      0   176642.0  ...   0.028962   0.027625   0.024717   0.022995   \n",
       "4853       0   199343.0  ...   0.030395   0.037850   0.039955   0.041258   \n",
       "\n",
       "       Closeness_5  Closeness_4  Closeness_3  Closeness_2  Closeness_1  \\\n",
       "15368     0.823959     0.834845     0.841305     0.846995     0.843136   \n",
       "28933     1.000000     1.000000     1.000000     1.000000     1.000000   \n",
       "26925    -0.015069    -0.018585    -0.017300    -0.045131     0.025008   \n",
       "29102     0.991644     0.991244     0.995833     1.000000     1.000000   \n",
       "8388      0.997917     0.995833     0.997917     0.997917     0.997917   \n",
       "13285     0.605310     0.615000     0.355520     0.362410     0.377000   \n",
       "29979     1.000000     1.000000     1.000000     1.000000     1.000000   \n",
       "10632     0.986960     0.980440     1.019560     0.891880     0.885740   \n",
       "29806     0.055350     0.016340     0.071390     0.097895     0.116790   \n",
       "4853      0.018295     0.012870    -0.004260    -0.000350     0.003285   \n",
       "\n",
       "       def_pay  \n",
       "15368        1  \n",
       "28933        0  \n",
       "26925        1  \n",
       "29102        0  \n",
       "8388         1  \n",
       "13285        0  \n",
       "29979        0  \n",
       "10632        1  \n",
       "29806        0  \n",
       "4853         1  \n",
       "\n",
       "[10 rows x 35 columns]"
      ]
     },
     "execution_count": 88,
     "metadata": {},
     "output_type": "execute_result"
    }
   ],
   "source": [
    "# create the training df by remerging X_train and y_train\n",
    "df_train = X_train.join(y_train)\n",
    "df_train.sample(10)"
   ]
  },
  {
   "cell_type": "code",
   "execution_count": 89,
   "metadata": {
    "_cell_guid": "fa7b6241-ec35-4bd9-a6c8-6796cab5bd66",
    "_uuid": "e12508f9e3dc6d545c85701ace0090a3ca7c726f"
   },
   "outputs": [],
   "source": [
    "from sklearn.utils import resample"
   ]
  },
  {
   "cell_type": "code",
   "execution_count": 90,
   "metadata": {
    "_cell_guid": "a0f384f7-0e82-47e8-a1cc-b45501bd74cd",
    "_uuid": "4e9b499fc885ae9cd60a952bc7fee9e66e82a453"
   },
   "outputs": [
    {
     "name": "stdout",
     "output_type": "stream",
     "text": [
      "18677\n",
      "-----------\n",
      "5323\n",
      "-----------\n",
      "0    18677\n",
      "1     5323\n",
      "Name: def_pay, dtype: int64\n"
     ]
    }
   ],
   "source": [
    "# Separate majority and minority classes\n",
    "df_majority = df_train[df_train.def_pay==0]\n",
    "df_minority = df_train[df_train.def_pay==1]\n",
    "\n",
    "print(df_majority.def_pay.count())\n",
    "print(\"-----------\")\n",
    "print(df_minority.def_pay.count())\n",
    "print(\"-----------\")\n",
    "print(df_train.def_pay.value_counts())"
   ]
  },
  {
   "cell_type": "code",
   "execution_count": 91,
   "metadata": {
    "_cell_guid": "4ada9173-97ec-4f78-8fbb-6929e9ed50bb",
    "_uuid": "1cd3116618a42760cc4436cb36f4d3701e359d72"
   },
   "outputs": [
    {
     "data": {
      "text/plain": [
       "1    18677\n",
       "0    18677\n",
       "Name: def_pay, dtype: int64"
      ]
     },
     "execution_count": 91,
     "metadata": {},
     "output_type": "execute_result"
    }
   ],
   "source": [
    "# Upsample minority class\n",
    "df_minority_upsampled = resample(df_minority, \n",
    "                                 replace=True,     # sample with replacement\n",
    "                                 n_samples=18677,    # to match majority class\n",
    "                                 random_state=587) # reproducible results\n",
    "# Combine majority class with upsampled minority class\n",
    "df_upsampled = pd.concat([df_majority, df_minority_upsampled])\n",
    "# Display new class counts\n",
    "df_upsampled.def_pay.value_counts()"
   ]
  },
  {
   "cell_type": "code",
   "execution_count": 92,
   "metadata": {
    "_cell_guid": "054f2635-e062-45c6-9072-ec21c26bd861",
    "_uuid": "85d677968a1dfba6642ef2090addc38ebb53c063"
   },
   "outputs": [
    {
     "data": {
      "text/plain": [
       "1    5323\n",
       "0    5323\n",
       "Name: def_pay, dtype: int64"
      ]
     },
     "execution_count": 92,
     "metadata": {},
     "output_type": "execute_result"
    }
   ],
   "source": [
    "# Downsample majority class\n",
    "df_majority_downsampled = resample(df_majority, \n",
    "                                 replace=False,    # sample without replacement\n",
    "                                 n_samples=5323,     # to match minority class\n",
    "                                 random_state=587) # reproducible results\n",
    "# Combine minority class with downsampled majority class\n",
    "df_downsampled = pd.concat([df_majority_downsampled, df_minority])\n",
    "# Display new class counts\n",
    "df_downsampled.def_pay.value_counts()"
   ]
  },
  {
   "cell_type": "markdown",
   "metadata": {},
   "source": [
    "The upsample has the disadvantage of increasing the likelihood of overfitting since it replicates the minority class event. It usually outperform the downsampling.\n",
    "\n",
    "The downsample can discard potentially useful information and the sample can be biased, but it helps improving the run time\n",
    "\n",
    "To create a syntetic sample I want to use the SMOTE algorithm, which is an oversampling method which creates syntetic samples from the minority class instead of creating copies. It selects 2 or more similar instances and perturb them one at a time by random amount. This techniques should avoid overfitting problems but it risks adding noise to the model"
   ]
  },
  {
   "cell_type": "code",
   "execution_count": 93,
   "metadata": {},
   "outputs": [
    {
     "ename": "ModuleNotFoundError",
     "evalue": "No module named 'imblearn'",
     "output_type": "error",
     "traceback": [
      "\u001b[1;31m---------------------------------------------------------------------------\u001b[0m",
      "\u001b[1;31mModuleNotFoundError\u001b[0m                       Traceback (most recent call last)",
      "\u001b[1;32m<ipython-input-93-0b052d41b57a>\u001b[0m in \u001b[0;36m<module>\u001b[1;34m\u001b[0m\n\u001b[1;32m----> 1\u001b[1;33m \u001b[1;32mfrom\u001b[0m \u001b[0mimblearn\u001b[0m\u001b[1;33m.\u001b[0m\u001b[0mover_sampling\u001b[0m \u001b[1;32mimport\u001b[0m \u001b[0mSMOTE\u001b[0m\u001b[1;33m\u001b[0m\u001b[1;33m\u001b[0m\u001b[0m\n\u001b[0m",
      "\u001b[1;31mModuleNotFoundError\u001b[0m: No module named 'imblearn'"
     ]
    }
   ],
   "source": [
    "from imblearn.over_sampling import SMOTE"
   ]
  },
  {
   "cell_type": "code",
   "execution_count": null,
   "metadata": {},
   "outputs": [],
   "source": [
    "sm = SMOTE(random_state=589, ratio = 1.0)\n",
    "X_SMOTE, y_SMOTE = sm.fit_sample(X_train, y_train)\n",
    "print(len(y_SMOTE))\n",
    "print(y_SMOTE.sum())"
   ]
  },
  {
   "cell_type": "markdown",
   "metadata": {},
   "source": [
    "So now we have 4 training sets:\n",
    "\n",
    "* X_train, y_train, with their unbalance and their authenticity\n",
    "* df_upsample, which is balanced but at overfitting risk\n",
    "* df_downsample, which will be fast but also potentially useless in terms of predictability (the test set is even bigger than it)\n",
    "* X_SMOTE, y_SMOTE, which is syntetic and I don't really know it but should avoid overfitting\n",
    "\n",
    "I will do everything 4 times so that I can see the results. Now, in my mind the process goes like that:\n",
    "\n",
    "1. K-fold evaluation, run on different models should give us an idea on which one is more stable towards splitting of train and test\n",
    "2. Hyperparameter selection, so that we can have the best version of every algorithm\n",
    "3. Training\n",
    "4. Testing\n",
    "\n",
    "In these steps one pitfall we encountered already is how to evaluate. We have already seen that using accuracy is not very convenient, while using (for example) the f1 metric is.\n",
    "\n",
    "Another step would be probability calibration, which is a topic I am not particulartly familiar with (ok, *another* topic I am not particularly familiar with, smarty pants) and I will ignore for now but I will maybe elaborate in a future version of this notebook.\n",
    "\n",
    "# Algorithm Selection\n",
    "\n",
    "A very common (and profitable) technique is to use ensambles: combinations of different classifiers that create a more robust model. The basic predictor will be again a Decision tree and I will test a few different ensambles\n",
    "\n",
    "The main \"classes\" are:\n",
    "\n",
    "* baggin ensambles: which reduce the chances of overfitting by running a series of uncostrained learners in parallel and combine them\n",
    "* boosting ensambles: which improve the the flexibility of simple models by running a series of constrained learners in sequence. Each one of them will learn from the mistakes of the previous one. At the end it combines them in one unconstrained learner\n",
    "\n",
    "As a bagging ensambles I know **Random Forest**. It trains on a large number of trees and combine them. The randomness comes from the fact that each tree is allowed to choose from a random subset of features to split on and each tree is trained on a random subset of observations.\n",
    "\n",
    "The first boosting ensamble I know is the **Gradient Tree Boosting**. It tries to minimize a loss function (difference between the real value and output of the learner) using the gradient descent method. Then there is **Ada-Boost** that trains the learners to make strong prediction by focusing on examples harder and harder to classify. This is done by assigning weights to the instances and increasing the one of missclassified one.\n",
    "\n",
    "There are others, in Kaggle is very popular XG Boost, but I don't know how they work so I will ignore them even though they generally give better results."
   ]
  },
  {
   "cell_type": "code",
   "execution_count": 94,
   "metadata": {},
   "outputs": [
    {
     "ename": "ModuleNotFoundError",
     "evalue": "No module named 'xgboost'",
     "output_type": "error",
     "traceback": [
      "\u001b[1;31m---------------------------------------------------------------------------\u001b[0m",
      "\u001b[1;31mModuleNotFoundError\u001b[0m                       Traceback (most recent call last)",
      "\u001b[1;32m<ipython-input-94-cb8d03a9d213>\u001b[0m in \u001b[0;36m<module>\u001b[1;34m\u001b[0m\n\u001b[0;32m      1\u001b[0m \u001b[1;32mfrom\u001b[0m \u001b[0msklearn\u001b[0m\u001b[1;33m.\u001b[0m\u001b[0mtree\u001b[0m \u001b[1;32mimport\u001b[0m \u001b[0mDecisionTreeClassifier\u001b[0m\u001b[1;33m\u001b[0m\u001b[1;33m\u001b[0m\u001b[0m\n\u001b[0;32m      2\u001b[0m \u001b[1;32mfrom\u001b[0m \u001b[0msklearn\u001b[0m\u001b[1;33m.\u001b[0m\u001b[0mensemble\u001b[0m \u001b[1;32mimport\u001b[0m \u001b[0mRandomForestClassifier\u001b[0m \u001b[1;33m,\u001b[0m \u001b[0mGradientBoostingClassifier\u001b[0m\u001b[1;33m,\u001b[0m \u001b[0mAdaBoostClassifier\u001b[0m\u001b[1;33m\u001b[0m\u001b[1;33m\u001b[0m\u001b[0m\n\u001b[1;32m----> 3\u001b[1;33m \u001b[1;32mfrom\u001b[0m \u001b[0mxgboost\u001b[0m \u001b[1;32mimport\u001b[0m \u001b[0mXGBClassifier\u001b[0m\u001b[1;33m\u001b[0m\u001b[1;33m\u001b[0m\u001b[0m\n\u001b[0m\u001b[0;32m      4\u001b[0m \u001b[1;32mfrom\u001b[0m \u001b[0msklearn\u001b[0m\u001b[1;33m.\u001b[0m\u001b[0mmetrics\u001b[0m \u001b[1;32mimport\u001b[0m \u001b[0mf1_score\u001b[0m\u001b[1;33m\u001b[0m\u001b[1;33m\u001b[0m\u001b[0m\n",
      "\u001b[1;31mModuleNotFoundError\u001b[0m: No module named 'xgboost'"
     ]
    }
   ],
   "source": [
    "from sklearn.tree import DecisionTreeClassifier\n",
    "from sklearn.ensemble import RandomForestClassifier , GradientBoostingClassifier, AdaBoostClassifier\n",
    "from xgboost import XGBClassifier\n",
    "from sklearn.metrics import f1_score"
   ]
  },
  {
   "cell_type": "code",
   "execution_count": null,
   "metadata": {
    "collapsed": true
   },
   "outputs": [],
   "source": [
    "# classifier list for the normal training set\n",
    "clf_list = [DecisionTreeClassifier(max_depth = 3, class_weight = \"balanced\"), \n",
    "            RandomForestClassifier(n_estimators = 100, class_weight = \"balanced\"), \n",
    "            AdaBoostClassifier(DecisionTreeClassifier(max_depth = 3, class_weight = \"balanced\"),\n",
    "                               n_estimators = 100), \n",
    "            GradientBoostingClassifier(), \n",
    "            XGBClassifier()\n",
    "           ]\n",
    "# the parameters are set in order to have the same kind of tree every time"
   ]
  },
  {
   "cell_type": "code",
   "execution_count": null,
   "metadata": {},
   "outputs": [],
   "source": [
    "# use Kfold to evaluate the normal training set\n",
    "kf = KFold(n_splits=5,random_state=42,shuffle=True)\n",
    "\n",
    "mdl = []\n",
    "fold = []\n",
    "scr = []\n",
    "\n",
    "for i,(train_index, test_index) in enumerate(kf.split(df_train)):\n",
    "    training = df.iloc[train_index,:]\n",
    "    valid = df.iloc[test_index,:]\n",
    "    print(i)\n",
    "    for clf in clf_list:\n",
    "        model = clf.__class__.__name__\n",
    "        feats = training[features] #defined above\n",
    "        label = training['def_pay']\n",
    "        valid_feats = valid[features]\n",
    "        valid_label = valid['def_pay']\n",
    "        clf.fit(feats,label) \n",
    "        pred = clf.predict(valid_feats)\n",
    "        score = f1_score(y_true = valid_label, y_pred = pred)\n",
    "        fold.append(i+1)\n",
    "        scr.append(score)\n",
    "        mdl.append(model)\n",
    "        print(model)\n",
    "    \n",
    "#create a small df with the scores\n",
    "performance = pd.DataFrame({'Model': mdl, 'Score':scr,'Fold':fold})\n",
    "g_normal = ggplot(performance,aes(x='Fold',y='Score',group = 'Model',color = 'Model')) + geom_point() + geom_line()\n",
    "print(g_normal)"
   ]
  },
  {
   "cell_type": "code",
   "execution_count": null,
   "metadata": {
    "collapsed": true
   },
   "outputs": [],
   "source": [
    "# classifier list for the downsampled training set\n",
    "clf_list = [DecisionTreeClassifier(max_depth = 3), \n",
    "            RandomForestClassifier(n_estimators = 100), \n",
    "            AdaBoostClassifier(DecisionTreeClassifier(max_depth = 3), n_estimators = 100), \n",
    "            GradientBoostingClassifier(), \n",
    "            XGBClassifier()\n",
    "           ]\n",
    "# the parameters are set in order to have the same kind of tree every time\n"
   ]
  },
  {
   "cell_type": "code",
   "execution_count": null,
   "metadata": {},
   "outputs": [],
   "source": [
    "# use Kfold to evaluate the upsampled training set\n",
    "kf = KFold(n_splits=5,random_state=42,shuffle=True)\n",
    "\n",
    "mdl = []\n",
    "fold = []\n",
    "scr = []\n",
    "\n",
    "for i,(train_index, test_index) in enumerate(kf.split(df_downsampled)):\n",
    "    training = df.iloc[train_index,:]\n",
    "    valid = df.iloc[test_index,:]\n",
    "    print(i)\n",
    "    for clf in clf_list:\n",
    "        model = clf.__class__.__name__\n",
    "        feats = training[features] #defined above\n",
    "        label = training['def_pay']\n",
    "        valid_feats = valid[features]\n",
    "        valid_label = valid['def_pay']\n",
    "        clf.fit(feats,label) \n",
    "        pred = clf.predict(valid_feats)\n",
    "        score = f1_score(y_true = valid_label, y_pred = pred)\n",
    "        fold.append(i+1)\n",
    "        scr.append(score)\n",
    "        mdl.append(model)\n",
    "        print(model)\n",
    "    \n",
    "#create a small df with the scores\n",
    "performance = pd.DataFrame({'Model': mdl, 'Score':scr,'Fold':fold})\n",
    "g_downsampled = ggplot(performance,aes(x='Fold',y='Score',group = 'Model',color = 'Model')) + geom_point() + geom_line()\n",
    "print(g_downsampled)"
   ]
  },
  {
   "cell_type": "markdown",
   "metadata": {},
   "source": [
    "I need some help to do it for the SMOTE and the upsampled df's because the indexing is different. Also, these results are confusing for now.\n",
    "\n",
    "I will focus on the three ensambles I know and tune them"
   ]
  },
  {
   "cell_type": "markdown",
   "metadata": {},
   "source": [
    "### Random Forest with different samples"
   ]
  },
  {
   "cell_type": "code",
   "execution_count": null,
   "metadata": {},
   "outputs": [],
   "source": [
    "# normal training set\n",
    "param_grid = {'n_estimators': [200, 400, 600, 1000], # It is going to be a long search\n",
    "              'criterion': ['entropy', 'gini'],\n",
    "              'class_weight' : ['balanced'], 'n_jobs' : [-1]} #use all the computational power you have\n",
    "acc_scorer = make_scorer(f1_score)\n",
    "grid_forest = GridSearchCV(RandomForestClassifier(), param_grid, scoring = acc_scorer, cv=5)\n",
    "%time grid_forest = grid_forest.fit(X_train, y_train)\n",
    "print(grid_forest.best_estimator_)\n",
    "print(grid_forest.best_score_)\n",
    "forest_normal = grid_forest.best_estimator_"
   ]
  },
  {
   "cell_type": "code",
   "execution_count": null,
   "metadata": {},
   "outputs": [],
   "source": [
    "#cell added because on Kaggle it takes too much time to run\n",
    "forest_normal = RandomForestClassifier(bootstrap=True, class_weight='balanced',\n",
    "            criterion='entropy', max_depth=None, max_features='auto',\n",
    "            max_leaf_nodes=None, min_impurity_decrease=0.0,\n",
    "            min_impurity_split=None, min_samples_leaf=1,\n",
    "            min_samples_split=2, min_weight_fraction_leaf=0.0,\n",
    "            n_estimators=400, n_jobs=-1, oob_score=False,\n",
    "            random_state=None, verbose=0, warm_start=False)\n",
    "print(0.449643478486)"
   ]
  },
  {
   "cell_type": "code",
   "execution_count": null,
   "metadata": {
    "collapsed": true
   },
   "outputs": [],
   "source": [
    "y_upsampled = df_upsampled.def_pay\n",
    "X_upsampled = df_upsampled.drop(['def_pay'], axis= 1)"
   ]
  },
  {
   "cell_type": "code",
   "execution_count": null,
   "metadata": {},
   "outputs": [],
   "source": [
    "# upsampled training set\n",
    "param_grid = {'n_estimators': [200, 400, 600, 1000],\n",
    "              'criterion': ['entropy', 'gini'], 'n_jobs' : [-1]}\n",
    "acc_scorer = make_scorer(f1_score)\n",
    "grid_forest = GridSearchCV(RandomForestClassifier(), param_grid, scoring = acc_scorer, cv=5)\n",
    "%time grid_forest = grid_forest.fit(X_upsampled, y_upsampled)\n",
    "print(grid_forest.best_estimator_)\n",
    "print(grid_forest.best_score_)\n",
    "forest_upsampled = grid_forest.best_estimator_"
   ]
  },
  {
   "cell_type": "code",
   "execution_count": null,
   "metadata": {},
   "outputs": [],
   "source": [
    "#cell added because on Kaggle it takes too much time to run\n",
    "forest_upsampled = RandomForestClassifier(bootstrap=True, class_weight=None, criterion='gini',\n",
    "            max_depth=None, max_features='auto', max_leaf_nodes=None,\n",
    "            min_impurity_decrease=0.0, min_impurity_split=None,\n",
    "            min_samples_leaf=1, min_samples_split=2,\n",
    "            min_weight_fraction_leaf=0.0, n_estimators=600, n_jobs=-1,\n",
    "            oob_score=False, random_state=None, verbose=0,\n",
    "            warm_start=False)\n",
    "print(0.93295704261)"
   ]
  },
  {
   "cell_type": "code",
   "execution_count": null,
   "metadata": {
    "collapsed": true
   },
   "outputs": [],
   "source": [
    "y_downsampled = df_downsampled.def_pay\n",
    "X_downsampled = df_downsampled.drop(['def_pay'], axis = 1)"
   ]
  },
  {
   "cell_type": "code",
   "execution_count": null,
   "metadata": {},
   "outputs": [],
   "source": [
    "# downsampled training set\n",
    "param_grid = {'n_estimators': [200, 400, 600, 1000],\n",
    "              'criterion': ['entropy', 'gini'], 'n_jobs' : [-1]}\n",
    "acc_scorer = make_scorer(f1_score)\n",
    "grid_forest = GridSearchCV(RandomForestClassifier(), param_grid, scoring = acc_scorer, cv=5)\n",
    "%time grid_forest = grid_forest.fit(X_downsampled, y_downsampled)\n",
    "print(grid_forest.best_estimator_)\n",
    "print(grid_forest.best_score_)\n",
    "forest_downsampled = grid_forest.best_estimator_"
   ]
  },
  {
   "cell_type": "code",
   "execution_count": null,
   "metadata": {},
   "outputs": [],
   "source": [
    "forest_downsampled = RandomForestClassifier(bootstrap=True, class_weight=None, criterion='gini',\n",
    "            max_depth=None, max_features='auto', max_leaf_nodes=None,\n",
    "            min_impurity_decrease=0.0, min_impurity_split=None,\n",
    "            min_samples_leaf=1, min_samples_split=2,\n",
    "            min_weight_fraction_leaf=0.0, n_estimators=1000, n_jobs=-1,\n",
    "            oob_score=False, random_state=None, verbose=0,\n",
    "            warm_start=False)\n",
    "print(0.686692645307)"
   ]
  },
  {
   "cell_type": "code",
   "execution_count": null,
   "metadata": {},
   "outputs": [],
   "source": [
    "# SMOTE training set\n",
    "param_grid = {'n_estimators': [200, 400, 600, 1000],\n",
    "              'criterion': ['entropy', 'gini'], 'n_jobs' : [-1]}\n",
    "acc_scorer = make_scorer(f1_score)\n",
    "grid_forest = GridSearchCV(RandomForestClassifier(), param_grid, scoring = acc_scorer, cv=5)\n",
    "%time grid_forest = grid_forest.fit(X_SMOTE, y_SMOTE)\n",
    "print(grid_forest.best_estimator_)\n",
    "print(grid_forest.best_score_)\n",
    "forest_SMOTE = grid_forest.best_estimator_"
   ]
  },
  {
   "cell_type": "code",
   "execution_count": null,
   "metadata": {},
   "outputs": [],
   "source": [
    "forest_SMOTE = RandomForestClassifier(bootstrap=True, class_weight=None, criterion='gini',\n",
    "            max_depth=None, max_features='auto', max_leaf_nodes=None,\n",
    "            min_impurity_decrease=0.0, min_impurity_split=None,\n",
    "            min_samples_leaf=1, min_samples_split=2,\n",
    "            min_weight_fraction_leaf=0.0, n_estimators=600, n_jobs=-1,\n",
    "            oob_score=False, random_state=None, verbose=0,\n",
    "            warm_start=False)\n",
    "print(0.831423121548)"
   ]
  },
  {
   "cell_type": "markdown",
   "metadata": {},
   "source": [
    "The number of estimators is not worth to be searched in this way, I will do some tests later.\n",
    "\n",
    "I can see how upsampling is helping already, we will see the results on the test later. I can also see how the models less prone to overfitting can use more estimators to get a better result.\n",
    "\n",
    "### Ada Boost Classifier with different samples\n"
   ]
  },
  {
   "cell_type": "code",
   "execution_count": null,
   "metadata": {},
   "outputs": [],
   "source": [
    "# normal training set\n",
    "param_grid = {'n_estimators': [200,300],\n",
    "              'algorithm': ['SAMME', 'SAMME.R'],\n",
    "              'learning_rate' : [0.5, 0.75, 1.0]}\n",
    "acc_scorer = make_scorer(f1_score)\n",
    "grid_ada = GridSearchCV(AdaBoostClassifier(DecisionTreeClassifier(class_weight = \"balanced\")), \n",
    "                        param_grid, scoring = acc_scorer, cv=5)\n",
    "%time grid_ada = grid_ada.fit(X_train, y_train)\n",
    "print(grid_ada.best_estimator_)\n",
    "print(grid_ada.best_score_)\n",
    "ada_normal = grid_ada.best_estimator_"
   ]
  },
  {
   "cell_type": "code",
   "execution_count": null,
   "metadata": {},
   "outputs": [],
   "source": [
    "ada_normal = AdaBoostClassifier(algorithm='SAMME',\n",
    "          base_estimator=DecisionTreeClassifier(class_weight='balanced', criterion='gini',\n",
    "            max_depth=None, max_features=None, max_leaf_nodes=None,\n",
    "            min_impurity_decrease=0.0, min_impurity_split=None,\n",
    "            min_samples_leaf=1, min_samples_split=2,\n",
    "            min_weight_fraction_leaf=0.0, presort=False, random_state=None,\n",
    "            splitter='best'),\n",
    "          learning_rate=0.75, n_estimators=300, random_state=None)\n",
    "print(0.408435692436)"
   ]
  },
  {
   "cell_type": "code",
   "execution_count": null,
   "metadata": {},
   "outputs": [],
   "source": [
    "# upsampled training set\n",
    "param_grid = {'n_estimators': [200,300],\n",
    "              'algorithm': ['SAMME', 'SAMME.R'],\n",
    "              'learning_rate' : [0.5, 0.75, 1.0]}\n",
    "acc_scorer = make_scorer(f1_score)\n",
    "grid_ada = GridSearchCV(AdaBoostClassifier(), param_grid, scoring = acc_scorer, cv=5)\n",
    "%time grid_ada = grid_ada.fit(X_upsampled, y_upsampled)\n",
    "print(grid_ada.best_estimator_)\n",
    "print(grid_ada.best_score_)\n",
    "ada_upsampled = grid_ada.best_estimator_"
   ]
  },
  {
   "cell_type": "code",
   "execution_count": null,
   "metadata": {},
   "outputs": [],
   "source": [
    "ada_upsampled = AdaBoostClassifier(algorithm='SAMME.R', base_estimator=None,\n",
    "          learning_rate=1.0, n_estimators=300, random_state=None)\n",
    "print(0.689430792925)"
   ]
  },
  {
   "cell_type": "code",
   "execution_count": null,
   "metadata": {},
   "outputs": [],
   "source": [
    "# downsampled training set\n",
    "param_grid = {'n_estimators': [200,300],\n",
    "              'algorithm': ['SAMME', 'SAMME.R'],\n",
    "              'learning_rate' : [0.5, 0.75, 1.0]}\n",
    "acc_scorer = make_scorer(f1_score)\n",
    "grid_ada = GridSearchCV(AdaBoostClassifier(), param_grid, scoring = acc_scorer, cv=5)\n",
    "%time grid_ada = grid_ada.fit(X_downsampled, y_downsampled)\n",
    "print(grid_ada.best_estimator_)\n",
    "print(grid_ada.best_score_)\n",
    "ada_downsampled = grid_ada.best_estimator_"
   ]
  },
  {
   "cell_type": "code",
   "execution_count": null,
   "metadata": {},
   "outputs": [],
   "source": [
    "ada_downsampled = AdaBoostClassifier(algorithm='SAMME.R', base_estimator=None,\n",
    "          learning_rate=1.0, n_estimators=200, random_state=None)\n",
    "print(0.673783146613)"
   ]
  },
  {
   "cell_type": "code",
   "execution_count": null,
   "metadata": {},
   "outputs": [],
   "source": [
    "# SMOTE training set\n",
    "param_grid = {'n_estimators': [200,300],\n",
    "              'algorithm': ['SAMME', 'SAMME.R'],\n",
    "              'learning_rate' : [0.5, 0.75, 1.0]}\n",
    "acc_scorer = make_scorer(f1_score)\n",
    "grid_ada = GridSearchCV(AdaBoostClassifier(), param_grid, scoring = acc_scorer, cv=5)\n",
    "%time grid_ada = grid_ada.fit(X_SMOTE, y_SMOTE)\n",
    "print(grid_ada.best_estimator_)\n",
    "print(grid_ada.best_score_)\n",
    "ada_SMOTE = grid_ada.best_estimator_"
   ]
  },
  {
   "cell_type": "code",
   "execution_count": null,
   "metadata": {},
   "outputs": [],
   "source": [
    "ada_SMOTE = AdaBoostClassifier(algorithm='SAMME', base_estimator=None, learning_rate=0.5,\n",
    "          n_estimators=200, random_state=None)\n",
    "print(0.797835003041)"
   ]
  },
  {
   "cell_type": "markdown",
   "metadata": {},
   "source": [
    "### Gradient Boost with different samples"
   ]
  },
  {
   "cell_type": "code",
   "execution_count": null,
   "metadata": {},
   "outputs": [],
   "source": [
    "# normal training set\n",
    "param_grid = {'n_estimators': [200,300],\n",
    "              'learning_rate' : [0.5, 0.75, 1.0]}\n",
    "acc_scorer = make_scorer(f1_score)\n",
    "grid_gbc = GridSearchCV(GradientBoostingClassifier(), param_grid, scoring = acc_scorer, cv=5)\n",
    "%time grid_gbc = grid_gbc.fit(X_train, y_train)\n",
    "print(grid_gbc.best_estimator_)\n",
    "print(grid_gbc.best_score_)\n",
    "gbc_normal = grid_gbc.best_estimator_"
   ]
  },
  {
   "cell_type": "code",
   "execution_count": null,
   "metadata": {},
   "outputs": [],
   "source": [
    "gbc_normal = GradientBoostingClassifier(criterion='friedman_mse', init=None,\n",
    "              learning_rate=0.5, loss='deviance', max_depth=3,\n",
    "              max_features=None, max_leaf_nodes=None,\n",
    "              min_impurity_decrease=0.0, min_impurity_split=None,\n",
    "              min_samples_leaf=1, min_samples_split=2,\n",
    "              min_weight_fraction_leaf=0.0, n_estimators=200,\n",
    "              presort='auto', random_state=None, subsample=1.0, verbose=0,\n",
    "              warm_start=False)\n",
    "print(0.443888650557)"
   ]
  },
  {
   "cell_type": "code",
   "execution_count": null,
   "metadata": {},
   "outputs": [],
   "source": [
    "#upsampled training set\n",
    "param_grid = {'n_estimators': [200,300],\n",
    "              'learning_rate' : [0.5, 0.75, 1.0]}\n",
    "acc_scorer = make_scorer(f1_score)\n",
    "grid_gbc = GridSearchCV(GradientBoostingClassifier(), param_grid, scoring = acc_scorer, cv=5)\n",
    "%time grid_gbc = grid_gbc.fit(X_upsampled, y_upsampled)\n",
    "print(grid_gbc.best_estimator_)\n",
    "print(grid_gbc.best_score_)\n",
    "gbc_upsampled = grid_gbc.best_estimator_"
   ]
  },
  {
   "cell_type": "code",
   "execution_count": null,
   "metadata": {},
   "outputs": [],
   "source": [
    "gbc_upsampled = GradientBoostingClassifier(criterion='friedman_mse', init=None,\n",
    "              learning_rate=1.0, loss='deviance', max_depth=3,\n",
    "              max_features=None, max_leaf_nodes=None,\n",
    "              min_impurity_decrease=0.0, min_impurity_split=None,\n",
    "              min_samples_leaf=1, min_samples_split=2,\n",
    "              min_weight_fraction_leaf=0.0, n_estimators=300,\n",
    "              presort='auto', random_state=None, subsample=1.0, verbose=0,\n",
    "              warm_start=False)\n",
    "print(0.831025217754)"
   ]
  },
  {
   "cell_type": "code",
   "execution_count": null,
   "metadata": {},
   "outputs": [],
   "source": [
    "#downsampled training set\n",
    "param_grid = {'n_estimators': [200,300],\n",
    "              'learning_rate' : [0.5, 0.75, 1.0]}\n",
    "acc_scorer = make_scorer(f1_score)\n",
    "grid_gbc = GridSearchCV(GradientBoostingClassifier(), param_grid, scoring = acc_scorer, cv=5)\n",
    "%time grid_gbc = grid_gbc.fit(X_downsampled, y_downsampled)\n",
    "print(grid_gbc.best_estimator_)\n",
    "print(grid_gbc.best_score_)\n",
    "gbc_downsampled = grid_gbc.best_estimator_"
   ]
  },
  {
   "cell_type": "code",
   "execution_count": null,
   "metadata": {},
   "outputs": [],
   "source": [
    "gbc_downsampled = GradientBoostingClassifier(criterion='friedman_mse', init=None,\n",
    "              learning_rate=0.5, loss='deviance', max_depth=3,\n",
    "              max_features=None, max_leaf_nodes=None,\n",
    "              min_impurity_decrease=0.0, min_impurity_split=None,\n",
    "              min_samples_leaf=1, min_samples_split=2,\n",
    "              min_weight_fraction_leaf=0.0, n_estimators=300,\n",
    "              presort='auto', random_state=None, subsample=1.0, verbose=0,\n",
    "              warm_start=False)\n",
    "print(0.67183972731)"
   ]
  },
  {
   "cell_type": "code",
   "execution_count": null,
   "metadata": {},
   "outputs": [],
   "source": [
    "#SMOTE training set\n",
    "param_grid = {'n_estimators': [200,300],\n",
    "              'learning_rate' : [0.5, 0.75, 1.0]}\n",
    "acc_scorer = make_scorer(f1_score)\n",
    "grid_gbc = GridSearchCV(GradientBoostingClassifier(), param_grid, scoring = acc_scorer, cv=5)\n",
    "%time grid_gbc = grid_gbc.fit(X_SMOTE, y_SMOTE)\n",
    "print(grid_gbc.best_estimator_)\n",
    "print(grid_gbc.best_score_)\n",
    "gbc_SMOTE = grid_gbc.best_estimator_"
   ]
  },
  {
   "cell_type": "code",
   "execution_count": null,
   "metadata": {},
   "outputs": [],
   "source": [
    "gbc_SMOTE = GradientBoostingClassifier(criterion='friedman_mse', init=None,\n",
    "              learning_rate=0.5, loss='deviance', max_depth=3,\n",
    "              max_features=None, max_leaf_nodes=None,\n",
    "              min_impurity_decrease=0.0, min_impurity_split=None,\n",
    "              min_samples_leaf=1, min_samples_split=2,\n",
    "              min_weight_fraction_leaf=0.0, n_estimators=200,\n",
    "              presort='auto', random_state=None, subsample=1.0, verbose=0,\n",
    "              warm_start=False)\n",
    "print(0.78976849349)"
   ]
  },
  {
   "cell_type": "markdown",
   "metadata": {
    "collapsed": true
   },
   "source": [
    "The common result is that the model trained on the normal dataset, which is unbalanced, give a lower f1 score. This also tells me that the a penalized learner (the one with \"balanced\" options) do not perform as well as one that learned on a balanced sample. The upsampled learners seem to be more promising but, as mentioned, they fall into the overfitting trap more often, so we will see how they perform on the test data.\n",
    "\n",
    "\n",
    "\n",
    "\n",
    "# Training and testing\n",
    "\n",
    "It is time to see how well our models perform for real. I will run them all and hopefully see significant differences in how they reach a result.\n",
    "\n",
    "## Random Forests"
   ]
  },
  {
   "cell_type": "code",
   "execution_count": null,
   "metadata": {},
   "outputs": [],
   "source": [
    "# Normal sample training\n",
    "%time forest_normal.fit(X_train, y_train)\n",
    "predictions = forest_normal.predict(X_test)\n",
    "print(\"-------------\")\n",
    "print(\"f1 score: {}\".format(round(f1_score(y_true = y_test, y_pred = predictions),3)))\n",
    "print(\"Accuracy: {}\".format(round(accuracy_score(y_true = y_test, y_pred = predictions),3)))\n",
    "print(\"-------------\")\n",
    "print(get_feature_importance(forest_normal, features))\n",
    "print(\"-------------\")\n",
    "TP = np.sum(np.logical_and(predictions == 1, y_test == 1))\n",
    "TN = np.sum(np.logical_and(predictions == 0, y_test == 0))\n",
    "FP = np.sum(np.logical_and(predictions == 1, y_test == 0))\n",
    "FN = np.sum(np.logical_and(predictions == 0, y_test == 1))\n",
    "pred = len(predictions)\n",
    "\n",
    "print('True Positives: {}'.format(TP))\n",
    "print('False Positive: {}'.format(FP))\n",
    "print('True Negative: {}'.format(TN))\n",
    "print('False Negative: {}'.format(FN))\n",
    "print('Precision: {}'.format(round(TP/(TP+FP),2)))\n",
    "print('Recall: {}'.format(round(TP/(TP+FN),2)))\n",
    "print('Problematic ratio: {}'.format(round(FN/(FN+TP),2)))"
   ]
  },
  {
   "cell_type": "code",
   "execution_count": null,
   "metadata": {},
   "outputs": [],
   "source": [
    "# Upsample training\n",
    "%time forest_upsampled.fit(X_upsampled, y_upsampled)\n",
    "predictions = forest_upsampled.predict(X_test)\n",
    "print(\"-------------\")\n",
    "print(\"f1 score: {}\".format(round(f1_score(y_true = y_test, y_pred = predictions),3)))\n",
    "print(\"Accuracy: {}\".format(round(accuracy_score(y_true = y_test, y_pred = predictions),3)))\n",
    "print(\"-------------\")\n",
    "print(get_feature_importance(forest_upsampled, features))\n",
    "print(\"-------------\")\n",
    "TP = np.sum(np.logical_and(predictions == 1, y_test == 1))\n",
    "TN = np.sum(np.logical_and(predictions == 0, y_test == 0))\n",
    "FP = np.sum(np.logical_and(predictions == 1, y_test == 0))\n",
    "FN = np.sum(np.logical_and(predictions == 0, y_test == 1))\n",
    "pred = len(predictions)\n",
    "\n",
    "print('True Positives: {}'.format(TP))\n",
    "print('False Positive: {}'.format(FP))\n",
    "print('True Negative: {}'.format(TN))\n",
    "print('False Negative: {}'.format(FN))\n",
    "print('Precision: {}'.format(round(TP/(TP+FP),2)))\n",
    "print('Recall: {}'.format(round(TP/(TP+FN),2)))\n",
    "print('Problematic ratio: {}'.format(round(FN/(FN+TP),2)))"
   ]
  },
  {
   "cell_type": "code",
   "execution_count": null,
   "metadata": {},
   "outputs": [],
   "source": [
    "# Downsample training\n",
    "%time forest_downsampled.fit(X_downsampled, y_downsampled)\n",
    "predictions = forest_downsampled.predict(X_test)\n",
    "print(\"-------------\")\n",
    "print(\"f1 score: {}\".format(round(f1_score(y_true = y_test, y_pred = predictions),3)))\n",
    "print(\"Accuracy: {}\".format(round(accuracy_score(y_true = y_test, y_pred = predictions),3)))\n",
    "print(\"-------------\")\n",
    "print(get_feature_importance(forest_downsampled, features))\n",
    "print(\"-------------\")\n",
    "TP = np.sum(np.logical_and(predictions == 1, y_test == 1))\n",
    "TN = np.sum(np.logical_and(predictions == 0, y_test == 0))\n",
    "FP = np.sum(np.logical_and(predictions == 1, y_test == 0))\n",
    "FN = np.sum(np.logical_and(predictions == 0, y_test == 1))\n",
    "pred = len(predictions)\n",
    "\n",
    "print('True Positives: {}'.format(TP))\n",
    "print('False Positive: {}'.format(FP))\n",
    "print('True Negative: {}'.format(TN))\n",
    "print('False Negative: {}'.format(FN))\n",
    "print('Precision: {}'.format(round(TP/(TP+FP),2)))\n",
    "print('Recall: {}'.format(round(TP/(TP+FN),2)))\n",
    "print('Problematic ratio: {}'.format(round(FN/(FN+TP),2)))"
   ]
  },
  {
   "cell_type": "code",
   "execution_count": null,
   "metadata": {},
   "outputs": [],
   "source": [
    "# SMOTE training\n",
    "%time forest_SMOTE.fit(X_SMOTE, y_SMOTE)\n",
    "predictions = forest_SMOTE.predict(X_test)\n",
    "print(\"-------------\")\n",
    "print(\"f1 score: {}\".format(round(f1_score(y_true = y_test, y_pred = predictions),3)))\n",
    "print(\"Accuracy: {}\".format(round(accuracy_score(y_true = y_test, y_pred = predictions),3)))\n",
    "print(\"-------------\")\n",
    "print(get_feature_importance(forest_SMOTE, features))\n",
    "print(\"-------------\")\n",
    "TP = np.sum(np.logical_and(predictions == 1, y_test == 1))\n",
    "TN = np.sum(np.logical_and(predictions == 0, y_test == 0))\n",
    "FP = np.sum(np.logical_and(predictions == 1, y_test == 0))\n",
    "FN = np.sum(np.logical_and(predictions == 0, y_test == 1))\n",
    "pred = len(predictions)\n",
    "\n",
    "print('True Positives: {}'.format(TP))\n",
    "print('False Positive: {}'.format(FP))\n",
    "print('True Negative: {}'.format(TN))\n",
    "print('False Negative: {}'.format(FN))\n",
    "print('Precision: {}'.format(round(TP/(TP+FP),2)))\n",
    "print('Recall: {}'.format(round(TP/(TP+FN),2)))\n",
    "print('Problematic ratio: {}'.format(round(FN/(FN+TP),2)))"
   ]
  },
  {
   "cell_type": "markdown",
   "metadata": {},
   "source": [
    "## Ada Boost"
   ]
  },
  {
   "cell_type": "code",
   "execution_count": null,
   "metadata": {},
   "outputs": [],
   "source": [
    "# Normal sample training\n",
    "%time ada_normal.fit(X_train, y_train)\n",
    "predictions = ada_normal.predict(X_test)\n",
    "print(\"-------------\")\n",
    "print(\"f1 score: {}\".format(round(f1_score(y_true = y_test, y_pred = predictions),3)))\n",
    "print(\"Accuracy: {}\".format(round(accuracy_score(y_true = y_test, y_pred = predictions),3)))\n",
    "print(\"-------------\")\n",
    "print(get_feature_importance(ada_normal, features))\n",
    "print(\"-------------\")\n",
    "TP = np.sum(np.logical_and(predictions == 1, y_test == 1))\n",
    "TN = np.sum(np.logical_and(predictions == 0, y_test == 0))\n",
    "FP = np.sum(np.logical_and(predictions == 1, y_test == 0))\n",
    "FN = np.sum(np.logical_and(predictions == 0, y_test == 1))\n",
    "pred = len(predictions)\n",
    "\n",
    "print('True Positives: {}'.format(TP))\n",
    "print('False Positive: {}'.format(FP))\n",
    "print('True Negative: {}'.format(TN))\n",
    "print('False Negative: {}'.format(FN))\n",
    "print('Precision: {}'.format(round(TP/(TP+FP),2)))\n",
    "print('Recall: {}'.format(round(TP/(TP+FN),2)))\n",
    "print('Problematic ratio: {}'.format(round(FN/(FN+TP),2)))"
   ]
  },
  {
   "cell_type": "code",
   "execution_count": null,
   "metadata": {},
   "outputs": [],
   "source": [
    "# Upsample training\n",
    "%time ada_upsampled.fit(X_upsampled, y_upsampled)\n",
    "predictions = ada_upsampled.predict(X_test)\n",
    "print(\"-------------\")\n",
    "print(\"f1 score: {}\".format(round(f1_score(y_true = y_test, y_pred = predictions),3)))\n",
    "print(\"Accuracy: {}\".format(round(accuracy_score(y_true = y_test, y_pred = predictions),3)))\n",
    "print(\"-------------\")\n",
    "print(get_feature_importance(ada_upsampled, features))\n",
    "print(\"-------------\")\n",
    "TP = np.sum(np.logical_and(predictions == 1, y_test == 1))\n",
    "TN = np.sum(np.logical_and(predictions == 0, y_test == 0))\n",
    "FP = np.sum(np.logical_and(predictions == 1, y_test == 0))\n",
    "FN = np.sum(np.logical_and(predictions == 0, y_test == 1))\n",
    "pred = len(predictions)\n",
    "\n",
    "print('True Positives: {}'.format(TP))\n",
    "print('False Positive: {}'.format(FP))\n",
    "print('True Negative: {}'.format(TN))\n",
    "print('False Negative: {}'.format(FN))\n",
    "print('Precision: {}'.format(round(TP/(TP+FP),2)))\n",
    "print('Recall: {}'.format(round(TP/(TP+FN),2)))\n",
    "print('Problematic ratio: {}'.format(round(FN/(FN+TP),2)))"
   ]
  },
  {
   "cell_type": "code",
   "execution_count": null,
   "metadata": {},
   "outputs": [],
   "source": [
    "# Downsample training\n",
    "%time ada_downsampled.fit(X_downsampled, y_downsampled)\n",
    "predictions = ada_downsampled.predict(X_test)\n",
    "print(\"-------------\")\n",
    "print(\"f1 score: {}\".format(round(f1_score(y_true = y_test, y_pred = predictions),3)))\n",
    "print(\"Accuracy: {}\".format(round(accuracy_score(y_true = y_test, y_pred = predictions),3)))\n",
    "print(\"-------------\")\n",
    "print(get_feature_importance(ada_downsampled, features))\n",
    "print(\"-------------\")\n",
    "TP = np.sum(np.logical_and(predictions == 1, y_test == 1))\n",
    "TN = np.sum(np.logical_and(predictions == 0, y_test == 0))\n",
    "FP = np.sum(np.logical_and(predictions == 1, y_test == 0))\n",
    "FN = np.sum(np.logical_and(predictions == 0, y_test == 1))\n",
    "pred = len(predictions)\n",
    "\n",
    "print('True Positives: {}'.format(TP))\n",
    "print('False Positive: {}'.format(FP))\n",
    "print('True Negative: {}'.format(TN))\n",
    "print('False Negative: {}'.format(FN))\n",
    "print('Precision: {}'.format(round(TP/(TP+FP),2)))\n",
    "print('Recall: {}'.format(round(TP/(TP+FN),2)))\n",
    "print('Problematic ratio: {}'.format(round(FN/(FN+TP),2)))"
   ]
  },
  {
   "cell_type": "code",
   "execution_count": null,
   "metadata": {},
   "outputs": [],
   "source": [
    "# SMOTE training\n",
    "%time ada_SMOTE.fit(X_SMOTE, y_SMOTE)\n",
    "predictions = ada_SMOTE.predict(X_test)\n",
    "print(\"-------------\")\n",
    "print(\"f1 score: {}\".format(round(f1_score(y_true = y_test, y_pred = predictions),3)))\n",
    "print(\"Accuracy: {}\".format(round(accuracy_score(y_true = y_test, y_pred = predictions),3)))\n",
    "print(\"-------------\")\n",
    "print(get_feature_importance(ada_SMOTE, features))\n",
    "print(\"-------------\")\n",
    "TP = np.sum(np.logical_and(predictions == 1, y_test == 1))\n",
    "TN = np.sum(np.logical_and(predictions == 0, y_test == 0))\n",
    "FP = np.sum(np.logical_and(predictions == 1, y_test == 0))\n",
    "FN = np.sum(np.logical_and(predictions == 0, y_test == 1))\n",
    "pred = len(predictions)\n",
    "\n",
    "print('True Positives: {}'.format(TP))\n",
    "print('False Positive: {}'.format(FP))\n",
    "print('True Negative: {}'.format(TN))\n",
    "print('False Negative: {}'.format(FN))\n",
    "print('Precision: {}'.format(round(TP/(TP+FP),2)))\n",
    "print('Recall: {}'.format(round(TP/(TP+FN),2)))\n",
    "print('Problematic ratio: {}'.format(round(FN/(FN+TP),2)))"
   ]
  },
  {
   "cell_type": "markdown",
   "metadata": {},
   "source": [
    "## Gradient Boosting"
   ]
  },
  {
   "cell_type": "code",
   "execution_count": null,
   "metadata": {},
   "outputs": [],
   "source": [
    "# Normal sample training\n",
    "%time gbc_normal.fit(X_train, y_train)\n",
    "predictions = gbc_normal.predict(X_test)\n",
    "print(\"-------------\")\n",
    "print(\"f1 score: {}\".format(round(f1_score(y_true = y_test, y_pred = predictions),3)))\n",
    "print(\"Accuracy: {}\".format(round(accuracy_score(y_true = y_test, y_pred = predictions),3)))\n",
    "print(\"-------------\")\n",
    "print(get_feature_importance(gbc_normal, features))\n",
    "print(\"-------------\")\n",
    "TP = np.sum(np.logical_and(predictions == 1, y_test == 1))\n",
    "TN = np.sum(np.logical_and(predictions == 0, y_test == 0))\n",
    "FP = np.sum(np.logical_and(predictions == 1, y_test == 0))\n",
    "FN = np.sum(np.logical_and(predictions == 0, y_test == 1))\n",
    "pred = len(predictions)\n",
    "\n",
    "print('True Positives: {}'.format(TP))\n",
    "print('False Positive: {}'.format(FP))\n",
    "print('True Negative: {}'.format(TN))\n",
    "print('False Negative: {}'.format(FN))\n",
    "print('Precision: {}'.format(round(TP/(TP+FP),2)))\n",
    "print('Recall: {}'.format(round(TP/(TP+FN),2)))\n",
    "print('Problematic ratio: {}'.format(round(FN/(FN+TP),2)))"
   ]
  },
  {
   "cell_type": "code",
   "execution_count": null,
   "metadata": {},
   "outputs": [],
   "source": [
    "# Upsample training\n",
    "%time gbc_upsampled.fit(X_upsampled, y_upsampled)\n",
    "predictions = gbc_upsampled.predict(X_test)\n",
    "print(\"-------------\")\n",
    "print(\"f1 score: {}\".format(round(f1_score(y_true = y_test, y_pred = predictions),3)))\n",
    "print(\"Accuracy: {}\".format(round(accuracy_score(y_true = y_test, y_pred = predictions),3)))\n",
    "print(\"-------------\")\n",
    "print(get_feature_importance(gbc_upsampled, features))\n",
    "print(\"-------------\")\n",
    "TP = np.sum(np.logical_and(predictions == 1, y_test == 1))\n",
    "TN = np.sum(np.logical_and(predictions == 0, y_test == 0))\n",
    "FP = np.sum(np.logical_and(predictions == 1, y_test == 0))\n",
    "FN = np.sum(np.logical_and(predictions == 0, y_test == 1))\n",
    "pred = len(predictions)\n",
    "\n",
    "print('True Positives: {}'.format(TP))\n",
    "print('False Positive: {}'.format(FP))\n",
    "print('True Negative: {}'.format(TN))\n",
    "print('False Negative: {}'.format(FN))\n",
    "print('Precision: {}'.format(round(TP/(TP+FP),2)))\n",
    "print('Recall: {}'.format(round(TP/(TP+FN),2)))\n",
    "print('Problematic ratio: {}'.format(round(FN/(FN+TP),2)))"
   ]
  },
  {
   "cell_type": "code",
   "execution_count": null,
   "metadata": {},
   "outputs": [],
   "source": [
    "# Downsample training\n",
    "%time gbc_downsampled.fit(X_downsampled, y_downsampled)\n",
    "predictions = gbc_downsampled.predict(X_test)\n",
    "print(\"-------------\")\n",
    "print(\"f1 score: {}\".format(round(f1_score(y_true = y_test, y_pred = predictions),3)))\n",
    "print(\"Accuracy: {}\".format(round(accuracy_score(y_true = y_test, y_pred = predictions),3)))\n",
    "print(\"-------------\")\n",
    "print(get_feature_importance(gbc_downsampled, features))\n",
    "print(\"-------------\")\n",
    "TP = np.sum(np.logical_and(predictions == 1, y_test == 1))\n",
    "TN = np.sum(np.logical_and(predictions == 0, y_test == 0))\n",
    "FP = np.sum(np.logical_and(predictions == 1, y_test == 0))\n",
    "FN = np.sum(np.logical_and(predictions == 0, y_test == 1))\n",
    "pred = len(predictions)\n",
    "\n",
    "print('True Positives: {}'.format(TP))\n",
    "print('False Positive: {}'.format(FP))\n",
    "print('True Negative: {}'.format(TN))\n",
    "print('False Negative: {}'.format(FN))\n",
    "print('Precision: {}'.format(round(TP/(TP+FP),2)))\n",
    "print('Recall: {}'.format(round(TP/(TP+FN),2)))\n",
    "print('Problematic ratio: {}'.format(round(FN/(FN+TP),2)))"
   ]
  },
  {
   "cell_type": "code",
   "execution_count": null,
   "metadata": {},
   "outputs": [],
   "source": [
    "# SMOTE training\n",
    "%time gbc_SMOTE.fit(X_SMOTE, y_SMOTE)\n",
    "predictions = gbc_SMOTE.predict(X_test)\n",
    "print(\"-------------\")\n",
    "print(\"f1 score: {}\".format(round(f1_score(y_true = y_test, y_pred = predictions),3)))\n",
    "print(\"Accuracy: {}\".format(round(accuracy_score(y_true = y_test, y_pred = predictions),3)))\n",
    "print(\"-------------\")\n",
    "print(get_feature_importance(gbc_SMOTE, features))\n",
    "print(\"-------------\")\n",
    "TP = np.sum(np.logical_and(predictions == 1, y_test == 1))\n",
    "TN = np.sum(np.logical_and(predictions == 0, y_test == 0))\n",
    "FP = np.sum(np.logical_and(predictions == 1, y_test == 0))\n",
    "FN = np.sum(np.logical_and(predictions == 0, y_test == 1))\n",
    "pred = len(predictions)\n",
    "\n",
    "print('True Positives: {}'.format(TP))\n",
    "print('False Positive: {}'.format(FP))\n",
    "print('True Negative: {}'.format(TN))\n",
    "print('False Negative: {}'.format(FN))\n",
    "print('Precision: {}'.format(round(TP/(TP+FP),2)))\n",
    "print('Recall: {}'.format(round(TP/(TP+FN),2)))\n",
    "print('Problematic ratio: {}'.format(round(FN/(FN+TP),2)))"
   ]
  },
  {
   "cell_type": "markdown",
   "metadata": {
    "collapsed": true
   },
   "source": [
    "These results are certainly not good. I can see how some aspects of the predictions were improved by a more scientific way of training the models, but I can't see anyone using them for any practical purpose.\n",
    "\n",
    "In spite of using very basic models and not going too deep into how to improve them, I can see that setting a specific goal would have directed this notebook in a more specific direction. For example, if the interest of a bank is to predict the default of its clients, it might be better to use a model less incline to return false negatives. However, if the bank (and it is most likely the case) will then invest resources to prevent the default of its clients, the role of false positives will become more and more relevant.\n",
    "\n",
    "In other words, here I have evaluated everything with a generally good indicator (the f1-score) but my goal will very rarely be to get the highest result. Thus it can be a nice thing to define a cost function myself, which would take into account the cost of TP, FP, TN, and FN, and train my models in order to minimize it.\n",
    "\n",
    "More importantly, I analyzed and created features without using any domanin knowledge, but rather just what I can define as common sense. This is not the right way of proceeding because it can push me in the wrong direction and then get me very poor results. Just saying.\n",
    "\n",
    "On the technical point of view, I hope this is going to be a nice starting point, I know more things than when I started and thus I don't feel it was a complete waste of time. Speaking of which, the grid search was, I feel, a complete waste of time. Now we know.\n",
    "\n",
    "If you have any recommendations on how to improve my code or, even better, you have noticed that I have completely overlooked an important aspect of the problem, please let me know."
   ]
  },
  {
   "cell_type": "code",
   "execution_count": null,
   "metadata": {
    "collapsed": true
   },
   "outputs": [],
   "source": []
  }
 ],
 "metadata": {
  "kernelspec": {
   "display_name": "Python 3",
   "language": "python",
   "name": "python3"
  },
  "language_info": {
   "codemirror_mode": {
    "name": "ipython",
    "version": 3
   },
   "file_extension": ".py",
   "mimetype": "text/x-python",
   "name": "python",
   "nbconvert_exporter": "python",
   "pygments_lexer": "ipython3",
   "version": "3.8.3"
  }
 },
 "nbformat": 4,
 "nbformat_minor": 1
}
